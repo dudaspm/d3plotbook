{
 "cells": [
  {
   "cell_type": "markdown",
   "id": "18d0327e-e107-48bb-adb9-b9d3ac3b7f15",
   "metadata": {},
   "source": [
    "# The Basics - Intro"
   ]
  },
  {
   "cell_type": "code",
   "execution_count": null,
   "id": "9c34486b-7ecd-46c0-96e7-d71d1d65d626",
   "metadata": {},
   "outputs": [],
   "source": []
  }
 ],
 "metadata": {
  "kernelspec": {
   "display_name": "Python 3",
   "language": "python",
   "name": "python3"
  },
  "language_info": {
   "codemirror_mode": {
    "name": "ipython",
    "version": 3
   },
   "file_extension": ".py",
   "mimetype": "text/x-python",
   "name": "python",
   "nbconvert_exporter": "python",
   "pygments_lexer": "ipython3",
   "version": "3.7.10"
  }
 },
 "nbformat": 4,
 "nbformat_minor": 5
}