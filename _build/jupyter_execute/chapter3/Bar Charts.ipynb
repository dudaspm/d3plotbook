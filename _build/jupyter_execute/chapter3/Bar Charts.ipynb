{
 "cells": [
  {
   "cell_type": "markdown",
   "metadata": {},
   "source": [
    "# Bar Charts"
   ]
  },
  {
   "cell_type": "markdown",
   "metadata": {},
   "source": [
    "### Data"
   ]
  },
  {
   "cell_type": "code",
   "execution_count": 1,
   "metadata": {},
   "outputs": [
    {
     "ename": "ModuleNotFoundError",
     "evalue": "No module named 'pandas'",
     "output_type": "error",
     "traceback": [
      "\u001b[1;31m---------------------------------------------------------------------------\u001b[0m",
      "\u001b[1;31mModuleNotFoundError\u001b[0m                       Traceback (most recent call last)",
      "\u001b[1;32m~\\AppData\\Local\\Temp/ipykernel_6836/3202616535.py\u001b[0m in \u001b[0;36m<module>\u001b[1;34m\u001b[0m\n\u001b[1;32m----> 1\u001b[1;33m \u001b[1;32mimport\u001b[0m \u001b[0mpandas\u001b[0m \u001b[1;32mas\u001b[0m \u001b[0mpd\u001b[0m\u001b[1;33m\u001b[0m\u001b[1;33m\u001b[0m\u001b[0m\n\u001b[0m\u001b[0;32m      2\u001b[0m \u001b[0murl\u001b[0m\u001b[1;33m=\u001b[0m\u001b[1;34m\"https://gist.githubusercontent.com/dudaspm/e518430a731ac11f52de9217311c674d/raw/4c2f2bd6639582a420ef321493188deebc4a575e/StateCollege2000-2020.csv\"\u001b[0m\u001b[1;33m\u001b[0m\u001b[1;33m\u001b[0m\u001b[0m\n\u001b[0;32m      3\u001b[0m \u001b[0mdata\u001b[0m \u001b[1;33m=\u001b[0m \u001b[1;33m[\u001b[0m\u001b[1;33m]\u001b[0m\u001b[1;33m\u001b[0m\u001b[1;33m\u001b[0m\u001b[0m\n\u001b[0;32m      4\u001b[0m \u001b[0mdata\u001b[0m\u001b[1;33m=\u001b[0m\u001b[0mpd\u001b[0m\u001b[1;33m.\u001b[0m\u001b[0mread_csv\u001b[0m\u001b[1;33m(\u001b[0m\u001b[0murl\u001b[0m\u001b[1;33m)\u001b[0m\u001b[1;33m\u001b[0m\u001b[1;33m\u001b[0m\u001b[0m\n\u001b[0;32m      5\u001b[0m \u001b[0mdata\u001b[0m \u001b[1;33m=\u001b[0m \u001b[0mdata\u001b[0m\u001b[1;33m.\u001b[0m\u001b[0mfillna\u001b[0m\u001b[1;33m(\u001b[0m\u001b[1;36m0\u001b[0m\u001b[1;33m)\u001b[0m \u001b[1;31m# replace all NAs with 0s\u001b[0m\u001b[1;33m\u001b[0m\u001b[1;33m\u001b[0m\u001b[0m\n",
      "\u001b[1;31mModuleNotFoundError\u001b[0m: No module named 'pandas'"
     ]
    }
   ],
   "source": [
    "import pandas as pd\n",
    "url=\"https://gist.githubusercontent.com/dudaspm/e518430a731ac11f52de9217311c674d/raw/4c2f2bd6639582a420ef321493188deebc4a575e/StateCollege2000-2020.csv\"\n",
    "data = []\n",
    "data=pd.read_csv(url)\n",
    "data = data.fillna(0) # replace all NAs with 0s\n",
    "data.to_csv('weather.csv', index = False, header=True)\n",
    "data.head()"
   ]
  },
  {
   "cell_type": "markdown",
   "metadata": {},
   "source": [
    "### Acknowledgement \n",
    "\n",
    "<cite>Cite as: Menne, Matthew J., Imke Durre, Bryant Korzeniewski, Shelley McNeal, Kristy Thomas, Xungang Yin, Steven Anthony, Ron Ray, Russell S. Vose, Byron E.Gleason, and Tamara G. Houston (2012): Global Historical Climatology Network - Daily (GHCN-Daily), Version 3. CITY:US420020. NOAA National Climatic Data Center. doi:10.7289/V5D21VHZ 02/22/2021. \n",
    "\n",
    "Publications citing this dataset should also cite the following article: Matthew J. Menne, Imke Durre, Russell S. Vose, Byron E. Gleason, and Tamara G. Houston, 2012: An Overview of the Global Historical Climatology Network-Daily Database. J. Atmos. Oceanic Technol., 29, 897-910. doi:10.1175/JTECH-D-11-00103.1. \n",
    "\n",
    "Use liability: NOAA and NCEI cannot provide any warranty as to the accuracy, reliability, or completeness of furnished data. Users assume responsibility to determine the usability of these data. The user is responsible for the results of any application of this data for other than its intended purpose.</cite>\n",
    "\n",
    "Links:\n",
    "https://data.noaa.gov/onestop/\n",
    "\n",
    "https://www.ncdc.noaa.gov/cdo-web/search\n",
    "\n",
    "Bostock, M., Ogievetsky, V., & Heer, J. (2011). D³ data-driven documents. *IEEE transactions on visualization and computer graphics*, 17(12), 2301-2309."
   ]
  },
  {
   "cell_type": "code",
   "execution_count": 12,
   "metadata": {},
   "outputs": [
    {
     "data": {
      "application/javascript": [
       "\n",
       "    require.config({\n",
       "      paths: {\n",
       "        d3: \"https://d3js.org/d3.v6.min\"\n",
       "      }\n",
       "    })"
      ],
      "text/plain": [
       "<IPython.core.display.Javascript object>"
      ]
     },
     "metadata": {},
     "output_type": "display_data"
    }
   ],
   "source": [
    "from IPython.display import HTML, Javascript, display\n",
    "\n",
    "def configure_d3():\n",
    "    display(Javascript(\"\"\"\n",
    "    require.config({\n",
    "      paths: {\n",
    "        d3: \"https://d3js.org/d3.v6.min\"\n",
    "      }\n",
    "    })\"\"\"))\n",
    "\n",
    "\n",
    "configure_d3()"
   ]
  },
  {
   "cell_type": "markdown",
   "metadata": {},
   "source": [
    "### Group"
   ]
  },
  {
   "cell_type": "code",
   "execution_count": 13,
   "metadata": {},
   "outputs": [
    {
     "data": {
      "text/html": [
       "<script type=\"text/javascript\">   \n",
       "require(['d3'], function (d3) {\n",
       "\n",
       "    d3.csv('weather.csv')\n",
       "        .then(function(data) {\n",
       "            const dateConverter = d3.timeParse(\"%_m/%_d/%Y\")\n",
       "            const daysOfTheWeek = d3.timeFormat(\"%a\")\n",
       "            data = data.map(d=> ({\"DATE\":dateConverter(d.DATE),\"PRCP\":+d.PRCP}))\n",
       "            console.log(d3.group(data, d => daysOfTheWeek(d.DATE)))\n",
       "        })\n",
       "        .catch(function(error){\n",
       "\n",
       "        })\n",
       "\n",
       "})\n",
       "</script>\n"
      ],
      "text/plain": [
       "<IPython.core.display.HTML object>"
      ]
     },
     "metadata": {},
     "output_type": "display_data"
    }
   ],
   "source": [
    "%%html\n",
    "<script type=\"text/javascript\">   \n",
    "require(['d3'], function (d3) {\n",
    "    \n",
    "    d3.csv('weather.csv')\n",
    "        .then(function(data) {\n",
    "            const dateConverter = d3.timeParse(\"%_m/%_d/%Y\")\n",
    "            const daysOfTheWeek = d3.timeFormat(\"%a\")\n",
    "            data = data.map(d=> ({\"DATE\":dateConverter(d.DATE),\"PRCP\":+d.PRCP}))\n",
    "            console.log(d3.group(data, d => daysOfTheWeek(d.DATE)))\n",
    "        })\n",
    "        .catch(function(error){\n",
    "        \n",
    "        })\n",
    "    \n",
    "})\n",
    "</script>"
   ]
  },
  {
   "cell_type": "markdown",
   "metadata": {},
   "source": [
    "### Rollup"
   ]
  },
  {
   "cell_type": "code",
   "execution_count": 14,
   "metadata": {},
   "outputs": [
    {
     "data": {
      "text/html": [
       "<script type=\"text/javascript\">   \n",
       "require(['d3'], function (d3) {\n",
       "\n",
       "    d3.csv('weather.csv')\n",
       "        .then(function(data) {\n",
       "            const dateConverter = d3.timeParse(\"%_m/%_d/%Y\")\n",
       "            const daysOfTheWeek = d3.timeFormat(\"%a\")\n",
       "            data = data.map(d=> ({\"DATE\":dateConverter(d.DATE),\"PRCP\":+d.PRCP}))\n",
       "            console.log(d3.rollup(data, v => d3.mean(v, d => d.PRCP), k => daysOfTheWeek(k.DATE)))\n",
       "        })\n",
       "        .catch(function(error){\n",
       "\n",
       "        })\n",
       "\n",
       "})\n",
       "</script>\n"
      ],
      "text/plain": [
       "<IPython.core.display.HTML object>"
      ]
     },
     "metadata": {},
     "output_type": "display_data"
    }
   ],
   "source": [
    "%%html\n",
    "<script type=\"text/javascript\">   \n",
    "require(['d3'], function (d3) {\n",
    "    \n",
    "    d3.csv('weather.csv')\n",
    "        .then(function(data) {\n",
    "            const dateConverter = d3.timeParse(\"%_m/%_d/%Y\")\n",
    "            const daysOfTheWeek = d3.timeFormat(\"%a\")\n",
    "            data = data.map(d=> ({\"DATE\":dateConverter(d.DATE),\"PRCP\":+d.PRCP}))\n",
    "            console.log(d3.rollup(data, v => d3.mean(v, d => d.PRCP), k => daysOfTheWeek(k.DATE)))\n",
    "        })\n",
    "        .catch(function(error){\n",
    "        \n",
    "        })\n",
    "    \n",
    "})\n",
    "</script>"
   ]
  },
  {
   "cell_type": "markdown",
   "metadata": {},
   "source": [
    "### ScaleBand"
   ]
  },
  {
   "cell_type": "code",
   "execution_count": 15,
   "metadata": {},
   "outputs": [
    {
     "data": {
      "text/html": [
       "\n",
       "<script type=\"text/javascript\">   \n",
       "require(['d3'], function (d3) {\n",
       "\n",
       "    const someData = [0,4,14,20,30,31,42,50,59,62]\n",
       "    tryingScaleBands = d3.scaleBand().range([0,100]).domain(d3.extent(someData))\n",
       "    d3.select(\"div#graph1\").text(someData.map(d=>tryingScaleBands(d))) \n",
       "})\n",
       "</script>\n",
       "<div id=\"graph1\"></div>\n"
      ],
      "text/plain": [
       "<IPython.core.display.HTML object>"
      ]
     },
     "metadata": {},
     "output_type": "display_data"
    }
   ],
   "source": [
    "%%html\n",
    "\n",
    "<script type=\"text/javascript\">   \n",
    "require(['d3'], function (d3) {\n",
    "    \n",
    "    const someData = [0,4,14,20,30,31,42,50,59,62]\n",
    "    tryingScaleBands = d3.scaleBand().range([0,100]).domain(d3.extent(someData))\n",
    "    d3.select(\"div#graph1\").text(someData.map(d=>tryingScaleBands(d))) \n",
    "})\n",
    "</script>\n",
    "<div id=\"graph1\"></div>"
   ]
  },
  {
   "cell_type": "code",
   "execution_count": 16,
   "metadata": {},
   "outputs": [
    {
     "data": {
      "text/html": [
       "\n",
       "<script type=\"text/javascript\">   \n",
       "require(['d3'], function (d3) {\n",
       "\n",
       "    const someData = [0,4,14,20,30,31,42,50,59,62]\n",
       "    tryingScaleBands = d3.scaleBand().range([0,100]).domain(someData.map(d=>d))\n",
       "    d3.select(\"div#graph2\").text(\"list length: \"+(someData.length)+\"   scaleBand output: \"+someData.map(d=>tryingScaleBands(d))) \n",
       "})\n",
       "</script>\n",
       "<div id=\"graph2\"></div>\n"
      ],
      "text/plain": [
       "<IPython.core.display.HTML object>"
      ]
     },
     "metadata": {},
     "output_type": "display_data"
    }
   ],
   "source": [
    "%%html\n",
    "\n",
    "<script type=\"text/javascript\">   \n",
    "require(['d3'], function (d3) {\n",
    "    \n",
    "    const someData = [0,4,14,20,30,31,42,50,59,62]\n",
    "    tryingScaleBands = d3.scaleBand().range([0,100]).domain(someData.map(d=>d))\n",
    "    d3.select(\"div#graph2\").text(\"list length: \"+(someData.length)+\"   scaleBand output: \"+someData.map(d=>tryingScaleBands(d))) \n",
    "})\n",
    "</script>\n",
    "<div id=\"graph2\"></div>"
   ]
  },
  {
   "cell_type": "markdown",
   "metadata": {},
   "source": [
    "This makes a bit more sense. As you can see, this is evenly spacing all of our data based on the maximum range (100) minus the minimal range value (0), then dividing this by the size (the number of values) in the list. Or..."
   ]
  },
  {
   "cell_type": "markdown",
   "metadata": {},
   "source": [
    "$$\n",
    "\\frac{(\\text{maximum range value} - \\text{minimum range value})}{\\text{total number in the array}} = \\frac{(100-0)}{10}\n",
    "$$"
   ]
  },
  {
   "cell_type": "markdown",
   "metadata": {},
   "source": [
    "scaleBand() has a couple of neat features that can help with bar chart design. Two in particular are called scaleBand().bandwidth and scaleBand().padding.\n",
    "* scaleBand().bandwidth - will give you the distance between points in scaleBand(). Meaning, it will be perfect for our bar charts, because we will be using rectangles for our bars.\n",
    "* scaleBand().padding - increases the padding between each bar.\n",
    "\n",
    "Here is a graph showing the use of scaleBand() and using scaleBand().bandwidth to create the width of the rectangles."
   ]
  },
  {
   "attachments": {
    "learning-d3-js-part-5-bar-chart.svg": {
     "image/svg+xml": [
      "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"
     ]
    }
   },
   "cell_type": "markdown",
   "metadata": {},
   "source": [
    "![learning-d3-js-part-5-bar-chart.svg](attachment:learning-d3-js-part-5-bar-chart.svg)"
   ]
  },
  {
   "cell_type": "markdown",
   "metadata": {},
   "source": [
    "The figure below maps out 10 values and padding for 0 to 1. 0 indicating no padding and 1 meaning 100% padding (or no rectangle at all). Notice how values and the axis get evenly spaced based on the padding as well."
   ]
  },
  {
   "attachments": {
    "learning-d3-js-part-5-bar-chart_2.svg": {
     "image/svg+xml": [
      "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"
     ]
    }
   },
   "cell_type": "markdown",
   "metadata": {},
   "source": [
    "![learning-d3-js-part-5-bar-chart_2.svg](attachment:learning-d3-js-part-5-bar-chart_2.svg)"
   ]
  },
  {
   "cell_type": "markdown",
   "metadata": {},
   "source": [
    "Creating the rectangles themselves is another significant change from the line chart. With rectangles, you need 4 components:"
   ]
  },
  {
   "cell_type": "markdown",
   "metadata": {},
   "source": [
    "\n",
    "  <span style=\"color:#008ec4\">svg</span>.append(<span style=\"color:#008ec4\">\"g\"</span>).selectAll(<span style=\"color:#008ec4\">\"rect\"</span>)\n",
    "<br>&nbsp;&nbsp;.data(<span style=\"color:#008ec4\">data</span>)\n",
    "<br>&nbsp;&nbsp;.join(<span style=\"color:#008ec4\">\"rect\"</span>)\n",
    "<br>the x position (as it relates to the date)\n",
    "<br>&nbsp;&nbsp;.attr(<span style=\"color:#008ec4\">\"x\"</span>, (d,i)=>x(<span style=\"color:#008ec4\">d</span>.day)) \n",
    "<br>the y position (as it relates to the interest), NOTE it is NOT the x-axis\n",
    "<br>&nbsp;&nbsp;.attr(<span style=\"color:#008ec4\">\"y\"</span>,(d,i)=>y(<span style=\"color:#008ec4\">d</span>.avg))\n",
    "<br>the width, which we talked about in regards to using the bandwidth\n",
    "<br>&nbsp;&nbsp;.attr(<span style=\"color:#008ec4\">\"width\"</span>,<span style=\"color:#008ec4\">x</span>.bandwidth)\n",
    "<br>this one is a bit, well, weird. I will explain below. \n",
    "<br>&nbsp;&nbsp;.attr(<span style=\"color:#008ec4\">\"height\"</span>, d => <span style=\"color:#008ec4\">y</span>(0) - <span style=\"color:#008ec4\">y</span>(<span style=\"color:#008ec4\">d</span>.avg))\n",
    "<br>&nbsp;&nbsp;.style(<span style=\"color:#008ec4\">\"stroke-width\"</span>, 2) \n",
    "<br>&nbsp;&nbsp;.style(<span style=\"color:#008ec4\">\"stroke\"</span>,<span style=\"color:#008ec4\">\"black\"</span>)\n",
    "<br>&nbsp;&nbsp;.style(<span style=\"color:#008ec4\">\"fill\"</span>, <span style=\"color:#008ec4\">\"steelblue\"</span>)\n"
   ]
  },
  {
   "cell_type": "markdown",
   "metadata": {},
   "source": [
    "OK, let's talk about height. The weirdness stems from our 0,0 being in the top-left corner of the screen. Meaning, when we create a rectangle and add a ''height,'' it goes down and not up. \n",
    "\n",
    "Here is an example of a rectangle that starts in the middle of the box. When we add height, it goes down. You may think, well, can I use a negative height? The answer is no. What does this mean? Continue below."
   ]
  },
  {
   "attachments": {
    "learning-d3-js-part-5-bar-chart_4.svg": {
     "image/svg+xml": [
      "PHN2ZyB2aWV3Qm94PSIwLDAsNjAwLDIwMCIgd2lkdGg9IjYwMCIgaGVpZ2h0PSIyMDAiIHhtbG5zPSJodHRwOi8vd3d3LnczLm9yZy8yMDAwL3N2ZyIgeG1sbnM6eGxpbms9Imh0dHA6Ly93d3cudzMub3JnLzE5OTkveGxpbmsiPjxyZWN0IHg9IjAiIHk9IjAiIHdpZHRoPSI2MDAiIGhlaWdodD0iMjAwIiBzdHlsZT0ic3Ryb2tlLXdpZHRoOiAyOyBzdHJva2U6IGJsYWNrOyBmaWxsOiBub25lOyIvPjxsaW5lIHgxPSIzMDAiIHkxPSIwIiB4Mj0iMzAwIiB5Mj0iMTAwIiBzdHlsZT0ic3Ryb2tlLXdpZHRoOiAyOyBzdHJva2U6IGJsYWNrOyBmaWxsOiBibGFjazsiLz48bGluZSB4MT0iMCIgeTE9IjEwMCIgeDI9IjMwMCIgeTI9IjEwMCIgc3R5bGU9InN0cm9rZS13aWR0aDogMjsgc3Ryb2tlOiBibGFjazsgZmlsbDogYmxhY2s7Ii8+PGNpcmNsZSBjeD0iMzAwIiBjeT0iMTAwIiByPSI1IiBzdHlsZT0ic3Ryb2tlLXdpZHRoOiAyOyBzdHJva2U6IGJsYWNrOyBmaWxsOiBibGFjazsiLz48cmVjdCB4PSIzMDAiIHk9IjEwMCIgd2lkdGg9IjIwIiBoZWlnaHQ9IjUwIiBzdHlsZT0ic3Ryb2tlLXdpZHRoOiAyOyBzdHJva2U6IGJsYWNrOyBmaWxsOiBzdGVlbGJsdWU7Ii8+PC9zdmc+"
     ]
    }
   },
   "cell_type": "markdown",
   "metadata": {},
   "source": [
    "![learning-d3-js-part-5-bar-chart_4.svg](attachment:learning-d3-js-part-5-bar-chart_4.svg)"
   ]
  },
  {
   "cell_type": "markdown",
   "metadata": {},
   "source": [
    "This how we get the following. We first need to recall that the y is \n",
    "<br>\n",
    ".attr(<span style=\"color:#008ec4\">\"y\"</span>,(d,i)=>y(<span style=\"color:#008ec4\">d</span>.avg))\n",
    "<br>\n",
    "This is NOT the x-axis, but the position of the actual value at that given avg.\n",
    "<br><br>\n",
    "Next, we take the maximum height value from our y scaleLinear().\n",
    "<br>\n",
    "\n",
    "y = <span style=\"color:#008ec4\">d3</span>.scaleLinear().range([<span style=\"color:#008ec4\">height</span>-<span style=\"color:#008ec4\">margin</span>.bottom , <span style=\"color:#008ec4\">margin</span>.top]).domain([<span style=\"color:#008ec4\">0,d3.max(backToList, (d,i) => d.avg)</span>])\n",
    "\n",
    "<br><br>\n",
    "The largest value is (<span style=\"color:#008ec4\">height</span>-<span style=\"color:#008ec4\">margin</span>.bottom) or in another words, the smallest index in our y scaleLinear() ( <span style=\"color:#008ec4\">y</span>(0))\n",
    "Last part we need to remember that we are starting at y(<span style=\"color:#008ec4\">d</span>.interest) and we trying to get back to the x-axis. Meaning, we need to subtract out <span style=\"color:#008ec4\">y</span>(<span style=\"color:#008ec4\">d</span>.avg)\n",
    "<br><br>\n",
    "\n",
    "We can write out the height two different ways:\n",
    "<br>\n",
    "\n",
    "\n",
    ".attr(<span style=\"color:#008ec4\">\"height\"</span>, d => <span style=\"color:#008ec4\">y</span>(0) - <span style=\"color:#008ec4\">y</span>(<span style=\"color:#008ec4\">d</span>.avg))\n",
    "\n",
    "<br>\n",
    "OR\n",
    "<br>\n",
    "\n",
    "\n",
    ".attr(<span style=\"color:#008ec4\">\"height\"</span>, d => (<span style=\"color:#008ec4\">height</span>-<span style=\"color:#008ec4\">margin</span>.bottom) - <span style=\"color:#008ec4\">y</span>(<span style=\"color:#008ec4\">d</span>.avg))\n",
    "\n",
    "<br>\n",
    "My choice? \n",
    ".attr(<span style=\"color:#008ec4\">\"height\"</span>, d => (<span style=\"color:#008ec4\">height</span>-<span style=\"color:#008ec4\">margin</span>.bottom) - <span style=\"color:#008ec4\">y</span>(<span style=\"color:#008ec4\">d</span>.avg))\n",
    "<br> because this will be true no matter what the minimal value is for y. It is constant."
   ]
  },
  {
   "cell_type": "markdown",
   "metadata": {},
   "source": [
    "Map - JavaScript | MDN. https://developer.mozilla.org/en-US/docs/Web/JavaScript/Reference/Global_Objects/Map. Accessed 9 Apr. 2021.\n"
   ]
  },
  {
   "cell_type": "code",
   "execution_count": 17,
   "metadata": {},
   "outputs": [
    {
     "data": {
      "text/html": [
       "<script type=\"text/javascript\">   \n",
       "require(['d3'], function (d3) {\n",
       "\n",
       "    d3.csv('weather.csv')\n",
       "        .then(function(data) {\n",
       "            const dateConverter = d3.timeParse(\"%_m/%_d/%Y\")\n",
       "            const daysOfTheWeek = d3.timeFormat(\"%a\")\n",
       "            data = data.map(d=> ({\"DATE\":dateConverter(d.DATE),\"PRCP\":+d.PRCP}))\n",
       "            const nestedData = d3.rollup(data, v => d3.mean(v, d => d.PRCP), d => daysOfTheWeek(d.DATE))\n",
       "            console.log(nestedData)\n",
       "            var backToList = []\n",
       "            for (let [key, value] of nestedData) {\n",
       "                console.log(key + ' = ' + value)\n",
       "                backToList.push({\"day\":key,\"avg\":value})\n",
       "            }\n",
       "            console.log(backToList)     \n",
       "\n",
       "\n",
       "        })\n",
       "        .catch(function(error){\n",
       "\n",
       "        })\n",
       "\n",
       "})\n",
       "</script>\n"
      ],
      "text/plain": [
       "<IPython.core.display.HTML object>"
      ]
     },
     "metadata": {},
     "output_type": "display_data"
    }
   ],
   "source": [
    "%%html\n",
    "<script type=\"text/javascript\">   \n",
    "require(['d3'], function (d3) {\n",
    "    \n",
    "    d3.csv('weather.csv')\n",
    "        .then(function(data) {\n",
    "            const dateConverter = d3.timeParse(\"%_m/%_d/%Y\")\n",
    "            const daysOfTheWeek = d3.timeFormat(\"%a\")\n",
    "            data = data.map(d=> ({\"DATE\":dateConverter(d.DATE),\"PRCP\":+d.PRCP}))\n",
    "            const nestedData = d3.rollup(data, v => d3.mean(v, d => d.PRCP), d => daysOfTheWeek(d.DATE))\n",
    "            console.log(nestedData)\n",
    "            var backToList = []\n",
    "            for (let [key, value] of nestedData) {\n",
    "                console.log(key + ' = ' + value)\n",
    "                backToList.push({\"day\":key,\"avg\":value})\n",
    "            }\n",
    "            console.log(backToList)     \n",
    "        \n",
    "            \n",
    "        })\n",
    "        .catch(function(error){\n",
    "        \n",
    "        })\n",
    "    \n",
    "})\n",
    "</script>"
   ]
  },
  {
   "cell_type": "markdown",
   "metadata": {},
   "source": [
    "### Graph"
   ]
  },
  {
   "cell_type": "code",
   "execution_count": 18,
   "metadata": {},
   "outputs": [
    {
     "data": {
      "text/html": [
       "<div id=\"graph3\"></div>\n",
       "<script type=\"text/javascript\">   \n",
       "require(['d3'], function (d3) {\n",
       "\n",
       "    d3.csv('weather.csv')\n",
       "        .then(function(data) {\n",
       "            const dateConverter = d3.timeParse(\"%_m/%_d/%Y\")\n",
       "            const daysOfTheWeek = d3.timeFormat(\"%a\")\n",
       "            data = data.map(d=> ({\"DATE\":dateConverter(d.DATE),\"PRCP\":+d.PRCP}))\n",
       "            const nestedData = d3.rollup(data, v => d3.mean(v, d => d.PRCP), k => daysOfTheWeek(k.DATE))\n",
       "            var backToList = []\n",
       "            for (let [key, value] of nestedData) {\n",
       "                backToList.push({\"day\":key,\"avg\":value})\n",
       "            } \n",
       "            const width = 600\n",
       "            const height = 300\n",
       "            const margin = 60 \n",
       "            const svg = d3.select(\"div#graph3\").append(\"svg\")\n",
       "                .attr(\"width\", width)\n",
       "                .attr(\"height\", height)            \n",
       "\n",
       "            const x = d3.scaleBand().range([margin , width - margin]).domain(backToList.map(d=>d.day)).padding(0)\n",
       "            const y = d3.scaleLinear().range([height-margin , margin]).domain([0,d3.max(backToList, (d,i) => d.avg)])\n",
       "\n",
       "            const xAxis = d3.axisBottom().scale(x)\n",
       "            svg.append(\"g\")\n",
       "                .attr(\"class\", \"axis\")\n",
       "                .attr(\"transform\", \"translate(0,\" + (height-margin) + \")\")\n",
       "                .call(xAxis) \n",
       "\n",
       "            svg.append(\"text\")\n",
       "                .attr(\"x\", width/2)\n",
       "                .attr(\"y\", height-5)\n",
       "                .style(\"text-anchor\", \"middle\")\n",
       "                .text(\"Days of the Week\")\n",
       "\n",
       "            const yAxis = d3.axisLeft().scale(y)\n",
       "            svg.append(\"g\")\n",
       "                .attr(\"class\", \"axis\")\n",
       "                .attr(\"transform\", \"translate(\" + margin + \",0)\")\n",
       "                .call(yAxis)\n",
       "\n",
       "            svg.append(\"text\")\n",
       "                .attr(\"transform\", \"rotate(-90,15,\"+(height/2)+\")\")\n",
       "                .attr(\"x\", 15)\n",
       "                .attr(\"y\", height/2)\n",
       "                .style(\"text-anchor\", \"middle\")\n",
       "                .text(\"Average Rainfall (inches)\")\n",
       "\n",
       "            svg.append(\"g\").selectAll(\"rect\")\n",
       "                .data(backToList)\n",
       "                .join(\"rect\")\n",
       "                .attr(\"x\", (d,i)=>x(d.day))\n",
       "                .attr(\"y\",(d,i)=>y(d.avg))\n",
       "                .attr(\"width\",x.bandwidth)\n",
       "                .attr(\"height\", d => (height-margin) - y(d.avg))\n",
       "                .style(\"stroke-width\", 2) \n",
       "                .style(\"stroke\",\"black\")\n",
       "                .style(\"fill\", \"steelblue\")\n",
       "                .append(\"title\")\n",
       "                .text(d=>d.avg)\n",
       "\n",
       "        })\n",
       "        .catch(function(error){\n",
       "\n",
       "        })\n",
       "\n",
       "})\n",
       "</script>\n"
      ],
      "text/plain": [
       "<IPython.core.display.HTML object>"
      ]
     },
     "metadata": {},
     "output_type": "display_data"
    }
   ],
   "source": [
    "%%html\n",
    "<div id=\"graph3\"></div>\n",
    "<script type=\"text/javascript\">   \n",
    "require(['d3'], function (d3) {\n",
    "    \n",
    "    d3.csv('weather.csv')\n",
    "        .then(function(data) {\n",
    "            const dateConverter = d3.timeParse(\"%_m/%_d/%Y\")\n",
    "            const daysOfTheWeek = d3.timeFormat(\"%a\")\n",
    "            data = data.map(d=> ({\"DATE\":dateConverter(d.DATE),\"PRCP\":+d.PRCP}))\n",
    "            const nestedData = d3.rollup(data, v => d3.mean(v, d => d.PRCP), k => daysOfTheWeek(k.DATE))\n",
    "            var backToList = []\n",
    "            for (let [key, value] of nestedData) {\n",
    "                backToList.push({\"day\":key,\"avg\":value})\n",
    "            } \n",
    "            const width = 600\n",
    "            const height = 300\n",
    "            const margin = 60 \n",
    "            const svg = d3.select(\"div#graph3\").append(\"svg\")\n",
    "                .attr(\"width\", width)\n",
    "                .attr(\"height\", height)            \n",
    "            \n",
    "            const x = d3.scaleBand().range([margin , width - margin]).domain(backToList.map(d=>d.day)).padding(0)\n",
    "            const y = d3.scaleLinear().range([height-margin , margin]).domain([0,d3.max(backToList, (d,i) => d.avg)])\n",
    "            \n",
    "            const xAxis = d3.axisBottom().scale(x)\n",
    "            svg.append(\"g\")\n",
    "                .attr(\"class\", \"axis\")\n",
    "                .attr(\"transform\", \"translate(0,\" + (height-margin) + \")\")\n",
    "                .call(xAxis) \n",
    "\n",
    "            svg.append(\"text\")\n",
    "                .attr(\"x\", width/2)\n",
    "                .attr(\"y\", height-5)\n",
    "                .style(\"text-anchor\", \"middle\")\n",
    "                .text(\"Days of the Week\")\n",
    "            \n",
    "            const yAxis = d3.axisLeft().scale(y)\n",
    "            svg.append(\"g\")\n",
    "                .attr(\"class\", \"axis\")\n",
    "                .attr(\"transform\", \"translate(\" + margin + \",0)\")\n",
    "                .call(yAxis)\n",
    "\n",
    "            svg.append(\"text\")\n",
    "                .attr(\"transform\", \"rotate(-90,15,\"+(height/2)+\")\")\n",
    "                .attr(\"x\", 15)\n",
    "                .attr(\"y\", height/2)\n",
    "                .style(\"text-anchor\", \"middle\")\n",
    "                .text(\"Average Rainfall (inches)\")\n",
    "\n",
    "            svg.append(\"g\").selectAll(\"rect\")\n",
    "                .data(backToList)\n",
    "                .join(\"rect\")\n",
    "                .attr(\"x\", (d,i)=>x(d.day))\n",
    "                .attr(\"y\",(d,i)=>y(d.avg))\n",
    "                .attr(\"width\",x.bandwidth)\n",
    "                .attr(\"height\", d => (height-margin) - y(d.avg))\n",
    "                .style(\"stroke-width\", 2) \n",
    "                .style(\"stroke\",\"black\")\n",
    "                .style(\"fill\", \"steelblue\")\n",
    "                .append(\"title\")\n",
    "                .text(d=>d.avg)\n",
    "            \n",
    "        })\n",
    "        .catch(function(error){\n",
    "        \n",
    "        })\n",
    "    \n",
    "})\n",
    "</script>"
   ]
  },
  {
   "cell_type": "code",
   "execution_count": null,
   "metadata": {},
   "outputs": [],
   "source": []
  }
 ],
 "metadata": {
  "kernelspec": {
   "display_name": "Python 3",
   "language": "python",
   "name": "python3"
  },
  "language_info": {
   "codemirror_mode": {
    "name": "ipython",
    "version": 3
   },
   "file_extension": ".py",
   "mimetype": "text/x-python",
   "name": "python",
   "nbconvert_exporter": "python",
   "pygments_lexer": "ipython3",
   "version": "3.7.6"
  }
 },
 "nbformat": 4,
 "nbformat_minor": 4
}