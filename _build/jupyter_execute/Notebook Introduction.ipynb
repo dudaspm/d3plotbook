{
 "cells": [
  {
   "cell_type": "markdown",
   "id": "0efd9f2d-1963-4068-b440-00cbb4960203",
   "metadata": {},
   "source": [
    "# Notebook Introduction"
   ]
  },
  {
   "cell_type": "markdown",
   "id": "1bb6bbb2-53a7-41d3-accd-bb1610756108",
   "metadata": {},
   "source": [
    "I know it tradition to have the refences at the end of books, but when you are standing on the shoulders of giants. You thank them first. "
   ]
  },
  {
   "cell_type": "markdown",
   "id": "5be661e3-41eb-4835-9448-79997c1628b2",
   "metadata": {},
   "source": [
    "## References"
   ]
  },
  {
   "cell_type": "markdown",
   "id": "c934f71d-206f-4fd9-9553-1f0177cb83be",
   "metadata": {},
   "source": [
    "```{bibliography}\n",
    "```"
   ]
  },
  {
   "cell_type": "code",
   "execution_count": null,
   "id": "312cb955-bfc2-477a-8c37-5b0077df8f50",
   "metadata": {},
   "outputs": [],
   "source": []
  }
 ],
 "metadata": {
  "kernelspec": {
   "display_name": "Python 3",
   "language": "python",
   "name": "python3"
  },
  "language_info": {
   "codemirror_mode": {
    "name": "ipython",
    "version": 3
   },
   "file_extension": ".py",
   "mimetype": "text/x-python",
   "name": "python",
   "nbconvert_exporter": "python",
   "pygments_lexer": "ipython3",
   "version": "3.7.6"
  }
 },
 "nbformat": 4,
 "nbformat_minor": 5
}