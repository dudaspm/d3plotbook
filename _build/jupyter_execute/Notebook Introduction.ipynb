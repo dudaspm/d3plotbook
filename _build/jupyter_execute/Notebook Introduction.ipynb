{
 "cells": [
  {
   "cell_type": "markdown",
   "id": "0efd9f2d-1963-4068-b440-00cbb4960203",
   "metadata": {},
   "source": [
    "# Notebook Introduction"
   ]
  },
  {
   "cell_type": "code",
   "execution_count": null,
   "id": "95accbd4-2f80-41b8-8dee-323b08610909",
   "metadata": {},
   "outputs": [],
   "source": []
  }
 ],
 "metadata": {
  "kernelspec": {
   "display_name": "Python 3",
   "language": "python",
   "name": "python3"
  },
  "language_info": {
   "codemirror_mode": {
    "name": "ipython",
    "version": 3
   },
   "file_extension": ".py",
   "mimetype": "text/x-python",
   "name": "python",
   "nbconvert_exporter": "python",
   "pygments_lexer": "ipython3",
   "version": "3.7.10"
  }
 },
 "nbformat": 4,
 "nbformat_minor": 5
}