{
 "cells": [
  {
   "cell_type": "code",
   "execution_count": 1,
   "id": "1e3c835e-c0bc-448c-ab33-645feccb6158",
   "metadata": {},
   "outputs": [],
   "source": [
    "import requests\n",
    "# URL to https://www.census.gov/geographies/mapping-files/time-series/geo/carto-boundary-file.html\n",
    "url = 'https://www2.census.gov/geo/tiger/GENZ2018/shp/cb_2018_us_county_500k.zip'\n",
    "# get the zip file\n",
    "r = requests.get(url)\n",
    "# create a new file called 2018_us_county_500k.zip\n",
    "f = open('2018_us_county_500k.zip', \"wb\")\n",
    "# write the zip from www2.census.gov to this new file\n",
    "f.write(r.content)\n",
    "# close the new file \n",
    "f.close()"
   ]
  },
  {
   "cell_type": "code",
   "execution_count": 2,
   "id": "7620b120-8a73-4e24-877b-a5b322779174",
   "metadata": {},
   "outputs": [
    {
     "name": "stdout",
     "output_type": "stream",
     "text": [
      "Calling Ogre to perform shapefile to geoJSON conversion...\n"
     ]
    }
   ],
   "source": [
    "import requests\n",
    "import json\n",
    "url = r'http://ogre.adc4gis.com/convert'\n",
    "f = open('2018_us_county_500k.zip', \"rb\")\n",
    "shp_data = {'upload': f}\n",
    "print('Calling Ogre to perform shapefile to geoJSON conversion...')\n",
    "try: \n",
    "    r = requests.post(url, files=shp_data)\n",
    "except:\n",
    "    print(\"There was an error with the HTTP request\")\n",
    "    raise\n",
    "r.raise_for_status()\n",
    "# close the new file \n",
    "f.close()\n",
    "with open(\"2018_us_county_500k.json\", 'w') as f: \n",
    "    f.write(json.dumps(r.json()))\n",
    "f.close()"
   ]
  },
  {
   "cell_type": "code",
   "execution_count": null,
   "id": "3552fd84-72a2-4db0-999e-5040dd08716a",
   "metadata": {},
   "outputs": [],
   "source": []
  }
 ],
 "metadata": {
  "kernelspec": {
   "display_name": "Python 3",
   "language": "python",
   "name": "python3"
  },
  "language_info": {
   "codemirror_mode": {
    "name": "ipython",
    "version": 3
   },
   "file_extension": ".py",
   "mimetype": "text/x-python",
   "name": "python",
   "nbconvert_exporter": "python",
   "pygments_lexer": "ipython3",
   "version": "3.7.6"
  }
 },
 "nbformat": 4,
 "nbformat_minor": 5
}