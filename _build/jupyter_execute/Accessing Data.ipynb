{
 "cells": [
  {
   "cell_type": "markdown",
   "id": "55633419-750b-4a6f-9453-811f7b809666",
   "metadata": {},
   "source": [
    "# Accessing Data"
   ]
  },
  {
   "cell_type": "markdown",
   "id": "8b357a1c-b5fd-4edc-95d9-ca9338d59020",
   "metadata": {},
   "source": [
    "In this notebook, we discuss how to access datasets within D3.js. There are two ways to accomplish this in our Jupyter Lab environment. \n",
    "\n",
    "## d3-fetch\n",
    "The most straightforward way is to use [d3-fetch](https://github.com/d3/d3-fetch). \n",
    "\n",
    "**JavaScript**\n",
    "```javascript\n",
    "d3.csv(\"/path/to/file.csv\").then((data) => { })\n",
    "```\n",
    "\n",
    "## Python (Pandas) + d3-fetch\n",
    "The second way include d3-fetch, but processing the data first in python, saving the file, and then using d3.fetch. Typically, I will use a library called Pandas to do this, as it similar features to d3.js. \n",
    "\n",
    "**Python**\n",
    "```python\n",
    "import pandas as pd\n",
    "data=pd.read_csv(\"/path/to/file.csv\")\n",
    "data.to_csv('newFile.csv', index = False, header=True)\n",
    "```\n",
    "**JavaScript**\n",
    "```javascript\n",
    "d3.csv(\"/path/to/newFile.csv\").then((data) => { })\n",
    "```\n",
    "\n",
    "### Pros/Cons of Both\n",
    "There is little difference between the two, obviously you are adding another step with Python, but you get the added benefit of being able to use all of Python's tools before working with the file. Not to say D3.js does not have these similar capabilities. If anything, I (my preference) think D3.js are a bit better and easier to use, but this not the case for everyone. Let's showcase both. "
   ]
  },
  {
   "cell_type": "markdown",
   "id": "4b11531d-c457-4160-84f3-59eade47dfbf",
   "metadata": {},
   "source": [
    "## Start D3.jsfrom IPython.display import  HTML\n",
    "\n"
   ]
  },
  {
   "cell_type": "code",
   "execution_count": 1,
   "id": "586928a2-929a-48e8-bf29-e28c4245d8ea",
   "metadata": {},
   "outputs": [],
   "source": [
    "from IPython.display import  HTML\n",
    "\n",
    "def load_d3_in_cell_output():\n",
    "  display(HTML(\"<script src='https://d3js.org/d3.v6.min.js'></script>\"))\n",
    "get_ipython().events.register('pre_run_cell', load_d3_in_cell_output)"
   ]
  },
  {
   "cell_type": "markdown",
   "id": "55b672c1-93c4-435f-b4ee-b04c7a797eb2",
   "metadata": {},
   "source": [
    "## Acknowledgement for Data\n",
    "\n",
    "<cite>Cite as: Menne, Matthew J., Imke Durre, Bryant Korzeniewski, Shelley McNeal, Kristy Thomas, Xungang Yin, Steven Anthony, Ron Ray, Russell S. Vose, Byron E.Gleason, and Tamara G. Houston (2012): Global Historical Climatology Network - Daily (GHCN-Daily), Version 3. CITY:US420020. NOAA National Climatic Data Center. doi:10.7289/V5D21VHZ 02/22/2021. \n",
    "\n",
    "Publications citing this dataset should also cite the following article: Matthew J. Menne, Imke Durre, Russell S. Vose, Byron E. Gleason, and Tamara G. Houston, 2012: An Overview of the Global Historical Climatology Network-Daily Database. J. Atmos. Oceanic Technol., 29, 897-910. doi:10.1175/JTECH-D-11-00103.1. \n",
    "\n",
    "Use liability: NOAA and NCEI cannot provide any warranty as to the accuracy, reliability, or completeness of furnished data. Users assume responsibility to determine the usability of these data. The user is responsible for the results of any application of this data for other than its intended purpose.</cite>\n",
    "\n",
    "Links:\n",
    "https://data.noaa.gov/onestop/\n",
    "\n",
    "https://www.ncdc.noaa.gov/cdo-web/search"
   ]
  },
  {
   "cell_type": "markdown",
   "id": "b3de32fc-6cb4-4d62-903b-10856902ba86",
   "metadata": {},
   "source": [
    "## d3-fetch Implementation"
   ]
  },
  {
   "cell_type": "markdown",
   "id": "42591433-d4a0-432e-b1a4-8081e4351750",
   "metadata": {},
   "source": [
    "The data we will be using for this exercise is acknowledged above, but the basic idea is this is a weather data for the State College, PA area (near Penn State University). \n",
    "\n",
    "The data preview is:\n",
    "* DATE - date in YYYY-MM-DD format\n",
    "* DAY - the day (_D format)\n",
    "* MONTH - the month (_M format)\n",
    "* YEAR - the year (YYYY format)\n",
    "* PRCP - the amount of precipitation in inches\n",
    "* SNOW - the amount of snow in inches\n",
    "* TMAX - the max temperature in F°\n",
    "* TMIN - the min temperature in F°\n",
    "\n",
    "Here's a print out of the first row of data:"
   ]
  },
  {
   "cell_type": "code",
   "execution_count": 2,
   "id": "c2a0ffe0-753c-4388-87ba-e1097ae2cf29",
   "metadata": {},
   "outputs": [
    {
     "data": {
      "text/html": [
       "<script src='https://d3js.org/d3.v6.min.js'></script>"
      ],
      "text/plain": [
       "<IPython.core.display.HTML object>"
      ]
     },
     "metadata": {},
     "output_type": "display_data"
    },
    {
     "data": {
      "text/html": [
       "<p id=\"print1\"></p>\n",
       "<script>\n",
       "    d3.csv(\"https://gist.githubusercontent.com/dudaspm/13174849c09aba7a0716d5fa230ebe95/raw/a4866834185bad7e4a1e1b8f90da76b168eb1361/StateCollege2010-2020_min.csv\")\n",
       "    .then((data) => \n",
       "        document.getElementById(\"print1\").innerHTML = JSON.stringify(data[0])    \n",
       "    )\n",
       "</script>\n"
      ],
      "text/plain": [
       "<IPython.core.display.HTML object>"
      ]
     },
     "metadata": {},
     "output_type": "display_data"
    }
   ],
   "source": [
    "%%html\n",
    "<p id=\"print1\"></p>\n",
    "<script>\n",
    "    d3.csv(\"https://gist.githubusercontent.com/dudaspm/13174849c09aba7a0716d5fa230ebe95/raw/a4866834185bad7e4a1e1b8f90da76b168eb1361/StateCollege2010-2020_min.csv\")\n",
    "    .then((data) => \n",
    "        document.getElementById(\"print1\").innerHTML = JSON.stringify(data[0])    \n",
    "    )\n",
    "</script>"
   ]
  },
  {
   "cell_type": "markdown",
   "id": "53944263-9b39-44f0-ac21-3cc605508977",
   "metadata": {},
   "source": [
    "One thing you can add to this (💥💥AND I STRONGLY RECOMMEND DOING THIS💥💥) is adding \n",
    "```javascript\n",
    ".catch((error) => console.log(error) )\n",
    "```\n",
    "\n",
    "Why? because Jupyter does a not so great job of showcasing errors. As much we try and teach ourselves to be perfect coders 🙄. We all make mistakes and too be honest, as much as I love D3.js. One small thing can cause problems. If you have not looked at the troubleshooting section of the notebook, please check it out. It will save you hours of your life in small errors. "
   ]
  },
  {
   "cell_type": "code",
   "execution_count": 3,
   "id": "f1bcb1e6-59a0-4a22-9ae5-a8d1443c13b1",
   "metadata": {},
   "outputs": [
    {
     "data": {
      "text/html": [
       "<script src='https://d3js.org/d3.v6.min.js'></script>"
      ],
      "text/plain": [
       "<IPython.core.display.HTML object>"
      ]
     },
     "metadata": {},
     "output_type": "display_data"
    },
    {
     "data": {
      "text/html": [
       "<p id=\"print2\"></p>\n",
       "<script>\n",
       "    d3.csv(\"https://raw.githubusercontent.com/dudaspm/d3plotbook/main/weather.csv\")\n",
       "    .then((data) => \n",
       "        document.getElementById(\"print2\").innerHTML = JSON.stringify(data[0])    \n",
       "    )\n",
       "    .catch((error) => console.log(error) )\n",
       "</script>\n"
      ],
      "text/plain": [
       "<IPython.core.display.HTML object>"
      ]
     },
     "metadata": {},
     "output_type": "display_data"
    }
   ],
   "source": [
    "%%html\n",
    "<p id=\"print2\"></p>\n",
    "<script>\n",
    "    d3.csv(\"https://raw.githubusercontent.com/dudaspm/d3plotbook/main/weather.csv\")\n",
    "    .then((data) => \n",
    "        document.getElementById(\"print2\").innerHTML = JSON.stringify(data[0])    \n",
    "    )\n",
    "    .catch((error) => console.log(error) )\n",
    "</script>"
   ]
  },
  {
   "cell_type": "markdown",
   "id": "7c6f8b98-c923-4ea1-8daf-46b69ee9a30c",
   "metadata": {},
   "source": [
    "## Python + Pandas + d3-fetch Implementation"
   ]
  },
  {
   "cell_type": "markdown",
   "id": "a10d4c2d-0307-4f7a-a665-27d4833b3609",
   "metadata": {},
   "source": [
    "Now this implementation adds an extra step but again, if you want to do more in Python and make the data available to D3.js afterwards. This is where you want to be! \n",
    "\n",
    "Let's do the same steps as above, but this time we will add Pandas. "
   ]
  },
  {
   "cell_type": "markdown",
   "id": "4e28a378-1cde-4e3a-99b9-471ac93917f0",
   "metadata": {},
   "source": [
    "```{note}\n",
    "For those using this notebook in Google Colabs, Pandas is already installed.\n",
    "But, for those running this locally or on another system. You may need to install pandas first. \n",
    "You can actually do this in the notebook. Create a new cell (after this one) and run the following:\n",
    "\n",
    "*!pip install pandas*\n",
    "\n",
    "Here, I'll help with this. The next cell will have this, but it will commented out. Just remove the #.\n",
    "\n",
    "```"
   ]
  },
  {
   "cell_type": "code",
   "execution_count": 4,
   "id": "3bc6614f-71cb-4f2e-b0ba-0fd3aadc7701",
   "metadata": {},
   "outputs": [
    {
     "data": {
      "text/html": [
       "<script src='https://d3js.org/d3.v6.min.js'></script>"
      ],
      "text/plain": [
       "<IPython.core.display.HTML object>"
      ]
     },
     "metadata": {},
     "output_type": "display_data"
    }
   ],
   "source": [
    "#!pip install pandas"
   ]
  },
  {
   "cell_type": "markdown",
   "id": "3b519c83-c613-4ebe-bad0-9c5a81903a89",
   "metadata": {},
   "source": [
    "We need to break this up into three steps. This will allow Jupyter Lab to keep this variable within the notebook and use it internally (instead of writing to file). \n",
    "\n",
    "Also, and most importantly, this works in Google Colab. \n",
    "\n",
    "### Using Python + Pandas"
   ]
  },
  {
   "cell_type": "markdown",
   "id": "b952e6e1-7274-486e-8d74-8ac8a56bbbc3",
   "metadata": {},
   "source": [
    "Suprisingly, this is much harder than it needs to be. Specifically because I am trying to design this for Jupyter Lab and (the culprit 😈) Google Colab. Google Colab is a fantastic implementation of Jupyter Lab but it has to be locked down a bit more because well, people could do some really bad things if they didn't. So, after months (and I mean months) of searching and trying things, this is my best implementation. \n",
    "\n",
    "Side note, if by chance you figure out a better solution, please let me know! It would make my day 😄\n",
    "\n",
    "#### Starting Pandas and Getting the File\n",
    "\n",
    "The first step is enabling Pandas in Jupyter Lab and in Python we use import statements for this. Think about imports as extra libraries built using Python to increase what they can do. In this case, [Pandas](https://pandas.pydata.org/) is a great, as they specify, \"a fast, powerful, flexible and easy to use open source data analysis and manipulation tool {cite}`reback2020pandas,mckinney-proc-scipy-2010`.\""
   ]
  },
  {
   "cell_type": "markdown",
   "id": "bfff9118-d6e9-4de3-b977-d44b15d1df80",
   "metadata": {},
   "source": [
    "```{note}\n",
    "When using an external library, like Pandas, we can rename the library (as in this case, pandas to pd). This is a common way to see Pandas being used. This means when I want to use something from this library, I will use pd instead of pandas. \n",
    "```"
   ]
  },
  {
   "cell_type": "code",
   "execution_count": 5,
   "id": "940a9204-5d12-400e-8c20-0acc00cdaa2d",
   "metadata": {},
   "outputs": [
    {
     "data": {
      "text/html": [
       "<script src='https://d3js.org/d3.v6.min.js'></script>"
      ],
      "text/plain": [
       "<IPython.core.display.HTML object>"
      ]
     },
     "metadata": {},
     "output_type": "display_data"
    }
   ],
   "source": [
    "import pandas as pd\n",
    "data=pd.read_csv(\"https://raw.githubusercontent.com/dudaspm/d3plotbook/main/weather.csv\")"
   ]
  },
  {
   "cell_type": "markdown",
   "id": "83ce0b9d-ff2f-43c6-8091-74082590a300",
   "metadata": {},
   "source": [
    "Obviously, because this is csv, we use \n",
    "```python\n",
    "pd.read_csv\n",
    "```\n",
    "Here is a listing of all of Pandas I/Os (input/outputs): https://pandas.pydata.org/docs/reference/io.html"
   ]
  },
  {
   "cell_type": "code",
   "execution_count": 6,
   "id": "c6f73dba-0ca8-49f3-a582-2aaddcc7ed87",
   "metadata": {},
   "outputs": [
    {
     "data": {
      "text/html": [
       "<script src='https://d3js.org/d3.v6.min.js'></script>"
      ],
      "text/plain": [
       "<IPython.core.display.HTML object>"
      ]
     },
     "metadata": {},
     "output_type": "display_data"
    },
    {
     "data": {
      "text/html": [
       "<p id=\"print3\"></p>\n",
       "<script>\n",
       "var receiver = new BroadcastChannel('channel');\n",
       "receiver.onmessage = (msg) => {\n",
       "    var data = d3.csvParse(msg.data.replaceAll(\";;;\",\"\\n\"))\n",
       "    document.getElementById(\"print3\").innerHTML = JSON.stringify(data[0])    \n",
       "};\n",
       "</script>\n"
      ],
      "text/plain": [
       "<IPython.core.display.HTML object>"
      ]
     },
     "metadata": {},
     "output_type": "display_data"
    }
   ],
   "source": [
    "%%html\n",
    "<p id=\"print3\"></p>\n",
    "<script>\n",
    "var receiver = new BroadcastChannel('channel');\n",
    "receiver.onmessage = (msg) => {\n",
    "    var data = d3.csvParse(msg.data.replaceAll(\";;;\",\"\\n\"))\n",
    "    document.getElementById(\"print3\").innerHTML = JSON.stringify(data[0])    \n",
    "};\n",
    "</script>"
   ]
  },
  {
   "cell_type": "code",
   "execution_count": 7,
   "id": "9a75471b-fa4c-4206-af8d-a26bb6c1535f",
   "metadata": {},
   "outputs": [
    {
     "data": {
      "text/html": [
       "<script src='https://d3js.org/d3.v6.min.js'></script>"
      ],
      "text/plain": [
       "<IPython.core.display.HTML object>"
      ]
     },
     "metadata": {},
     "output_type": "display_data"
    },
    {
     "data": {
      "text/html": [
       "\n",
       "<script>\n",
       "var sender = new BroadcastChannel('channel');\n",
       "var message = 'DATE,DAY,MONTH,YEAR,PRCP,SNOW,TMAX,TMIN,WT_FOG,WT_THUNDER,WT_SLEET,WT_HAIL,WT_GLAZE,WT_HIGHWINDS;;;1/1/2000,1,1,2000,0.0,0.0,44.0,23,0.0,0.0,0.0,0.0,0.0,0.0;;;1/2/2000,2,1,2000,0.0,0.0,52.0,23,0.0,0.0,0.0,0.0,0.0,0.0;;;1/3/2000,3,1,2000,0.01,0.0,60.0,35,0.0,0.0,0.0,0.0,0.0,0.0;;;1/4/2000,4,1,2000,0.12,0.0,62.0,54,0.0,0.0,0.0,0.0,0.0,0.0;;;1/5/2000,5,1,2000,0.04,0.0,60.0,30,0.0,0.0,0.0,0.0,0.0,0.0'\n",
       "senderChannel.postMessage(message);\n",
       "</script>"
      ],
      "text/plain": [
       "<IPython.core.display.HTML object>"
      ]
     },
     "metadata": {},
     "output_type": "display_data"
    }
   ],
   "source": [
    "from IPython.display import display, HTML\n",
    "d = data.head().to_csv(index=False,line_terminator='\\n').replace('\\n',';;;')[:-3]\n",
    "js = \"\"\"\n",
    "<script>\n",
    "var sender = new BroadcastChannel('channel');\n",
    "var message = '{}'\n",
    "senderChannel.postMessage(message);\n",
    "</script>\"\"\".format(d)\n",
    "\n",
    "\n",
    "display(HTML(js))"
   ]
  },
  {
   "cell_type": "markdown",
   "id": "4a21027f-e120-4f44-ae5a-6fd21f255241",
   "metadata": {},
   "source": []
  },
  {
   "cell_type": "code",
   "execution_count": null,
   "id": "505cbbd4-8ff1-47a2-a853-3e3dafd8ff0b",
   "metadata": {},
   "outputs": [],
   "source": []
  }
 ],
 "metadata": {
  "kernelspec": {
   "display_name": "Python 3",
   "language": "python",
   "name": "python3"
  },
  "language_info": {
   "codemirror_mode": {
    "name": "ipython",
    "version": 3
   },
   "file_extension": ".py",
   "mimetype": "text/x-python",
   "name": "python",
   "nbconvert_exporter": "python",
   "pygments_lexer": "ipython3",
   "version": "3.7.10"
  }
 },
 "nbformat": 4,
 "nbformat_minor": 5
}