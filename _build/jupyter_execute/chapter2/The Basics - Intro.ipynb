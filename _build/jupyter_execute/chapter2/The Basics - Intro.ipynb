{
 "cells": [
  {
   "cell_type": "markdown",
   "id": "18d0327e-e107-48bb-adb9-b9d3ac3b7f15",
   "metadata": {},
   "source": [
    "# The Basics - Intro"
   ]
  },
  {
   "cell_type": "markdown",
   "id": "39c14aa9-4b2c-4264-9238-fecc0cfabaa5",
   "metadata": {},
   "source": [
    "These first notebooks will layout the foundation of D3.js. The expectation is that you are new to D3.js but have a minimal amount of programming knowledge in general. \n",
    "\n",
    "I consider these chapters the basic building blocks of D3.js, but if you have other suggestions of introductory material. Let me know! "
   ]
  },
  {
   "cell_type": "code",
   "execution_count": null,
   "id": "7d606753-c1ba-400d-ad7d-1fbfa9c89d01",
   "metadata": {},
   "outputs": [],
   "source": []
  }
 ],
 "metadata": {
  "kernelspec": {
   "display_name": "Python 3 (ipykernel)",
   "language": "python",
   "name": "python3"
  },
  "language_info": {
   "codemirror_mode": {
    "name": "ipython",
    "version": 3
   },
   "file_extension": ".py",
   "mimetype": "text/x-python",
   "name": "python",
   "nbconvert_exporter": "python",
   "pygments_lexer": "ipython3",
   "version": "3.7.6"
  }
 },
 "nbformat": 4,
 "nbformat_minor": 5
}