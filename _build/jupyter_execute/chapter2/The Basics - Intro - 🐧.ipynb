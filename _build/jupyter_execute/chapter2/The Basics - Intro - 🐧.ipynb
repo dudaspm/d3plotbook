{
 "cells": [
  {
   "cell_type": "markdown",
   "id": "18d0327e-e107-48bb-adb9-b9d3ac3b7f15",
   "metadata": {},
   "source": [
    "# The Basics - Intro - 🐧"
   ]
  },
  {
   "cell_type": "markdown",
   "id": "39c14aa9-4b2c-4264-9238-fecc0cfabaa5",
   "metadata": {},
   "source": [
    "These first notebooks will layout the foundation of D3.js. The expectation is that you are new to D3.js but have a minimal amount of programming knowledge in general. \n",
    "\n",
    "I consider these chapters the basic building blocks of D3.js, but if you have other suggestions of introductory material. Let me know! \n",
    "\n",
    "The way this section is layed out is to focus on what I would consider to be the essenstial parts of D3.js. \n",
    "\n",
    "* Chapter 2 - The Basics\n",
    "    * Now with data! - 🐳\n",
    "         * As D3 stands for data-driven documents, your first real steps in D3.js should have some data. We start with a static, small array, but intro the connection between objects you will creating to the data itself. \n",
    "    * Style, Scales, and Shapes!\n",
    "         * OK, we have a small data set, now what? Not only can you use the data to think about creating objects, but all the other visual encodings you would expect. \n",
    "    * Accessing Data\n",
    "         * Let's expand what we know to a larger data set. This is a mostly Jupyter Lab/Google Colab context for bringing in data and making use of it in D3.js. We will discuss a couple of approach to this idea. \n",
    "    * Scaling, Legends, and Color\n",
    "         * We introduce more robust ways to scale data and its connection to legends and colors. \n",
    "    * Transitions\n",
    "         * Finally, we conconclude by discussing transitions, which can make data sets more lively and an engaging. Also, they can be a lot of fun!"
   ]
  },
  {
   "cell_type": "code",
   "execution_count": null,
   "id": "ee34f657-3db1-49f5-a11e-15b1890a6418",
   "metadata": {},
   "outputs": [],
   "source": []
  }
 ],
 "metadata": {
  "kernelspec": {
   "display_name": "Python 3",
   "language": "python",
   "name": "python3"
  },
  "language_info": {
   "codemirror_mode": {
    "name": "ipython",
    "version": 3
   },
   "file_extension": ".py",
   "mimetype": "text/x-python",
   "name": "python",
   "nbconvert_exporter": "python",
   "pygments_lexer": "ipython3",
   "version": "3.7.10"
  }
 },
 "nbformat": 4,
 "nbformat_minor": 5
}