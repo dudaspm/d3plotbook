{
 "cells": [
  {
   "cell_type": "markdown",
   "metadata": {},
   "source": [
    "# Connected Scatterplot"
   ]
  },
  {
   "cell_type": "markdown",
   "metadata": {},
   "source": [
    "### Our Data Set"
   ]
  },
  {
   "cell_type": "code",
   "execution_count": null,
   "metadata": {},
   "outputs": [],
   "source": []
  },
  {
   "cell_type": "code",
   "execution_count": 1,
   "metadata": {},
   "outputs": [
    {
     "data": {
      "text/html": [
       "<div>\n",
       "<style scoped>\n",
       "    .dataframe tbody tr th:only-of-type {\n",
       "        vertical-align: middle;\n",
       "    }\n",
       "\n",
       "    .dataframe tbody tr th {\n",
       "        vertical-align: top;\n",
       "    }\n",
       "\n",
       "    .dataframe thead th {\n",
       "        text-align: right;\n",
       "    }\n",
       "</style>\n",
       "<table border=\"1\" class=\"dataframe\">\n",
       "  <thead>\n",
       "    <tr style=\"text-align: right;\">\n",
       "      <th></th>\n",
       "      <th>DATE</th>\n",
       "      <th>DAY</th>\n",
       "      <th>MONTH</th>\n",
       "      <th>YEAR</th>\n",
       "      <th>PRCP</th>\n",
       "      <th>SNOW</th>\n",
       "      <th>TMAX</th>\n",
       "      <th>TMIN</th>\n",
       "      <th>WT_FOG</th>\n",
       "      <th>WT_THUNDER</th>\n",
       "      <th>WT_SLEET</th>\n",
       "      <th>WT_HAIL</th>\n",
       "      <th>WT_GLAZE</th>\n",
       "      <th>WT_HIGHWINDS</th>\n",
       "    </tr>\n",
       "  </thead>\n",
       "  <tbody>\n",
       "    <tr>\n",
       "      <th>0</th>\n",
       "      <td>1/1/2000</td>\n",
       "      <td>1</td>\n",
       "      <td>1</td>\n",
       "      <td>2000</td>\n",
       "      <td>0.00</td>\n",
       "      <td>0.0</td>\n",
       "      <td>44.0</td>\n",
       "      <td>23</td>\n",
       "      <td>0.0</td>\n",
       "      <td>0.0</td>\n",
       "      <td>0.0</td>\n",
       "      <td>0.0</td>\n",
       "      <td>0.0</td>\n",
       "      <td>0.0</td>\n",
       "    </tr>\n",
       "    <tr>\n",
       "      <th>1</th>\n",
       "      <td>1/2/2000</td>\n",
       "      <td>2</td>\n",
       "      <td>1</td>\n",
       "      <td>2000</td>\n",
       "      <td>0.00</td>\n",
       "      <td>0.0</td>\n",
       "      <td>52.0</td>\n",
       "      <td>23</td>\n",
       "      <td>0.0</td>\n",
       "      <td>0.0</td>\n",
       "      <td>0.0</td>\n",
       "      <td>0.0</td>\n",
       "      <td>0.0</td>\n",
       "      <td>0.0</td>\n",
       "    </tr>\n",
       "    <tr>\n",
       "      <th>2</th>\n",
       "      <td>1/3/2000</td>\n",
       "      <td>3</td>\n",
       "      <td>1</td>\n",
       "      <td>2000</td>\n",
       "      <td>0.01</td>\n",
       "      <td>0.0</td>\n",
       "      <td>60.0</td>\n",
       "      <td>35</td>\n",
       "      <td>0.0</td>\n",
       "      <td>0.0</td>\n",
       "      <td>0.0</td>\n",
       "      <td>0.0</td>\n",
       "      <td>0.0</td>\n",
       "      <td>0.0</td>\n",
       "    </tr>\n",
       "    <tr>\n",
       "      <th>3</th>\n",
       "      <td>1/4/2000</td>\n",
       "      <td>4</td>\n",
       "      <td>1</td>\n",
       "      <td>2000</td>\n",
       "      <td>0.12</td>\n",
       "      <td>0.0</td>\n",
       "      <td>62.0</td>\n",
       "      <td>54</td>\n",
       "      <td>0.0</td>\n",
       "      <td>0.0</td>\n",
       "      <td>0.0</td>\n",
       "      <td>0.0</td>\n",
       "      <td>0.0</td>\n",
       "      <td>0.0</td>\n",
       "    </tr>\n",
       "    <tr>\n",
       "      <th>4</th>\n",
       "      <td>1/5/2000</td>\n",
       "      <td>5</td>\n",
       "      <td>1</td>\n",
       "      <td>2000</td>\n",
       "      <td>0.04</td>\n",
       "      <td>0.0</td>\n",
       "      <td>60.0</td>\n",
       "      <td>30</td>\n",
       "      <td>0.0</td>\n",
       "      <td>0.0</td>\n",
       "      <td>0.0</td>\n",
       "      <td>0.0</td>\n",
       "      <td>0.0</td>\n",
       "      <td>0.0</td>\n",
       "    </tr>\n",
       "  </tbody>\n",
       "</table>\n",
       "</div>"
      ],
      "text/plain": [
       "       DATE  DAY  MONTH  YEAR  PRCP  SNOW  TMAX  TMIN  WT_FOG  WT_THUNDER  \\\n",
       "0  1/1/2000    1      1  2000  0.00   0.0  44.0    23     0.0         0.0   \n",
       "1  1/2/2000    2      1  2000  0.00   0.0  52.0    23     0.0         0.0   \n",
       "2  1/3/2000    3      1  2000  0.01   0.0  60.0    35     0.0         0.0   \n",
       "3  1/4/2000    4      1  2000  0.12   0.0  62.0    54     0.0         0.0   \n",
       "4  1/5/2000    5      1  2000  0.04   0.0  60.0    30     0.0         0.0   \n",
       "\n",
       "   WT_SLEET  WT_HAIL  WT_GLAZE  WT_HIGHWINDS  \n",
       "0       0.0      0.0       0.0           0.0  \n",
       "1       0.0      0.0       0.0           0.0  \n",
       "2       0.0      0.0       0.0           0.0  \n",
       "3       0.0      0.0       0.0           0.0  \n",
       "4       0.0      0.0       0.0           0.0  "
      ]
     },
     "execution_count": 1,
     "metadata": {},
     "output_type": "execute_result"
    }
   ],
   "source": [
    "import pandas as pd\n",
    "url=\"https://gist.githubusercontent.com/dudaspm/e518430a731ac11f52de9217311c674d/raw/4c2f2bd6639582a420ef321493188deebc4a575e/StateCollege2000-2020.csv\"\n",
    "data = []\n",
    "data=pd.read_csv(url)\n",
    "data = data.fillna(0) # replace all NAs with 0s\n",
    "data.to_csv('weather.csv', index = False, header=True)\n",
    "data.head()"
   ]
  },
  {
   "cell_type": "markdown",
   "metadata": {},
   "source": [
    "### Acknowledgement \n",
    "\n",
    "<cite>Cite as: Menne, Matthew J., Imke Durre, Bryant Korzeniewski, Shelley McNeal, Kristy Thomas, Xungang Yin, Steven Anthony, Ron Ray, Russell S. Vose, Byron E.Gleason, and Tamara G. Houston (2012): Global Historical Climatology Network - Daily (GHCN-Daily), Version 3. CITY:US420020. NOAA National Climatic Data Center. doi:10.7289/V5D21VHZ 02/22/2021. \n",
    "\n",
    "Publications citing this dataset should also cite the following article: Matthew J. Menne, Imke Durre, Russell S. Vose, Byron E. Gleason, and Tamara G. Houston, 2012: An Overview of the Global Historical Climatology Network-Daily Database. J. Atmos. Oceanic Technol., 29, 897-910. doi:10.1175/JTECH-D-11-00103.1. \n",
    "\n",
    "Use liability: NOAA and NCEI cannot provide any warranty as to the accuracy, reliability, or completeness of furnished data. Users assume responsibility to determine the usability of these data. The user is responsible for the results of any application of this data for other than its intended purpose.</cite>\n",
    "\n",
    "Links:\n",
    "https://data.noaa.gov/onestop/\n",
    "\n",
    "https://www.ncdc.noaa.gov/cdo-web/search"
   ]
  },
  {
   "cell_type": "markdown",
   "metadata": {},
   "source": [
    "The first step in the process is to take a piece of paper and draw a picture of what you believe the graph will look like. While doing this, I would suggest answering the following questions:\n",
    "\n",
    "1) Is the data continuous or discrete?\n",
    "  - For *continuous* we assume the data has a range of values \n",
    "  - For *discrete* we assume the data can be binned\n",
    "    - this question can be a challenging first conversation to have, but the basic rule is: can you use a ruler? If so, continuous. If not, discrete.\n",
    "\n",
    "2) Are you interested in *comparing* your data points, or are you looking for a *trend* in your data?\n",
    "\n",
    "3) Which variables are our independent variables or our dependent variables? \n",
    "  - For *independent* this is what we control \n",
    "  - For *dependent* with this control, this is what we are measuring.\n",
    "\n",
    "For us, I would say both our continuous, we are interested in the trend of the data, and date is independent and interest in the dependent. So, let's draw this out. "
   ]
  },
  {
   "cell_type": "markdown",
   "metadata": {},
   "source": [
    "### Start D3.js"
   ]
  },
  {
   "cell_type": "code",
   "execution_count": 2,
   "metadata": {},
   "outputs": [
    {
     "data": {
      "application/javascript": [
       "\n",
       "    require.config({\n",
       "      paths: {\n",
       "        d3: \"https://d3js.org/d3.v6.min\"\n",
       "      }\n",
       "    })"
      ],
      "text/plain": [
       "<IPython.core.display.Javascript object>"
      ]
     },
     "metadata": {},
     "output_type": "display_data"
    }
   ],
   "source": [
    "from IPython.display import HTML, Javascript, display\n",
    "\n",
    "def configure_d3():\n",
    "    display(Javascript(\"\"\"\n",
    "    require.config({\n",
    "      paths: {\n",
    "        d3: \"https://d3js.org/d3.v6.min\"\n",
    "      }\n",
    "    })\"\"\"))\n",
    "\n",
    "\n",
    "configure_d3()"
   ]
  },
  {
   "cell_type": "markdown",
   "metadata": {},
   "source": [
    "### Getting the Data into D3.js"
   ]
  },
  {
   "cell_type": "code",
   "execution_count": 3,
   "metadata": {},
   "outputs": [
    {
     "data": {
      "text/html": [
       "<script type=\"text/javascript\">   \n",
       "require(['d3'], function (d3) {\n",
       "\n",
       "    d3.csv('https://raw.githubusercontent.com/owid/covid-19-data/master/public/data/vaccinations/us_state_vaccinations.csv')\n",
       "        .then(function(data) {\n",
       "            console.log(data[0])\n",
       "        })\n",
       "        .catch(function(error){\n",
       "\n",
       "        })\n",
       "\n",
       "})\n",
       "</script>\n"
      ],
      "text/plain": [
       "<IPython.core.display.HTML object>"
      ]
     },
     "metadata": {},
     "output_type": "display_data"
    }
   ],
   "source": [
    "%%html\n",
    "<script type=\"text/javascript\">   \n",
    "require(['d3'], function (d3) {\n",
    "    \n",
    "    d3.csv('https://raw.githubusercontent.com/owid/covid-19-data/master/public/data/vaccinations/us_state_vaccinations.csv')\n",
    "        .then(function(data) {\n",
    "            console.log(data[0])\n",
    "        })\n",
    "        .catch(function(error){\n",
    "        \n",
    "        })\n",
    "    \n",
    "})\n",
    "</script>"
   ]
  },
  {
   "cell_type": "markdown",
   "metadata": {},
   "source": [
    "## Filter the Data"
   ]
  },
  {
   "cell_type": "code",
   "execution_count": 4,
   "metadata": {},
   "outputs": [
    {
     "data": {
      "text/html": [
       "<script type=\"text/javascript\">   \n",
       "require(['d3'], function (d3) {\n",
       "\n",
       "    d3.csv('weather.csv')\n",
       "        .then(function(data) {\n",
       "            data = data.filter(d=> (d.MONTH==\"3\") && (d.YEAR==\"2020\"))\n",
       "            console.log(data)\n",
       "        })\n",
       "        .catch(function(error){\n",
       "\n",
       "        })\n",
       "\n",
       "})\n",
       "</script>\n"
      ],
      "text/plain": [
       "<IPython.core.display.HTML object>"
      ]
     },
     "metadata": {},
     "output_type": "display_data"
    }
   ],
   "source": [
    "%%html\n",
    "<script type=\"text/javascript\">   \n",
    "require(['d3'], function (d3) {\n",
    "    \n",
    "    d3.csv('weather.csv')\n",
    "        .then(function(data) {\n",
    "            data = data.filter(d=> (d.MONTH==\"3\") && (d.YEAR==\"2020\"))\n",
    "            console.log(data)\n",
    "        })\n",
    "        .catch(function(error){\n",
    "        \n",
    "        })\n",
    "    \n",
    "})\n",
    "</script>"
   ]
  },
  {
   "cell_type": "markdown",
   "metadata": {},
   "source": [
    "### Mapping the Data"
   ]
  },
  {
   "cell_type": "markdown",
   "metadata": {},
   "source": [
    "Now let's convert our data from its original format to an updated format using a function called d3.map(). [d3.map()](https://github.com/d3/d3-collection#maps) is a really nice function that can take your original data and convert it to other formats. Here is a simple example where we have an array of numbers, but we want to re-map them, so the values are multiplied by pi."
   ]
  },
  {
   "cell_type": "code",
   "execution_count": 5,
   "metadata": {},
   "outputs": [
    {
     "data": {
      "application/javascript": [
       "var justSomeData = [1,2,3,4]\n",
       "const output = justSomeData.map((d,i)=> d * Math.PI)\n",
       "element.text(output)\n"
      ],
      "text/plain": [
       "<IPython.core.display.Javascript object>"
      ]
     },
     "metadata": {},
     "output_type": "display_data"
    }
   ],
   "source": [
    "%%javascript\n",
    "var justSomeData = [1,2,3,4]\n",
    "const output = justSomeData.map((d,i)=> d * Math.PI)\n",
    "element.text(output)"
   ]
  },
  {
   "cell_type": "code",
   "execution_count": 6,
   "metadata": {},
   "outputs": [
    {
     "data": {
      "application/javascript": [
       "var justSomeData = [1,2,3,4]\n",
       "const output = justSomeData.map((d,i)=> d + \"\\uD83D\\uDC08\")\n",
       "element.text(output[0])\n"
      ],
      "text/plain": [
       "<IPython.core.display.Javascript object>"
      ]
     },
     "metadata": {},
     "output_type": "display_data"
    }
   ],
   "source": [
    "%%javascript\n",
    "var justSomeData = [1,2,3,4]\n",
    "const output = justSomeData.map((d,i)=> d + \"\\uD83D\\uDC08\")\n",
    "element.text(output[0])"
   ]
  },
  {
   "cell_type": "code",
   "execution_count": 7,
   "metadata": {},
   "outputs": [
    {
     "data": {
      "text/html": [
       "<script type=\"text/javascript\">   \n",
       "require(['d3'], function (d3) {\n",
       "\n",
       "    d3.csv('weather.csv')\n",
       "        .then(function(data) {\n",
       "            data = data.filter(d=> (d.MONTH==\"3\") && (d.YEAR==\"2020\"))\n",
       "            data = data.map(d=> ({\"DATE\":d.DATE,\"TMAX\":d.TMAX}))\n",
       "\n",
       "            console.log(data)\n",
       "\n",
       "        })\n",
       "        .catch(function(error){\n",
       "\n",
       "        })\n",
       "\n",
       "})\n",
       "</script>\n"
      ],
      "text/plain": [
       "<IPython.core.display.HTML object>"
      ]
     },
     "metadata": {},
     "output_type": "display_data"
    }
   ],
   "source": [
    "%%html\n",
    "<script type=\"text/javascript\">   \n",
    "require(['d3'], function (d3) {\n",
    "    \n",
    "    d3.csv('weather.csv')\n",
    "        .then(function(data) {\n",
    "            data = data.filter(d=> (d.MONTH==\"3\") && (d.YEAR==\"2020\"))\n",
    "            data = data.map(d=> ({\"DATE\":d.DATE,\"TMAX\":d.TMAX}))\n",
    "            \n",
    "            console.log(data)\n",
    "            \n",
    "        })\n",
    "        .catch(function(error){\n",
    "        \n",
    "        })\n",
    "    \n",
    "})\n",
    "</script>"
   ]
  },
  {
   "cell_type": "markdown",
   "metadata": {},
   "source": [
    "#### Adjusting the data"
   ]
  },
  {
   "cell_type": "code",
   "execution_count": 8,
   "metadata": {},
   "outputs": [
    {
     "data": {
      "text/html": [
       "<script type=\"text/javascript\">   \n",
       "require(['d3'], function (d3) {\n",
       "\n",
       "    d3.csv('weather.csv')\n",
       "        .then(function(data) {\n",
       "            data = data.filter(d=> (d.MONTH==\"3\") && (d.YEAR==\"2020\"))\n",
       "            data = data.map(d=> ({\"DATE\":d.DATE,\"TMAX\":+d.TMAX}))\n",
       "\n",
       "            console.log(data)\n",
       "\n",
       "        })\n",
       "        .catch(function(error){\n",
       "\n",
       "        })\n",
       "\n",
       "})\n",
       "</script>\n"
      ],
      "text/plain": [
       "<IPython.core.display.HTML object>"
      ]
     },
     "metadata": {},
     "output_type": "display_data"
    }
   ],
   "source": [
    "%%html\n",
    "<script type=\"text/javascript\">   \n",
    "require(['d3'], function (d3) {\n",
    "    \n",
    "    d3.csv('weather.csv')\n",
    "        .then(function(data) {\n",
    "            data = data.filter(d=> (d.MONTH==\"3\") && (d.YEAR==\"2020\"))\n",
    "            data = data.map(d=> ({\"DATE\":d.DATE,\"TMAX\":+d.TMAX}))\n",
    "            \n",
    "            console.log(data)\n",
    "            \n",
    "        })\n",
    "        .catch(function(error){\n",
    "        \n",
    "        })\n",
    "    \n",
    "})\n",
    "</script>"
   ]
  },
  {
   "cell_type": "markdown",
   "metadata": {},
   "source": [
    "Ok, the first step we need a function to convert our date in a way to make it usable in our chart. We can use a built-in function in D3.js called timeParse. timeParse needs to know how the date/time is formatted in our text and then use a specific format (called a specifier string). \n",
    "\n",
    "If we look at our dates we have (for example) \"01/2019\" or \"month/full year\". \n",
    "\n",
    "Here is a list of all [specifier strings](https://github.com/d3/d3-time-format#locale_format), and a smaller list for formats that I typically use:\n",
    "\n",
    "* **%d** - zero-padded day of the month as a decimal number [01,31]\n",
    "* **%H** - hour (24-hour clock) as a decimal number [00,23]\n",
    "* **%m** - month as a decimal number [01,12]\n",
    "* **%M** - minute as a decimal number [00,59]\n",
    "* **%y** - year without century as a decimal number [00,99]\n",
    "* **%Y** - year with century as a decimal number, such as 1999\n",
    "\n",
    "Meaning, we need a specifier string of \"**%m/%Y**\" = \"**month/full year**\""
   ]
  },
  {
   "cell_type": "code",
   "execution_count": 9,
   "metadata": {},
   "outputs": [
    {
     "data": {
      "text/html": [
       "<script type=\"text/javascript\">   \n",
       "require(['d3'], function (d3) {\n",
       "\n",
       "    d3.csv('weather.csv')\n",
       "        .then(function(data) {\n",
       "            const dateConverter = d3.timeParse(\"%_m/%_d/%Y\")\n",
       "            data = data.filter(d=> (d.MONTH==\"3\") && (d.YEAR==\"2020\"))\n",
       "            data = data.map(d=> ({\"DATE\":dateConverter(d.DATE),\"TMAX\":+d.TMAX}))\n",
       "            console.log(data)\n",
       "\n",
       "        })\n",
       "        .catch(function(error){\n",
       "\n",
       "        })\n",
       "\n",
       "})\n",
       "</script>\n"
      ],
      "text/plain": [
       "<IPython.core.display.HTML object>"
      ]
     },
     "metadata": {},
     "output_type": "display_data"
    }
   ],
   "source": [
    "%%html\n",
    "<script type=\"text/javascript\">   \n",
    "require(['d3'], function (d3) {\n",
    "    \n",
    "    d3.csv('weather.csv')\n",
    "        .then(function(data) {\n",
    "            const dateConverter = d3.timeParse(\"%_m/%_d/%Y\")\n",
    "            data = data.filter(d=> (d.MONTH==\"3\") && (d.YEAR==\"2020\"))\n",
    "            data = data.map(d=> ({\"DATE\":dateConverter(d.DATE),\"TMAX\":+d.TMAX}))\n",
    "            console.log(data)\n",
    "            \n",
    "        })\n",
    "        .catch(function(error){\n",
    "        \n",
    "        })\n",
    "    \n",
    "})\n",
    "</script>"
   ]
  },
  {
   "cell_type": "markdown",
   "metadata": {},
   "source": [
    "### Layout"
   ]
  },
  {
   "cell_type": "markdown",
   "metadata": {},
   "source": [
    "For the artwork itself, we will need a few basic things: a width, height, and margins."
   ]
  },
  {
   "cell_type": "code",
   "execution_count": 10,
   "metadata": {},
   "outputs": [
    {
     "data": {
      "text/html": [
       "<script type=\"text/javascript\">   \n",
       "require(['d3'], function (d3) {\n",
       "\n",
       "    d3.csv('weather.csv')\n",
       "        .then(function(data) {\n",
       "            const width = 600\n",
       "            const height = 300\n",
       "            const margin = 60 \n",
       "            const dateConverter = d3.timeParse(\"%_m/%_d/%Y\")\n",
       "            data = data.filter(d=> (d.MONTH==\"3\") && (d.YEAR==\"2020\"))\n",
       "            data = data.map(d=> ({\"DATE\":dateConverter(d.DATE),\"TMAX\":+d.TMAX}))\n",
       "\n",
       "        })\n",
       "        .catch(function(error){\n",
       "\n",
       "        })\n",
       "\n",
       "})\n",
       "</script>\n"
      ],
      "text/plain": [
       "<IPython.core.display.HTML object>"
      ]
     },
     "metadata": {},
     "output_type": "display_data"
    }
   ],
   "source": [
    "%%html\n",
    "<script type=\"text/javascript\">   \n",
    "require(['d3'], function (d3) {\n",
    "    \n",
    "    d3.csv('weather.csv')\n",
    "        .then(function(data) {\n",
    "            const width = 600\n",
    "            const height = 300\n",
    "            const margin = 60 \n",
    "            const dateConverter = d3.timeParse(\"%_m/%_d/%Y\")\n",
    "            data = data.filter(d=> (d.MONTH==\"3\") && (d.YEAR==\"2020\"))\n",
    "            data = data.map(d=> ({\"DATE\":dateConverter(d.DATE),\"TMAX\":+d.TMAX}))\n",
    "            \n",
    "        })\n",
    "        .catch(function(error){\n",
    "        \n",
    "        })\n",
    "    \n",
    "})\n",
    "</script>"
   ]
  },
  {
   "cell_type": "markdown",
   "metadata": {},
   "source": [
    "Next, we will need to have a function to scale our date. Again, we are assuming our “date” will be our independent data (the x-axis) and the “interest” our dependent data (y-axis). D3.js has a specific way to scale our time called d3.scaleTime, and for the “interest,” we will use the d3.scaleLinear as we did before."
   ]
  },
  {
   "cell_type": "code",
   "execution_count": 11,
   "metadata": {},
   "outputs": [
    {
     "data": {
      "text/html": [
       "<script type=\"text/javascript\">   \n",
       "require(['d3'], function (d3) {\n",
       "\n",
       "    d3.csv('weather.csv')\n",
       "        .then(function(data) {\n",
       "            const width = 600\n",
       "            const height = 300\n",
       "            const margin = 60 \n",
       "            const dateConverter = d3.timeParse(\"%_m/%_d/%Y\")\n",
       "            data = data.filter(d=> (d.MONTH==\"3\") && (d.YEAR==\"2020\"))\n",
       "            data = data.map(d=> ({\"DATE\":dateConverter(d.DATE),\"TMAX\":+d.TMAX}))\n",
       "\n",
       "            const xScale = d3.scaleTime().range([margin , width - margin]).domain(d3.extent(data, (d,i) => d.DATE))\n",
       "            const yScale = d3.scaleLinear().range([height-margin , margin]).domain(d3.extent(data, (d,i) => d.TMAX))\n",
       "\n",
       "\n",
       "        })\n",
       "        .catch(function(error){\n",
       "\n",
       "        })\n",
       "\n",
       "})\n",
       "</script>\n"
      ],
      "text/plain": [
       "<IPython.core.display.HTML object>"
      ]
     },
     "metadata": {},
     "output_type": "display_data"
    }
   ],
   "source": [
    "%%html\n",
    "<script type=\"text/javascript\">   \n",
    "require(['d3'], function (d3) {\n",
    "    \n",
    "    d3.csv('weather.csv')\n",
    "        .then(function(data) {\n",
    "            const width = 600\n",
    "            const height = 300\n",
    "            const margin = 60 \n",
    "            const dateConverter = d3.timeParse(\"%_m/%_d/%Y\")\n",
    "            data = data.filter(d=> (d.MONTH==\"3\") && (d.YEAR==\"2020\"))\n",
    "            data = data.map(d=> ({\"DATE\":dateConverter(d.DATE),\"TMAX\":+d.TMAX}))\n",
    "            \n",
    "            const xScale = d3.scaleTime().range([margin , width - margin]).domain(d3.extent(data, (d,i) => d.DATE))\n",
    "            const yScale = d3.scaleLinear().range([height-margin , margin]).domain(d3.extent(data, (d,i) => d.TMAX))\n",
    "            \n",
    "            \n",
    "        })\n",
    "        .catch(function(error){\n",
    "        \n",
    "        })\n",
    "    \n",
    "})\n",
    "</script>"
   ]
  },
  {
   "cell_type": "markdown",
   "metadata": {},
   "source": [
    "Finally (for now), we will make our function to create the line itself. This will be a function that creates the path from the data. Remember, *DATE is the x* and *TMAX is the y*.`"
   ]
  },
  {
   "cell_type": "code",
   "execution_count": 12,
   "metadata": {},
   "outputs": [
    {
     "data": {
      "text/html": [
       "<script type=\"text/javascript\">   \n",
       "require(['d3'], function (d3) {\n",
       "\n",
       "    d3.csv('weather.csv')\n",
       "        .then(function(data) {\n",
       "            const width = 600\n",
       "            const height = 300\n",
       "            const margin = 60 \n",
       "            const dateConverter = d3.timeParse(\"%_m/%_d/%Y\")\n",
       "            data = data.filter(d=> (d.MONTH==\"3\") && (d.YEAR==\"2020\"))\n",
       "            data = data.map(d=> ({\"DATE\":dateConverter(d.DATE),\"TMAX\":+d.TMAX}))\n",
       "\n",
       "            const xScale = d3.scaleTime().range([margin , width - margin]).domain(d3.extent(data, (d,i) => d.DATE))\n",
       "            const yScale = d3.scaleLinear().range([height-margin , margin]).domain(d3.extent(data, (d,i) => d.TMAX))\n",
       "\n",
       "            const line = d3.line()\n",
       "                .x((d,i)=> xScale(d.DATE)) \n",
       "                .y((d,i)=> yScale(d.TMAX)) \n",
       "\n",
       "        })\n",
       "        .catch(function(error){\n",
       "\n",
       "        })\n",
       "\n",
       "})\n",
       "</script>\n"
      ],
      "text/plain": [
       "<IPython.core.display.HTML object>"
      ]
     },
     "metadata": {},
     "output_type": "display_data"
    }
   ],
   "source": [
    "%%html\n",
    "<script type=\"text/javascript\">   \n",
    "require(['d3'], function (d3) {\n",
    "    \n",
    "    d3.csv('weather.csv')\n",
    "        .then(function(data) {\n",
    "            const width = 600\n",
    "            const height = 300\n",
    "            const margin = 60 \n",
    "            const dateConverter = d3.timeParse(\"%_m/%_d/%Y\")\n",
    "            data = data.filter(d=> (d.MONTH==\"3\") && (d.YEAR==\"2020\"))\n",
    "            data = data.map(d=> ({\"DATE\":dateConverter(d.DATE),\"TMAX\":+d.TMAX}))\n",
    "            \n",
    "            const xScale = d3.scaleTime().range([margin , width - margin]).domain(d3.extent(data, (d,i) => d.DATE))\n",
    "            const yScale = d3.scaleLinear().range([height-margin , margin]).domain(d3.extent(data, (d,i) => d.TMAX))\n",
    "            \n",
    "            const line = d3.line()\n",
    "                .x((d,i)=> xScale(d.DATE)) \n",
    "                .y((d,i)=> yScale(d.TMAX)) \n",
    "            \n",
    "        })\n",
    "        .catch(function(error){\n",
    "        \n",
    "        })\n",
    "    \n",
    "})\n",
    "</script>"
   ]
  },
  {
   "cell_type": "markdown",
   "metadata": {},
   "source": [
    "#### Add our line"
   ]
  },
  {
   "cell_type": "code",
   "execution_count": 13,
   "metadata": {},
   "outputs": [
    {
     "data": {
      "text/html": [
       "<div id=\"gohere1\"></div>\n",
       "\n",
       "<script type=\"text/javascript\">   \n",
       "require(['d3'], function (d3) {\n",
       "\n",
       "    d3.csv('weather.csv')\n",
       "        .then(function(data) {\n",
       "            const width = 600\n",
       "            const height = 300\n",
       "            const margin = 60 \n",
       "            const dateConverter = d3.timeParse(\"%_m/%_d/%Y\")\n",
       "            data = data.filter(d=> (d.MONTH==\"3\") && (d.YEAR==\"2020\"))\n",
       "            data = data.map(d=> ({\"DATE\":dateConverter(d.DATE),\"TMAX\":+d.TMAX}))\n",
       "\n",
       "            const xScale = d3.scaleTime().range([margin , width - margin]).domain(d3.extent(data, (d,i) => d.DATE))\n",
       "            const yScale = d3.scaleLinear().range([height-margin , margin]).domain(d3.extent(data, (d,i) => d.TMAX))\n",
       "\n",
       "            const line = d3.line()\n",
       "                .x((d,i)=> xScale(d.DATE)) \n",
       "                .y((d,i)=> yScale(d.TMAX)) \n",
       "\n",
       "            const svg = d3.select(\"div#gohere1\").append(\"svg\")\n",
       "                .attr(\"width\", width)\n",
       "                .attr(\"height\", height)\n",
       "\n",
       "            svg.selectAll(\"path\")\n",
       "                .data([data])\n",
       "                .join(\"path\")\n",
       "                .attr(\"d\", function(d,i) { return line(d) })\n",
       "                .style(\"stroke\", \"green\" )\n",
       "                .style(\"stroke-width\", 3) \n",
       "                .style(\"fill\", \"none\")\n",
       "\n",
       "        })\n",
       "        .catch(function(error){\n",
       "\n",
       "        })\n",
       "\n",
       "})\n",
       "</script>\n"
      ],
      "text/plain": [
       "<IPython.core.display.HTML object>"
      ]
     },
     "metadata": {},
     "output_type": "display_data"
    }
   ],
   "source": [
    "%%html\n",
    "<div id=\"gohere1\"></div>\n",
    "\n",
    "<script type=\"text/javascript\">   \n",
    "require(['d3'], function (d3) {\n",
    "    \n",
    "    d3.csv('weather.csv')\n",
    "        .then(function(data) {\n",
    "            const width = 600\n",
    "            const height = 300\n",
    "            const margin = 60 \n",
    "            const dateConverter = d3.timeParse(\"%_m/%_d/%Y\")\n",
    "            data = data.filter(d=> (d.MONTH==\"3\") && (d.YEAR==\"2020\"))\n",
    "            data = data.map(d=> ({\"DATE\":dateConverter(d.DATE),\"TMAX\":+d.TMAX}))\n",
    "            \n",
    "            const xScale = d3.scaleTime().range([margin , width - margin]).domain(d3.extent(data, (d,i) => d.DATE))\n",
    "            const yScale = d3.scaleLinear().range([height-margin , margin]).domain(d3.extent(data, (d,i) => d.TMAX))\n",
    "            \n",
    "            const line = d3.line()\n",
    "                .x((d,i)=> xScale(d.DATE)) \n",
    "                .y((d,i)=> yScale(d.TMAX)) \n",
    "            \n",
    "            const svg = d3.select(\"div#gohere1\").append(\"svg\")\n",
    "                .attr(\"width\", width)\n",
    "                .attr(\"height\", height)\n",
    "\n",
    "            svg.selectAll(\"path\")\n",
    "                .data([data])\n",
    "                .join(\"path\")\n",
    "                .attr(\"d\", function(d,i) { return line(d) })\n",
    "                .style(\"stroke\", \"green\" )\n",
    "                .style(\"stroke-width\", 3) \n",
    "                .style(\"fill\", \"none\")\n",
    "            \n",
    "        })\n",
    "        .catch(function(error){\n",
    "        \n",
    "        })\n",
    "    \n",
    "})\n",
    "</script>"
   ]
  },
  {
   "cell_type": "markdown",
   "metadata": {},
   "source": [
    "#### Adding our Circles"
   ]
  },
  {
   "cell_type": "code",
   "execution_count": 14,
   "metadata": {},
   "outputs": [
    {
     "data": {
      "text/html": [
       "<div id=\"gohere2\"></div>\n",
       "\n",
       "<script type=\"text/javascript\">   \n",
       "require(['d3'], function (d3) {\n",
       "\n",
       "    d3.csv('weather.csv')\n",
       "        .then(function(data) {\n",
       "            const width = 600\n",
       "            const height = 300\n",
       "            const margin = 60 \n",
       "            const dateConverter = d3.timeParse(\"%_m/%_d/%Y\")\n",
       "            data = data.filter(d=> (d.MONTH==\"3\") && (d.YEAR==\"2020\"))\n",
       "            data = data.map(d=> ({\"DATE\":dateConverter(d.DATE),\"TMAX\":+d.TMAX}))\n",
       "\n",
       "            const xScale = d3.scaleTime().range([margin , width - margin]).domain(d3.extent(data, (d,i) => d.DATE))\n",
       "            const yScale = d3.scaleLinear().range([height-margin , margin]).domain(d3.extent(data, (d,i) => d.TMAX))\n",
       "\n",
       "            const line = d3.line()\n",
       "                .x((d,i)=> xScale(d.DATE)) \n",
       "                .y((d,i)=> yScale(d.TMAX)) \n",
       "\n",
       "\n",
       "            const svg = d3.select(\"div#gohere2\").append(\"svg\")\n",
       "                .attr(\"width\", width)\n",
       "                .attr(\"height\", height)\n",
       "\n",
       "             svg.selectAll(\"circle\")\n",
       "                .data(data)\n",
       "                .join(\"circle\")\n",
       "                .attr(\"cx\", (d,i)=> xScale(d.DATE))\n",
       "                .attr(\"cy\", (d,i)=> yScale(d.TMAX))\n",
       "                .attr(\"r\", 5) \n",
       "                .style(\"fill\", \"none\")\n",
       "                .style(\"stroke\", \"black\" )\n",
       "                .style(\"stroke-width\", 3) \n",
       "\n",
       "            svg.selectAll(\"path\")\n",
       "                .data([data])\n",
       "                .join(\"path\")\n",
       "                .attr(\"d\", function(d,i) { return line(d) })\n",
       "                .style(\"stroke\", \"green\" )\n",
       "                .style(\"stroke-width\", 3) \n",
       "                .style(\"fill\", \"none\")\n",
       "\n",
       "\n",
       "\n",
       "        })\n",
       "        .catch(function(error){\n",
       "\n",
       "        })\n",
       "\n",
       "})\n",
       "</script>\n"
      ],
      "text/plain": [
       "<IPython.core.display.HTML object>"
      ]
     },
     "metadata": {},
     "output_type": "display_data"
    }
   ],
   "source": [
    "%%html\n",
    "<div id=\"gohere2\"></div>\n",
    "\n",
    "<script type=\"text/javascript\">   \n",
    "require(['d3'], function (d3) {\n",
    "    \n",
    "    d3.csv('weather.csv')\n",
    "        .then(function(data) {\n",
    "            const width = 600\n",
    "            const height = 300\n",
    "            const margin = 60 \n",
    "            const dateConverter = d3.timeParse(\"%_m/%_d/%Y\")\n",
    "            data = data.filter(d=> (d.MONTH==\"3\") && (d.YEAR==\"2020\"))\n",
    "            data = data.map(d=> ({\"DATE\":dateConverter(d.DATE),\"TMAX\":+d.TMAX}))\n",
    "            \n",
    "            const xScale = d3.scaleTime().range([margin , width - margin]).domain(d3.extent(data, (d,i) => d.DATE))\n",
    "            const yScale = d3.scaleLinear().range([height-margin , margin]).domain(d3.extent(data, (d,i) => d.TMAX))\n",
    "            \n",
    "            const line = d3.line()\n",
    "                .x((d,i)=> xScale(d.DATE)) \n",
    "                .y((d,i)=> yScale(d.TMAX)) \n",
    "            \n",
    "            \n",
    "            const svg = d3.select(\"div#gohere2\").append(\"svg\")\n",
    "                .attr(\"width\", width)\n",
    "                .attr(\"height\", height)\n",
    "\n",
    "             svg.selectAll(\"circle\")\n",
    "                .data(data)\n",
    "                .join(\"circle\")\n",
    "                .attr(\"cx\", (d,i)=> xScale(d.DATE))\n",
    "                .attr(\"cy\", (d,i)=> yScale(d.TMAX))\n",
    "                .attr(\"r\", 5) \n",
    "                .style(\"fill\", \"none\")\n",
    "                .style(\"stroke\", \"black\" )\n",
    "                .style(\"stroke-width\", 3) \n",
    "            \n",
    "            svg.selectAll(\"path\")\n",
    "                .data([data])\n",
    "                .join(\"path\")\n",
    "                .attr(\"d\", function(d,i) { return line(d) })\n",
    "                .style(\"stroke\", \"green\" )\n",
    "                .style(\"stroke-width\", 3) \n",
    "                .style(\"fill\", \"none\")\n",
    "            \n",
    "\n",
    "            \n",
    "        })\n",
    "        .catch(function(error){\n",
    "        \n",
    "        })\n",
    "    \n",
    "})\n",
    "</script>"
   ]
  },
  {
   "cell_type": "markdown",
   "metadata": {},
   "source": [
    "That's it! That is all the code we need to make the artwork. Now, we probably want to add an axis for our x and y values. Let's see how that will look within our code.\n",
    "\n",
    "The x-axis will need to have the axis label at the bottom of the axis. This is pretty straight-forward by using the axisBottom() function to make the axis text on the bottom. The scale of our axis (the smallest, largest, and the labels in-between) will be based on our x values or scaleTime() values. So, set this as our scale. "
   ]
  },
  {
   "cell_type": "code",
   "execution_count": 15,
   "metadata": {},
   "outputs": [
    {
     "data": {
      "text/html": [
       "<div id=\"gohere3\"></div>\n",
       "\n",
       "<script type=\"text/javascript\">   \n",
       "require(['d3'], function (d3) {\n",
       "\n",
       "    d3.csv('weather.csv')\n",
       "        .then(function(data) {\n",
       "            const width = 600\n",
       "            const height = 300\n",
       "            const margin = 60 \n",
       "            const dateConverter = d3.timeParse(\"%_m/%_d/%Y\")\n",
       "            data = data.filter(d=> (d.MONTH==\"5\") && (d.YEAR==\"2020\"))\n",
       "            data = data.map(d=> ({\"DATE\":dateConverter(d.DATE),\"TMIN\":+d.TMIN}))\n",
       "\n",
       "            const xScale = d3.scaleTime().range([margin , width - margin]).domain(d3.extent(data, (d,i) => d.DATE))\n",
       "            const yScale = d3.scaleLinear().range([height-margin , margin]).domain(d3.extent(data, (d,i) => d.TMIN))\n",
       "\n",
       "            const line = d3.line()\n",
       "                .x((d,i)=> xScale(d.DATE)) \n",
       "                .y((d,i)=> yScale(d.TMIN)) \n",
       "\n",
       "\n",
       "            const svg = d3.select(\"div#gohere3\").append(\"svg\")\n",
       "                .attr(\"width\", width)\n",
       "                .attr(\"height\", height)\n",
       "\n",
       "\n",
       "            const xAxis = d3.axisBottom().scale(xScale).tickFormat(d3.timeFormat(\"%d\"))\n",
       "\n",
       "            svg.append(\"g\")\n",
       "                .attr(\"class\", \"axis\")\n",
       "                .attr(\"transform\", \"translate(0,\" + (height-margin) + \")\")\n",
       "                .call(xAxis) \n",
       "\n",
       "            svg.selectAll(\"path.temp\")\n",
       "                .data([data])\n",
       "                .join(\"path\")\n",
       "                .attr(\"d\", function(d,i) { return line(d) })\n",
       "                .attr(\"class\", \"temp\")\n",
       "                .style(\"stroke\", \"green\" )\n",
       "                .style(\"stroke-width\", 3) \n",
       "                .style(\"fill\", \"none\")\n",
       "\n",
       "            svg.selectAll(\"circle\")\n",
       "                .data(data)\n",
       "                .join(\"circle\")\n",
       "                .attr(\"cx\", (d,i)=> xScale(d.DATE))\n",
       "                .attr(\"cy\", (d,i)=> yScale(d.TMIN))\n",
       "                .attr(\"r\", 5)\n",
       "\n",
       "        })\n",
       "        .catch(function(error){\n",
       "\n",
       "        })\n",
       "\n",
       "})\n",
       "</script>\n"
      ],
      "text/plain": [
       "<IPython.core.display.HTML object>"
      ]
     },
     "metadata": {},
     "output_type": "display_data"
    }
   ],
   "source": [
    "%%html\n",
    "<div id=\"gohere3\"></div>\n",
    "\n",
    "<script type=\"text/javascript\">   \n",
    "require(['d3'], function (d3) {\n",
    "    \n",
    "    d3.csv('weather.csv')\n",
    "        .then(function(data) {\n",
    "            const width = 600\n",
    "            const height = 300\n",
    "            const margin = 60 \n",
    "            const dateConverter = d3.timeParse(\"%_m/%_d/%Y\")\n",
    "            data = data.filter(d=> (d.MONTH==\"5\") && (d.YEAR==\"2020\"))\n",
    "            data = data.map(d=> ({\"DATE\":dateConverter(d.DATE),\"TMIN\":+d.TMIN}))\n",
    "            \n",
    "            const xScale = d3.scaleTime().range([margin , width - margin]).domain(d3.extent(data, (d,i) => d.DATE))\n",
    "            const yScale = d3.scaleLinear().range([height-margin , margin]).domain(d3.extent(data, (d,i) => d.TMIN))\n",
    "            \n",
    "            const line = d3.line()\n",
    "                .x((d,i)=> xScale(d.DATE)) \n",
    "                .y((d,i)=> yScale(d.TMIN)) \n",
    "            \n",
    "            \n",
    "            const svg = d3.select(\"div#gohere3\").append(\"svg\")\n",
    "                .attr(\"width\", width)\n",
    "                .attr(\"height\", height)\n",
    "            \n",
    "            \n",
    "            const xAxis = d3.axisBottom().scale(xScale).tickFormat(d3.timeFormat(\"%d\"))\n",
    "            \n",
    "            svg.append(\"g\")\n",
    "                .attr(\"class\", \"axis\")\n",
    "                .attr(\"transform\", \"translate(0,\" + (height-margin) + \")\")\n",
    "                .call(xAxis) \n",
    "            \n",
    "            svg.selectAll(\"path.temp\")\n",
    "                .data([data])\n",
    "                .join(\"path\")\n",
    "                .attr(\"d\", function(d,i) { return line(d) })\n",
    "                .attr(\"class\", \"temp\")\n",
    "                .style(\"stroke\", \"green\" )\n",
    "                .style(\"stroke-width\", 3) \n",
    "                .style(\"fill\", \"none\")\n",
    "            \n",
    "            svg.selectAll(\"circle\")\n",
    "                .data(data)\n",
    "                .join(\"circle\")\n",
    "                .attr(\"cx\", (d,i)=> xScale(d.DATE))\n",
    "                .attr(\"cy\", (d,i)=> yScale(d.TMIN))\n",
    "                .attr(\"r\", 5)\n",
    "            \n",
    "        })\n",
    "        .catch(function(error){\n",
    "        \n",
    "        })\n",
    "    \n",
    "})\n",
    "</script>"
   ]
  },
  {
   "cell_type": "markdown",
   "metadata": {},
   "source": [
    "The y-axis will need to have the axis label to the left. Again, straight-forward, axisLeft(), and the scaling is based on our y values or scaleLinear() values. "
   ]
  },
  {
   "cell_type": "code",
   "execution_count": 16,
   "metadata": {},
   "outputs": [
    {
     "data": {
      "text/html": [
       "<div id=\"gohere4\"></div>\n",
       "\n",
       "<script type=\"text/javascript\">   \n",
       "require(['d3'], function (d3) {\n",
       "\n",
       "    d3.csv('weather.csv')\n",
       "        .then(function(data) {\n",
       "            const width = 600\n",
       "            const height = 300\n",
       "            const margin = 60 \n",
       "            const dateConverter = d3.timeParse(\"%_m/%_d/%Y\")\n",
       "            data = data.filter(d=> (d.MONTH==\"5\") && (d.YEAR==\"2020\"))\n",
       "            data = data.map(d=> ({\"DATE\":dateConverter(d.DATE),\"TMAX\":+d.TMIN}))\n",
       "\n",
       "            const xScale = d3.scaleTime().range([margin , width - margin]).domain(d3.extent(data, (d,i) => d.DATE))\n",
       "            const yScale = d3.scaleLinear().range([height-margin , margin]).domain(d3.extent(data, (d,i) => d.TMAX))\n",
       "\n",
       "            const line = d3.line()\n",
       "                .x((d,i)=> xScale(d.DATE)) \n",
       "                .y((d,i)=> yScale(d.TMAX)) \n",
       "\n",
       "\n",
       "            const svg = d3.select(\"div#gohere4\").append(\"svg\")\n",
       "                .attr(\"width\", width)\n",
       "                .attr(\"height\", height)\n",
       "\n",
       "\n",
       "            const xAxis = d3.axisBottom().scale(xScale).tickFormat(d3.timeFormat(\"%d\"))\n",
       "\n",
       "            svg.append(\"g\")\n",
       "                .attr(\"class\", \"axis\")\n",
       "                .attr(\"transform\", \"translate(0,\" + (height-margin) + \")\")\n",
       "                .call(xAxis) \n",
       "\n",
       "\n",
       "            const yAxis = d3.axisLeft().scale(yScale).tickFormat((d,i) => d + \"°\")\n",
       "\n",
       "            svg.append(\"g\")\n",
       "                .attr(\"class\", \"axis\")\n",
       "                .attr(\"transform\", \"translate(\" + margin + \",0)\")\n",
       "                .call(yAxis)  \n",
       "\n",
       "            svg.selectAll(\"path.temp\")\n",
       "                .data([data])\n",
       "                .join(\"path\")\n",
       "                .attr(\"d\", function(d,i) { return line(d) })\n",
       "                .attr(\"class\", \"temp\")\n",
       "                .style(\"stroke\", \"green\" )\n",
       "                .style(\"stroke-width\", 3) \n",
       "                .style(\"fill\", \"none\")\n",
       "\n",
       "            svg.selectAll(\"circle\")\n",
       "                .data(data)\n",
       "                .join(\"circle\")\n",
       "                .attr(\"cx\", (d,i)=> xScale(d.DATE))\n",
       "                .attr(\"cy\", (d,i)=> yScale(d.TMAX))\n",
       "                .attr(\"r\", 5)\n",
       "\n",
       "        })\n",
       "        .catch(function(error){\n",
       "\n",
       "        })\n",
       "\n",
       "})\n",
       "</script>\n"
      ],
      "text/plain": [
       "<IPython.core.display.HTML object>"
      ]
     },
     "metadata": {},
     "output_type": "display_data"
    }
   ],
   "source": [
    "%%html\n",
    "<div id=\"gohere4\"></div>\n",
    "\n",
    "<script type=\"text/javascript\">   \n",
    "require(['d3'], function (d3) {\n",
    "    \n",
    "    d3.csv('weather.csv')\n",
    "        .then(function(data) {\n",
    "            const width = 600\n",
    "            const height = 300\n",
    "            const margin = 60 \n",
    "            const dateConverter = d3.timeParse(\"%_m/%_d/%Y\")\n",
    "            data = data.filter(d=> (d.MONTH==\"5\") && (d.YEAR==\"2020\"))\n",
    "            data = data.map(d=> ({\"DATE\":dateConverter(d.DATE),\"TMAX\":+d.TMIN}))\n",
    "            \n",
    "            const xScale = d3.scaleTime().range([margin , width - margin]).domain(d3.extent(data, (d,i) => d.DATE))\n",
    "            const yScale = d3.scaleLinear().range([height-margin , margin]).domain(d3.extent(data, (d,i) => d.TMAX))\n",
    "            \n",
    "            const line = d3.line()\n",
    "                .x((d,i)=> xScale(d.DATE)) \n",
    "                .y((d,i)=> yScale(d.TMAX)) \n",
    "            \n",
    "            \n",
    "            const svg = d3.select(\"div#gohere4\").append(\"svg\")\n",
    "                .attr(\"width\", width)\n",
    "                .attr(\"height\", height)\n",
    "            \n",
    "            \n",
    "            const xAxis = d3.axisBottom().scale(xScale).tickFormat(d3.timeFormat(\"%d\"))\n",
    "            \n",
    "            svg.append(\"g\")\n",
    "                .attr(\"class\", \"axis\")\n",
    "                .attr(\"transform\", \"translate(0,\" + (height-margin) + \")\")\n",
    "                .call(xAxis) \n",
    "            \n",
    "            \n",
    "            const yAxis = d3.axisLeft().scale(yScale).tickFormat((d,i) => d + \"°\")\n",
    "            \n",
    "            svg.append(\"g\")\n",
    "                .attr(\"class\", \"axis\")\n",
    "                .attr(\"transform\", \"translate(\" + margin + \",0)\")\n",
    "                .call(yAxis)  \n",
    "            \n",
    "            svg.selectAll(\"path.temp\")\n",
    "                .data([data])\n",
    "                .join(\"path\")\n",
    "                .attr(\"d\", function(d,i) { return line(d) })\n",
    "                .attr(\"class\", \"temp\")\n",
    "                .style(\"stroke\", \"green\" )\n",
    "                .style(\"stroke-width\", 3) \n",
    "                .style(\"fill\", \"none\")\n",
    "            \n",
    "            svg.selectAll(\"circle\")\n",
    "                .data(data)\n",
    "                .join(\"circle\")\n",
    "                .attr(\"cx\", (d,i)=> xScale(d.DATE))\n",
    "                .attr(\"cy\", (d,i)=> yScale(d.TMAX))\n",
    "                .attr(\"r\", 5)\n",
    "            \n",
    "        })\n",
    "        .catch(function(error){\n",
    "        \n",
    "        })\n",
    "    \n",
    "})\n",
    "</script>"
   ]
  },
  {
   "cell_type": "code",
   "execution_count": null,
   "metadata": {},
   "outputs": [],
   "source": []
  }
 ],
 "metadata": {
  "kernelspec": {
   "display_name": "Python 3",
   "language": "python",
   "name": "python3"
  },
  "language_info": {
   "codemirror_mode": {
    "name": "ipython",
    "version": 3
   },
   "file_extension": ".py",
   "mimetype": "text/x-python",
   "name": "python",
   "nbconvert_exporter": "python",
   "pygments_lexer": "ipython3",
   "version": "3.7.10"
  }
 },
 "nbformat": 4,
 "nbformat_minor": 4
}