{
 "cells": [
  {
   "cell_type": "markdown",
   "id": "0efd9f2d-1963-4068-b440-00cbb4960203",
   "metadata": {},
   "source": [
    "# Notebook Introduction - 🐸"
   ]
  },
  {
   "cell_type": "markdown",
   "id": "3acd87f9-9665-4f8b-81ad-cf1dbb3f585d",
   "metadata": {},
   "source": [
    "This notebook allows you to both follow the text and interact with the code directly. \n",
    "\n",
    "At the top page, you will see:\n",
    "\n",
    "<img src=\"https://raw.githubusercontent.com/dudaspm/JupyterLab-Python/main/images/topscreen1.png\" alt=\"icons at the top right corner of the screen\" style=\"width:200px;margin-left:auto;margin-right:auto;display:block;\">\n",
    "\n",
    "Select the icon on the left, the rocket ship:\n",
    "\n",
    "<img src=\"https://raw.githubusercontent.com/dudaspm/JupyterLab-Python/main/images/topscreen2.png\" alt=\"rocket ship icon for running the notebook\" style=\"width:200px;margin-left:auto;margin-right:auto;display:block;\">\n",
    "\n",
    "Then go down to \"Live Code\":\n",
    "\n",
    "\n",
    "<img src=\"https://raw.githubusercontent.com/dudaspm/JupyterLab-Python/main/images/topscreen4.png\" alt=\"selecting Live Code\" style=\"width:240px;margin-left:auto;margin-right:auto;display:block;\">\n",
    "\n",
    "You should see at the top of the page a loading bar that cycles through mulitple states. \n",
    "<img src=\"https://raw.githubusercontent.com/dudaspm/JupyterLab-Python/main/images/topscreen6.png\" alt=\"loading bar, first cycle\" style=\"width:240px;margin-left:auto;margin-right:auto;display:block;\">\n",
    "\n",
    "<img src=\"https://raw.githubusercontent.com/dudaspm/JupyterLab-Python/main/images/topscreen7.png\" alt=\"loading bar, second cycle\" style=\"width:240px;margin-left:auto;margin-right:auto;display:block;\">\n",
    "\n",
    "<img src=\"https://raw.githubusercontent.com/dudaspm/JupyterLab-Python/main/images/topscreen7b.png\" alt=\"loading bar, thrid cycle\" style=\"width:240px;margin-left:auto;margin-right:auto;display:block;\">\n",
    "\n",
    "<img alt=\"loading bar, fourth cycle\" src=\"https://raw.githubusercontent.com/dudaspm/JupyterLab-Python/main/images/topscreen8.png\" style=\"width:240px;margin-left:auto;margin-right:auto;display:block;\">\n",
    "\n",
    "Then, finally:\n",
    "<img src=\"https://raw.githubusercontent.com/dudaspm/JupyterLab-Python/main/images/topscreen9.png\" alt=\"loading bar, final cycle\" style=\"width:240px;margin-left:auto;margin-right:auto;display:block;\">\n",
    "\n",
    "Try this for yourself! \n",
    "\n",
    "Here is a basic line in Python, after setting to Live Code. You can edit the Python code **directly in the notebook** 😀 😀 😀"
   ]
  },
  {
   "cell_type": "code",
   "execution_count": 1,
   "id": "fe679ecf-558a-4a1f-bfa3-f72db8b304b6",
   "metadata": {},
   "outputs": [
    {
     "data": {
      "text/plain": [
       "4"
      ]
     },
     "execution_count": 1,
     "metadata": {},
     "output_type": "execute_result"
    }
   ],
   "source": [
    "2 + 2"
   ]
  },
  {
   "cell_type": "markdown",
   "id": "0e4289c3-2a4a-4b89-b986-890bf51c028b",
   "metadata": {},
   "source": [
    "## Export to Binder or Google Colab "
   ]
  },
  {
   "cell_type": "markdown",
   "id": "8b1a2e6e-124c-44cd-be12-a93243c23245",
   "metadata": {},
   "source": [
    "As you can see you can also export these notebooks to Binder or Google Colab. \n",
    "\n",
    "<img alt=\"Binder or Google Colab options\" src=\"https://raw.githubusercontent.com/dudaspm/JupyterLab-Python/main/images/topscreen3.png\" style=\"width:240px;margin-left:auto;margin-right:auto;display:block;\">\n",
    "\n",
    "This will take you to their respective websites but you can work with them there, if you would like!"
   ]
  },
  {
   "cell_type": "markdown",
   "id": "1bb6bbb2-53a7-41d3-accd-bb1610756108",
   "metadata": {},
   "source": [
    "I know it tradition to have the refences at the end of books, but when you are standing on the shoulders of giants. You thank them first. "
   ]
  },
  {
   "cell_type": "markdown",
   "id": "5be661e3-41eb-4835-9448-79997c1628b2",
   "metadata": {},
   "source": [
    "## References"
   ]
  },
  {
   "cell_type": "markdown",
   "id": "c934f71d-206f-4fd9-9553-1f0177cb83be",
   "metadata": {},
   "source": [
    "```{bibliography}\n",
    "```"
   ]
  },
  {
   "cell_type": "code",
   "execution_count": null,
   "id": "312cb955-bfc2-477a-8c37-5b0077df8f50",
   "metadata": {},
   "outputs": [],
   "source": []
  }
 ],
 "metadata": {
  "kernelspec": {
   "display_name": "Python 3",
   "language": "python",
   "name": "python3"
  },
  "language_info": {
   "codemirror_mode": {
    "name": "ipython",
    "version": 3
   },
   "file_extension": ".py",
   "mimetype": "text/x-python",
   "name": "python",
   "nbconvert_exporter": "python",
   "pygments_lexer": "ipython3",
   "version": "3.7.10"
  }
 },
 "nbformat": 4,
 "nbformat_minor": 5
}