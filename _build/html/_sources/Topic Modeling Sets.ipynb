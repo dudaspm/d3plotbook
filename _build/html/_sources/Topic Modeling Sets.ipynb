{
 "cells": [
  {
   "cell_type": "markdown",
   "id": "fe0a17bc-2e42-4a7f-abc2-cd7a486d94e4",
   "metadata": {},
   "source": [
    "# Topic Modeling - Graphically"
   ]
  },
  {
   "cell_type": "markdown",
   "id": "574b4175-8f96-4939-9bc0-49b43bb37fc7",
   "metadata": {},
   "source": [
    "When considering topic modeling. It can be difficult to visualize the complexity when considering multiple topics. Presented is a means to create graphical concpetual model of documents in N-dimensions. "
   ]
  },
  {
   "cell_type": "markdown",
   "id": "5993b18b-24a4-4068-8463-72ed2090ec05",
   "metadata": {},
   "source": [
    "For this exercise we will be using D3.js to produce our graphic for topic modeling dimensionality. To start using D3.js in JupyterLab or Google Colab, we need to include the following pre-run call. Meaning, each time we run a cell. We want JupyterLab to make the D3.js library available. "
   ]
  },
  {
   "cell_type": "code",
   "execution_count": 15,
   "id": "f922ce7a-520f-40ec-bf6a-ae0b89e06b23",
   "metadata": {},
   "outputs": [
    {
     "data": {
      "text/html": [
       "<script src='https://d3js.org/d3.v6.min.js'></script>"
      ],
      "text/plain": [
       "<IPython.core.display.HTML object>"
      ]
     },
     "metadata": {},
     "output_type": "display_data"
    }
   ],
   "source": [
    "from IPython.display import  HTML\n",
    "\n",
    "def load_d3_in_cell_output():\n",
    "  display(HTML(\"<script src='https://d3js.org/d3.v6.min.js'></script>\"))\n",
    "get_ipython().events.register('pre_run_cell', load_d3_in_cell_output)"
   ]
  },
  {
   "cell_type": "markdown",
   "id": "a7a70176-3e18-42a6-925b-bb901c87e984",
   "metadata": {},
   "source": []
  },
  {
   "cell_type": "code",
   "execution_count": 16,
   "id": "0e89e577-60e3-4a07-bb70-5d312541b166",
   "metadata": {
    "tags": [
     "hide-input"
    ]
   },
   "outputs": [
    {
     "data": {
      "text/html": [
       "<script src='https://d3js.org/d3.v6.min.js'></script>"
      ],
      "text/plain": [
       "<IPython.core.display.HTML object>"
      ]
     },
     "metadata": {},
     "output_type": "display_data"
    },
    {
     "data": {
      "text/html": [
       "<script src='https://d3js.org/d3.v6.min.js'></script>"
      ],
      "text/plain": [
       "<IPython.core.display.HTML object>"
      ]
     },
     "metadata": {},
     "output_type": "display_data"
    },
    {
     "data": {
      "text/html": [
       "<div id=\"triangle1\"></div>\n",
       "\n",
       "<script type=\"text/javascript\">   \n",
       "    var width = 300\n",
       "    var height = 300\n",
       "    var triangles = 1\n",
       "    var dataset = d3.range(triangles*3).map(d=>d)\n",
       "    var tri_size = 10\n",
       "    \n",
       "    var svg = d3.select(\"div#triangle1\").append(\"svg\")\n",
       "        .attr(\"width\", width)\n",
       "        .attr(\"height\", height)\n",
       "        \n",
       "    var tri_x = [(tri_size/2), tri_size, 0]\n",
       "    var tri_y = [0, tri_size, tri_size]\n",
       "    svg.selectAll(\"circle\")\n",
       "        .data(d3.range(triangles*3).map(d=>d))\n",
       "        .join(\"circle\")\n",
       "        .attr(\"cx\", (d,i)=> tri_x[i])\n",
       "        .attr(\"cy\", (d,i)=> tri_y[i])\n",
       "        .attr(\"r\", 4)\n",
       "        .style(\"fill\", \"purple\")\n",
       "        .style(\"stroke\", \"black\")\n",
       "        .style(\"stroke-width\", 3) // reminder, this means 3 pixels\n",
       "\n",
       "</script>\n"
      ],
      "text/plain": [
       "<IPython.core.display.HTML object>"
      ]
     },
     "metadata": {},
     "output_type": "display_data"
    }
   ],
   "source": [
    "%%html\n",
    "<div id=\"triangle1\"></div>\n",
    "\n",
    "<script type=\"text/javascript\">   \n",
    "    var width = 300\n",
    "    var height = 300\n",
    "    var triangles = 1\n",
    "    var dataset = d3.range(triangles*3).map(d=>d)\n",
    "    var tri_size = 10\n",
    "    \n",
    "    var svg = d3.select(\"div#triangle1\").append(\"svg\")\n",
    "        .attr(\"width\", width)\n",
    "        .attr(\"height\", height)\n",
    "        \n",
    "    var tri_x = [(tri_size/2), tri_size, 0]\n",
    "    var tri_y = [0, tri_size, tri_size]\n",
    "    svg.selectAll(\"circle\")\n",
    "        .data(d3.range(triangles*3).map(d=>d))\n",
    "        .join(\"circle\")\n",
    "        .attr(\"cx\", (d,i)=> tri_x[i])\n",
    "        .attr(\"cy\", (d,i)=> tri_y[i])\n",
    "        .attr(\"r\", 4)\n",
    "        .style(\"fill\", \"purple\")\n",
    "        .style(\"stroke\", \"black\")\n",
    "        .style(\"stroke-width\", 3) // reminder, this means 3 pixels\n",
    "\n",
    "</script>"
   ]
  },
  {
   "cell_type": "code",
   "execution_count": 45,
   "id": "720cff15-7a90-486d-ad56-5986526b174c",
   "metadata": {
    "tags": [
     "hide-input"
    ]
   },
   "outputs": [
    {
     "data": {
      "text/html": [
       "<script src='https://d3js.org/d3.v6.min.js'></script>"
      ],
      "text/plain": [
       "<IPython.core.display.HTML object>"
      ]
     },
     "metadata": {},
     "output_type": "display_data"
    },
    {
     "data": {
      "text/html": [
       "<script src='https://d3js.org/d3.v6.min.js'></script>"
      ],
      "text/plain": [
       "<IPython.core.display.HTML object>"
      ]
     },
     "metadata": {},
     "output_type": "display_data"
    },
    {
     "data": {
      "text/html": [
       "<div id=\"triangle2\"></div>\n",
       "\n",
       "<script type=\"text/javascript\">   \n",
       "    var width = 300\n",
       "    var height = 300\n",
       "    var margin = 20\n",
       "    var triangles = 1\n",
       "    var tri_col = 10\n",
       "    var tri_row = 10\n",
       "    var tri_size = 10\n",
       "    var x = d3.scaleLinear().range([margin , width - margin]).domain([0,tri_col-1])\n",
       "    var y = d3.scaleLinear().range([margin , height-margin]).domain([0,tri_row-1])\n",
       "    var tri_x = [(tri_size/2), tri_size, 0]\n",
       "    var tri_y = [0, tri_size, tri_size]   \n",
       "    \n",
       "    var svg = d3.select(\"div#triangle2\").append(\"svg\")\n",
       "        .attr(\"width\", width)\n",
       "        .attr(\"height\", height)\n",
       "        \n",
       "    var g = svg.selectAll(\"g\")\n",
       "        .data(d3.range(tri_col*tri_row).map(d=>d))\n",
       "        .join(\"g\")\n",
       "        .attr(\"transform\", d => \"translate(\"+(x(d%tri_col))+\",\"+(y(Math.floor(d/tri_col)))+\")\")\n",
       "    g.selectAll(\"circle\")\n",
       "        .data(d3.range(triangles*3).map(d=>d))\n",
       "        .join(\"circle\")\n",
       "        .attr(\"cx\", (d,i)=> tri_x[i])\n",
       "        .attr(\"cy\", (d,i)=> tri_y[i])\n",
       "        .attr(\"r\", 4)\n",
       "        .style(\"fill\", \"purple\")\n",
       "        .style(\"stroke\", \"black\")\n",
       "        .style(\"stroke-width\", 3) // reminder, this means 3 pixels\n",
       "\n",
       "</script>\n"
      ],
      "text/plain": [
       "<IPython.core.display.HTML object>"
      ]
     },
     "metadata": {},
     "output_type": "display_data"
    }
   ],
   "source": [
    "%%html\n",
    "<div id=\"triangle2\"></div>\n",
    "\n",
    "<script type=\"text/javascript\">   \n",
    "    var width = 300\n",
    "    var height = 300\n",
    "    var margin = 20\n",
    "    var triangles = 1\n",
    "    var tri_col = 10\n",
    "    var tri_row = 10\n",
    "    var tri_size = 10\n",
    "    var x = d3.scaleLinear().range([margin , width - margin]).domain([0,tri_col-1])\n",
    "    var y = d3.scaleLinear().range([margin , height-margin]).domain([0,tri_row-1])\n",
    "    var tri_x = [(tri_size/2), tri_size, 0]\n",
    "    var tri_y = [0, tri_size, tri_size]   \n",
    "    \n",
    "    var svg = d3.select(\"div#triangle2\").append(\"svg\")\n",
    "        .attr(\"width\", width)\n",
    "        .attr(\"height\", height)\n",
    "        \n",
    "    var g = svg.selectAll(\"g\")\n",
    "        .data(d3.range(tri_col*tri_row).map(d=>d))\n",
    "        .join(\"g\")\n",
    "        .attr(\"transform\", d => \"translate(\"+(x(d%tri_col))+\",\"+(y(Math.floor(d/tri_col)))+\")\")\n",
    "    g.selectAll(\"circle\")\n",
    "        .data(d3.range(triangles*3).map(d=>d))\n",
    "        .join(\"circle\")\n",
    "        .attr(\"cx\", (d,i)=> tri_x[i])\n",
    "        .attr(\"cy\", (d,i)=> tri_y[i])\n",
    "        .attr(\"r\", 4)\n",
    "        .style(\"fill\", \"purple\")\n",
    "        .style(\"stroke\", \"black\")\n",
    "        .style(\"stroke-width\", 3) // reminder, this means 3 pixels\n",
    "\n",
    "</script>"
   ]
  },
  {
   "cell_type": "markdown",
   "id": "e79750d9-8813-4281-9560-aac8ac4d8637",
   "metadata": {},
   "source": [
    "Topics = 5\n",
    "\n",
    "$n = 5$\n",
    "\n",
    "$r = 3$\n",
    "\n",
    "$\\frac{n!}{ r! (n - r)!}$"
   ]
  },
  {
   "cell_type": "code",
   "execution_count": 116,
   "id": "883b596c-5d65-47ac-b7bf-2c5a1e0572ea",
   "metadata": {},
   "outputs": [
    {
     "data": {
      "text/html": [
       "<script src='https://d3js.org/d3.v6.min.js'></script>"
      ],
      "text/plain": [
       "<IPython.core.display.HTML object>"
      ]
     },
     "metadata": {},
     "output_type": "display_data"
    },
    {
     "data": {
      "text/html": [
       "<script src='https://d3js.org/d3.v6.min.js'></script>"
      ],
      "text/plain": [
       "<IPython.core.display.HTML object>"
      ]
     },
     "metadata": {},
     "output_type": "display_data"
    },
    {
     "data": {
      "text/html": [
       "<div id=\"emoji1\"></div>\n",
       "\n",
       "<script type=\"text/javascript\">   \n",
       "    var width = 600\n",
       "    var height = 600\n",
       "    var margin = 30\n",
       "    var fac = n => !(n > 1) ? 1 : fac(n - 1) * n;\n",
       "    var n = 5\n",
       "    var r = 3 \n",
       "    var soup = '🐈,🐦,🐳,🐧,🐕,🐙,🐝,🐄,🐪,🐍,🐞,🐬,🐑,🐉,🐤,🐢,🐒,🐘,🐠,🐁'.split(',');\n",
       "    \n",
       "    var topics = d3.range(n).map(d=>soup[d])\n",
       "    var sets = []\n",
       "    for (let i = 0; i < topics.length - 1; i++) {\n",
       "        for (let j = i+1; j < topics.length - 1; j++) {\n",
       "            for (let k = j+1; k < topics.length; k++) {\n",
       "                var temp = []\n",
       "                temp.push(topics[i])\n",
       "                temp.push(topics[j])\n",
       "                temp.push(topics[k])\n",
       "                sets.push(temp)\n",
       "            }\n",
       "        }\n",
       "    }\n",
       "\n",
       "    var triangles = fac(n) / ( fac(r) * fac(n - r) )\n",
       "    var tri_col = 10\n",
       "    var tri_row = Math.ceil(sets.length/tri_col)\n",
       "    var tri_size = 20\n",
       "    var x = d3.scaleLinear().range([margin , width - margin]).domain([0,tri_col-1])\n",
       "    var y = d3.scaleBand().range([margin, height-margin]).domain(d3.range(tri_row))\n",
       "    console.log(d3.range(tri_row))\n",
       "  \n",
       "    var tri_x = [(tri_size/2), tri_size, 0]\n",
       "    var tri_y = [0, tri_size, tri_size]   \n",
       "    var palette = d3.interpolateTurbo\n",
       "    var color = d3.scaleLinear().range([0,1]).domain([0,topics.length-1])\n",
       "    console.log(y.bandwidth())\n",
       "    \n",
       "    var svg = d3.select(\"div#emoji1\").append(\"svg\")\n",
       "        .attr(\"width\", width)\n",
       "        .attr(\"height\", height)\n",
       "        \n",
       "    var g = svg.selectAll(\"g\")\n",
       "        .data(sets)\n",
       "        .join(\"g\")\n",
       "        .attr(\"transform\", (d,i) => \"translate(\"+(x(i%tri_col))+\",\"+(y(Math.floor(i/tri_col))+(y.bandwidth()/2))+\")\")\n",
       "    g.append(\"line\")\n",
       "        .attr(\"x1\", (d,i)=> tri_x[0])\n",
       "        .attr(\"y1\", (d,i)=> tri_y[0])\n",
       "        .attr(\"x2\", (d,i)=> tri_x[1])\n",
       "        .attr(\"y2\", (d,i)=> tri_y[1])\n",
       "        .style(\"stroke\", \"black\")\n",
       "        .style(\"stroke-width\", \"1px\")\n",
       "    g.append(\"line\")\n",
       "        .attr(\"x1\", (d,i)=> tri_x[1])\n",
       "        .attr(\"y1\", (d,i)=> tri_y[1])\n",
       "        .attr(\"x2\", (d,i)=> tri_x[2])\n",
       "        .attr(\"y2\", (d,i)=> tri_y[2])\n",
       "        .style(\"stroke\", \"black\")\n",
       "        .style(\"stroke-width\", \"1px\")\n",
       "    g.append(\"line\")\n",
       "        .attr(\"x1\", (d,i)=> tri_x[2])\n",
       "        .attr(\"y1\", (d,i)=> tri_y[2])\n",
       "        .attr(\"x2\", (d,i)=> tri_x[0])\n",
       "        .attr(\"y2\", (d,i)=> tri_y[0])\n",
       "        .style(\"stroke\", \"black\")\n",
       "        .style(\"stroke-width\", \"1px\")    \n",
       "    \n",
       "    g.selectAll(\"text\")\n",
       "        .data(d=>d)\n",
       "        .join(\"text\")\n",
       "        .attr(\"x\", (d,i)=> tri_x[i])\n",
       "        .attr(\"y\", (d,i)=> tri_y[i])\n",
       "        .style(\"text-anchor\", \"middle\")\n",
       "        .text(d=>d)\n",
       "\n",
       "</script>\n"
      ],
      "text/plain": [
       "<IPython.core.display.HTML object>"
      ]
     },
     "metadata": {},
     "output_type": "display_data"
    }
   ],
   "source": [
    "%%html\n",
    "<div id=\"emoji1\"></div>\n",
    "\n",
    "<script type=\"text/javascript\">   \n",
    "    var width = 600\n",
    "    var height = 600\n",
    "    var margin = 30\n",
    "    var fac = n => !(n > 1) ? 1 : fac(n - 1) * n;\n",
    "    var n = 5\n",
    "    var r = 3 \n",
    "    var soup = '🐈,🐦,🐳,🐧,🐕,🐙,🐝,🐄,🐪,🐍,🐞,🐬,🐑,🐉,🐤,🐢,🐒,🐘,🐠,🐁'.split(',');\n",
    "    \n",
    "    var topics = d3.range(n).map(d=>soup[d])\n",
    "    var sets = []\n",
    "    for (let i = 0; i < topics.length - 1; i++) {\n",
    "        for (let j = i+1; j < topics.length - 1; j++) {\n",
    "            for (let k = j+1; k < topics.length; k++) {\n",
    "                var temp = []\n",
    "                temp.push(topics[i])\n",
    "                temp.push(topics[j])\n",
    "                temp.push(topics[k])\n",
    "                sets.push(temp)\n",
    "            }\n",
    "        }\n",
    "    }\n",
    "\n",
    "    var triangles = fac(n) / ( fac(r) * fac(n - r) )\n",
    "    var tri_col = 10\n",
    "    var tri_row = Math.ceil(sets.length/tri_col)\n",
    "    var tri_size = 20\n",
    "    var x = d3.scaleLinear().range([margin , width - margin]).domain([0,tri_col-1])\n",
    "    var y = d3.scaleBand().range([margin, height-margin]).domain(d3.range(tri_row))\n",
    "    console.log(d3.range(tri_row))\n",
    "  \n",
    "    var tri_x = [(tri_size/2), tri_size, 0]\n",
    "    var tri_y = [0, tri_size, tri_size]   \n",
    "    var palette = d3.interpolateTurbo\n",
    "    var color = d3.scaleLinear().range([0,1]).domain([0,topics.length-1])\n",
    "    console.log(y.bandwidth())\n",
    "    \n",
    "    var svg = d3.select(\"div#emoji1\").append(\"svg\")\n",
    "        .attr(\"width\", width)\n",
    "        .attr(\"height\", height)\n",
    "        \n",
    "    var g = svg.selectAll(\"g\")\n",
    "        .data(sets)\n",
    "        .join(\"g\")\n",
    "        .attr(\"transform\", (d,i) => \"translate(\"+(x(i%tri_col))+\",\"+(y(Math.floor(i/tri_col))+(y.bandwidth()/2))+\")\")\n",
    "    g.append(\"line\")\n",
    "        .attr(\"x1\", (d,i)=> tri_x[0])\n",
    "        .attr(\"y1\", (d,i)=> tri_y[0])\n",
    "        .attr(\"x2\", (d,i)=> tri_x[1])\n",
    "        .attr(\"y2\", (d,i)=> tri_y[1])\n",
    "        .style(\"stroke\", \"black\")\n",
    "        .style(\"stroke-width\", \"1px\")\n",
    "    g.append(\"line\")\n",
    "        .attr(\"x1\", (d,i)=> tri_x[1])\n",
    "        .attr(\"y1\", (d,i)=> tri_y[1])\n",
    "        .attr(\"x2\", (d,i)=> tri_x[2])\n",
    "        .attr(\"y2\", (d,i)=> tri_y[2])\n",
    "        .style(\"stroke\", \"black\")\n",
    "        .style(\"stroke-width\", \"1px\")\n",
    "    g.append(\"line\")\n",
    "        .attr(\"x1\", (d,i)=> tri_x[2])\n",
    "        .attr(\"y1\", (d,i)=> tri_y[2])\n",
    "        .attr(\"x2\", (d,i)=> tri_x[0])\n",
    "        .attr(\"y2\", (d,i)=> tri_y[0])\n",
    "        .style(\"stroke\", \"black\")\n",
    "        .style(\"stroke-width\", \"1px\")    \n",
    "    \n",
    "    g.selectAll(\"text\")\n",
    "        .data(d=>d)\n",
    "        .join(\"text\")\n",
    "        .attr(\"x\", (d,i)=> tri_x[i])\n",
    "        .attr(\"y\", (d,i)=> tri_y[i])\n",
    "        .style(\"text-anchor\", \"middle\")\n",
    "        .text(d=>d)\n",
    "\n",
    "</script>"
   ]
  },
  {
   "cell_type": "markdown",
   "id": "24facdca-dcac-436c-bf01-6a93b556c6d9",
   "metadata": {},
   "source": [
    "Animals = 6 "
   ]
  },
  {
   "cell_type": "code",
   "execution_count": 106,
   "id": "6f11d796-d83d-4ae0-b454-6081229e1e3c",
   "metadata": {
    "tags": [
     "hide-input"
    ]
   },
   "outputs": [
    {
     "data": {
      "text/html": [
       "<script src='https://d3js.org/d3.v6.min.js'></script>"
      ],
      "text/plain": [
       "<IPython.core.display.HTML object>"
      ]
     },
     "metadata": {},
     "output_type": "display_data"
    },
    {
     "data": {
      "text/html": [
       "<script src='https://d3js.org/d3.v6.min.js'></script>"
      ],
      "text/plain": [
       "<IPython.core.display.HTML object>"
      ]
     },
     "metadata": {},
     "output_type": "display_data"
    },
    {
     "data": {
      "text/html": [
       "<div id=\"emoji2\"></div>\n",
       "\n",
       "<script type=\"text/javascript\">   \n",
       "    var width = 600\n",
       "    var height = 600\n",
       "    var margin = 20\n",
       "    var fac = n => !(n > 1) ? 1 : fac(n - 1) * n;\n",
       "    var n = 6\n",
       "    var r = 3 \n",
       "    var soup = '🐈,🐦,🐳,🐧,🐕,🐙,🐝,🐄,🐪,🐍,🐞,🐬,🐑,🐉,🐤,🐢,🐒,🐘,🐠,🐁'.split(',');\n",
       "    \n",
       "    var topics = d3.range(n).map(d=>soup[d])\n",
       "    var sets = []\n",
       "    for (let i = 0; i < topics.length - 1; i++) {\n",
       "        for (let j = i+1; j < topics.length - 1; j++) {\n",
       "            for (let k = j+1; k < topics.length; k++) {\n",
       "                var temp = []\n",
       "                temp.push(topics[i])\n",
       "                temp.push(topics[j])\n",
       "                temp.push(topics[k])\n",
       "                sets.push(temp)\n",
       "            }\n",
       "        }\n",
       "    }\n",
       "\n",
       "    var triangles = fac(n) / ( fac(r) * fac(n - r) )\n",
       "    var tri_col = 10\n",
       "    var tri_row = Math.ceil(sets.length/tri_col)\n",
       "    var tri_size = 20\n",
       "    var x = d3.scaleLinear().range([margin , width - margin]).domain([0,tri_col-1])\n",
       "    var y = d3.scaleBand().range([margin, height-margin]).domain(d3.range(tri_row))\n",
       "    console.log(d3.range(tri_row))\n",
       "  \n",
       "    var tri_x = [(tri_size/2), tri_size, 0]\n",
       "    var tri_y = [0, tri_size, tri_size]   \n",
       "    var palette = d3.interpolateTurbo\n",
       "    var color = d3.scaleLinear().range([0,1]).domain([0,topics.length-1])\n",
       "    console.log(y.bandwidth())\n",
       "    \n",
       "    var svg = d3.select(\"div#emoji2\").append(\"svg\")\n",
       "        .attr(\"width\", width)\n",
       "        .attr(\"height\", height)\n",
       "        \n",
       "    var g = svg.selectAll(\"g\")\n",
       "        .data(sets)\n",
       "        .join(\"g\")\n",
       "        .attr(\"transform\", (d,i) => \"translate(\"+(x(i%tri_col))+\",\"+(y(Math.floor(i/tri_col))+(y.bandwidth()/2))+\")\")\n",
       "    g.selectAll(\"text\")\n",
       "        .data(d=>d)\n",
       "        .join(\"text\")\n",
       "        .attr(\"x\", (d,i)=> tri_x[i])\n",
       "        .attr(\"y\", (d,i)=> tri_y[i])\n",
       "        .style(\"text-anchor\", \"end\")\n",
       "        .text(d=>d)\n",
       "\n",
       "</script>\n"
      ],
      "text/plain": [
       "<IPython.core.display.HTML object>"
      ]
     },
     "metadata": {},
     "output_type": "display_data"
    }
   ],
   "source": [
    "%%html\n",
    "<div id=\"emoji2\"></div>\n",
    "\n",
    "<script type=\"text/javascript\">   \n",
    "    var width = 600\n",
    "    var height = 600\n",
    "    var margin = 30\n",
    "    var fac = n => !(n > 1) ? 1 : fac(n - 1) * n;\n",
    "    var n = 6\n",
    "    var r = 3 \n",
    "    var soup = '🐈,🐦,🐳,🐧,🐕,🐙,🐝,🐄,🐪,🐍,🐞,🐬,🐑,🐉,🐤,🐢,🐒,🐘,🐠,🐁'.split(',');\n",
    "    \n",
    "    var topics = d3.range(n).map(d=>soup[d])\n",
    "    var sets = []\n",
    "    for (let i = 0; i < topics.length - 1; i++) {\n",
    "        for (let j = i+1; j < topics.length - 1; j++) {\n",
    "            for (let k = j+1; k < topics.length; k++) {\n",
    "                var temp = []\n",
    "                temp.push(topics[i])\n",
    "                temp.push(topics[j])\n",
    "                temp.push(topics[k])\n",
    "                sets.push(temp)\n",
    "            }\n",
    "        }\n",
    "    }\n",
    "\n",
    "    var triangles = fac(n) / ( fac(r) * fac(n - r) )\n",
    "    var tri_col = 10\n",
    "    var tri_row = Math.ceil(sets.length/tri_col)\n",
    "    var tri_size = 20\n",
    "    var x = d3.scaleLinear().range([margin , width - margin]).domain([0,tri_col-1])\n",
    "    var y = d3.scaleBand().range([margin, height-margin]).domain(d3.range(tri_row))\n",
    "    console.log(d3.range(tri_row))\n",
    "  \n",
    "    var tri_x = [(tri_size/2), tri_size, 0]\n",
    "    var tri_y = [0, tri_size, tri_size]   \n",
    "    var palette = d3.interpolateTurbo\n",
    "    var color = d3.scaleLinear().range([0,1]).domain([0,topics.length-1])\n",
    "    console.log(y.bandwidth())\n",
    "    \n",
    "    var svg = d3.select(\"div#emoji2\").append(\"svg\")\n",
    "        .attr(\"width\", width)\n",
    "        .attr(\"height\", height)\n",
    "        \n",
    "    var g = svg.selectAll(\"g\")\n",
    "        .data(sets)\n",
    "        .join(\"g\")\n",
    "        .attr(\"transform\", (d,i) => \"translate(\"+(x(i%tri_col))+\",\"+(y(Math.floor(i/tri_col))+(y.bandwidth()/2))+\")\")\n",
    "    g.append(\"line\")\n",
    "        .attr(\"x1\", (d,i)=> tri_x[0])\n",
    "        .attr(\"y1\", (d,i)=> tri_y[0])\n",
    "        .attr(\"x2\", (d,i)=> tri_x[1])\n",
    "        .attr(\"y2\", (d,i)=> tri_y[1])\n",
    "        .style(\"stroke\", \"black\")\n",
    "        .style(\"stroke-width\", \"1px\")\n",
    "    g.append(\"line\")\n",
    "        .attr(\"x1\", (d,i)=> tri_x[1])\n",
    "        .attr(\"y1\", (d,i)=> tri_y[1])\n",
    "        .attr(\"x2\", (d,i)=> tri_x[2])\n",
    "        .attr(\"y2\", (d,i)=> tri_y[2])\n",
    "        .style(\"stroke\", \"black\")\n",
    "        .style(\"stroke-width\", \"1px\")\n",
    "    g.append(\"line\")\n",
    "        .attr(\"x1\", (d,i)=> tri_x[2])\n",
    "        .attr(\"y1\", (d,i)=> tri_y[2])\n",
    "        .attr(\"x2\", (d,i)=> tri_x[0])\n",
    "        .attr(\"y2\", (d,i)=> tri_y[0])\n",
    "        .style(\"stroke\", \"black\")\n",
    "        .style(\"stroke-width\", \"1px\")    \n",
    "    \n",
    "    g.selectAll(\"text\")\n",
    "        .data(d=>d)\n",
    "        .join(\"text\")\n",
    "        .attr(\"x\", (d,i)=> tri_x[i])\n",
    "        .attr(\"y\", (d,i)=> tri_y[i])\n",
    "        .style(\"text-anchor\", \"middle\")\n",
    "        .text(d=>d)\n",
    "\n",
    "</script>"
   ]
  },
  {
   "cell_type": "markdown",
   "id": "44d0537b-d5e4-405f-a60e-b4cb34739d21",
   "metadata": {},
   "source": [
    "Animals = 7"
   ]
  },
  {
   "cell_type": "code",
   "execution_count": 119,
   "id": "e1966ca0-61cb-4cbc-92d9-253f251a9795",
   "metadata": {
    "tags": [
     "hide-input"
    ]
   },
   "outputs": [
    {
     "data": {
      "text/html": [
       "<script src='https://d3js.org/d3.v6.min.js'></script>"
      ],
      "text/plain": [
       "<IPython.core.display.HTML object>"
      ]
     },
     "metadata": {},
     "output_type": "display_data"
    },
    {
     "data": {
      "text/html": [
       "<script src='https://d3js.org/d3.v6.min.js'></script>"
      ],
      "text/plain": [
       "<IPython.core.display.HTML object>"
      ]
     },
     "metadata": {},
     "output_type": "display_data"
    },
    {
     "data": {
      "text/html": [
       "<div id=\"emoji3\"></div>\n",
       "\n",
       "<script type=\"text/javascript\">   \n",
       "    var width = 600\n",
       "    var height = 600\n",
       "    var margin = 30\n",
       "    var fac = n => !(n > 1) ? 1 : fac(n - 1) * n;\n",
       "    var n = 7\n",
       "    var r = 3 \n",
       "    var soup = '🐈,🐦,🐳,🐧,🐕,🐙,🐝,🐄,🐪,🐍,🐞,🐬,🐑,🐉,🐤,🐢,🐒,🐘,🐠,🐁'.split(',');\n",
       "    \n",
       "    var topics = d3.range(n).map(d=>soup[d])\n",
       "    var sets = []\n",
       "    for (let i = 0; i < topics.length - 1; i++) {\n",
       "        for (let j = i+1; j < topics.length - 1; j++) {\n",
       "            for (let k = j+1; k < topics.length; k++) {\n",
       "                var temp = []\n",
       "                temp.push(topics[i])\n",
       "                temp.push(topics[j])\n",
       "                temp.push(topics[k])\n",
       "                sets.push(temp)\n",
       "            }\n",
       "        }\n",
       "    }\n",
       "\n",
       "    var triangles = fac(n) / ( fac(r) * fac(n - r) )\n",
       "    var tri_col = 10\n",
       "    var tri_row = Math.ceil(sets.length/tri_col)\n",
       "    var tri_size = 20\n",
       "    var x = d3.scaleLinear().range([margin , width - margin]).domain([0,tri_col-1])\n",
       "    var y = d3.scaleBand().range([margin, height-margin]).domain(d3.range(tri_row))\n",
       "    console.log(d3.range(tri_row))\n",
       "  \n",
       "    var tri_x = [(tri_size/2), tri_size, 0]\n",
       "    var tri_y = [0, tri_size, tri_size]   \n",
       "    var palette = d3.interpolateTurbo\n",
       "    var color = d3.scaleLinear().range([0,1]).domain([0,topics.length-1])\n",
       "    console.log(y.bandwidth())\n",
       "    \n",
       "    var svg = d3.select(\"div#emoji3\").append(\"svg\")\n",
       "        .attr(\"width\", width)\n",
       "        .attr(\"height\", height)\n",
       "        \n",
       "    var g = svg.selectAll(\"g\")\n",
       "        .data(sets)\n",
       "        .join(\"g\")\n",
       "        .attr(\"transform\", (d,i) => \"translate(\"+(x(i%tri_col))+\",\"+(y(Math.floor(i/tri_col))+(y.bandwidth()/2))+\")\")\n",
       "    g.append(\"line\")\n",
       "        .attr(\"x1\", (d,i)=> tri_x[0])\n",
       "        .attr(\"y1\", (d,i)=> tri_y[0])\n",
       "        .attr(\"x2\", (d,i)=> tri_x[1])\n",
       "        .attr(\"y2\", (d,i)=> tri_y[1])\n",
       "        .style(\"stroke\", \"black\")\n",
       "        .style(\"stroke-width\", \"2px\")\n",
       "    g.append(\"line\")\n",
       "        .attr(\"x1\", (d,i)=> tri_x[1])\n",
       "        .attr(\"y1\", (d,i)=> tri_y[1])\n",
       "        .attr(\"x2\", (d,i)=> tri_x[2])\n",
       "        .attr(\"y2\", (d,i)=> tri_y[2])\n",
       "        .style(\"stroke\", \"black\")\n",
       "        .style(\"stroke-width\", \"2px\")\n",
       "    g.append(\"line\")\n",
       "        .attr(\"x1\", (d,i)=> tri_x[2])\n",
       "        .attr(\"y1\", (d,i)=> tri_y[2])\n",
       "        .attr(\"x2\", (d,i)=> tri_x[0])\n",
       "        .attr(\"y2\", (d,i)=> tri_y[0])\n",
       "        .style(\"stroke\", \"black\")\n",
       "        .style(\"stroke-width\", \"2px\")    \n",
       "    \n",
       "    g.selectAll(\"text\")\n",
       "        .data(d=>d)\n",
       "        .join(\"text\")\n",
       "        .attr(\"x\", (d,i)=> tri_x[i])\n",
       "        .attr(\"y\", (d,i)=> tri_y[i])\n",
       "        .style(\"text-anchor\", \"middle\")\n",
       "        .style(\"alignment-baseline\",\"middle\")\n",
       "        .text(d=>d)\n",
       "\n",
       "</script>\n"
      ],
      "text/plain": [
       "<IPython.core.display.HTML object>"
      ]
     },
     "metadata": {},
     "output_type": "display_data"
    }
   ],
   "source": [
    "%%html\n",
    "<div id=\"emoji3\"></div>\n",
    "\n",
    "<script type=\"text/javascript\">   \n",
    "    var width = 600\n",
    "    var height = 600\n",
    "    var margin = 30\n",
    "    var fac = n => !(n > 1) ? 1 : fac(n - 1) * n;\n",
    "    var n = 7\n",
    "    var r = 3 \n",
    "    var soup = '🐈,🐦,🐳,🐧,🐕,🐙,🐝,🐄,🐪,🐍,🐞,🐬,🐑,🐉,🐤,🐢,🐒,🐘,🐠,🐁'.split(',');\n",
    "    \n",
    "    var topics = d3.range(n).map(d=>soup[d])\n",
    "    var sets = []\n",
    "    for (let i = 0; i < topics.length - 1; i++) {\n",
    "        for (let j = i+1; j < topics.length - 1; j++) {\n",
    "            for (let k = j+1; k < topics.length; k++) {\n",
    "                var temp = []\n",
    "                temp.push(topics[i])\n",
    "                temp.push(topics[j])\n",
    "                temp.push(topics[k])\n",
    "                sets.push(temp)\n",
    "            }\n",
    "        }\n",
    "    }\n",
    "\n",
    "    var triangles = fac(n) / ( fac(r) * fac(n - r) )\n",
    "    var tri_col = 10\n",
    "    var tri_row = Math.ceil(sets.length/tri_col)\n",
    "    var tri_size = 20\n",
    "    var x = d3.scaleLinear().range([margin , width - margin]).domain([0,tri_col-1])\n",
    "    var y = d3.scaleBand().range([margin, height-margin]).domain(d3.range(tri_row))\n",
    "    console.log(d3.range(tri_row))\n",
    "  \n",
    "    var tri_x = [(tri_size/2), tri_size, 0]\n",
    "    var tri_y = [0, tri_size, tri_size]   \n",
    "    var palette = d3.interpolateTurbo\n",
    "    var color = d3.scaleLinear().range([0,1]).domain([0,topics.length-1])\n",
    "    console.log(y.bandwidth())\n",
    "    \n",
    "    var svg = d3.select(\"div#emoji3\").append(\"svg\")\n",
    "        .attr(\"width\", width)\n",
    "        .attr(\"height\", height)\n",
    "        \n",
    "    var g = svg.selectAll(\"g\")\n",
    "        .data(sets)\n",
    "        .join(\"g\")\n",
    "        .attr(\"transform\", (d,i) => \"translate(\"+(x(i%tri_col))+\",\"+(y(Math.floor(i/tri_col))+(y.bandwidth()/2))+\")\")\n",
    "    g.append(\"line\")\n",
    "        .attr(\"x1\", (d,i)=> tri_x[0])\n",
    "        .attr(\"y1\", (d,i)=> tri_y[0])\n",
    "        .attr(\"x2\", (d,i)=> tri_x[1])\n",
    "        .attr(\"y2\", (d,i)=> tri_y[1])\n",
    "        .style(\"stroke\", \"black\")\n",
    "        .style(\"stroke-width\", \"2px\")\n",
    "    g.append(\"line\")\n",
    "        .attr(\"x1\", (d,i)=> tri_x[1])\n",
    "        .attr(\"y1\", (d,i)=> tri_y[1])\n",
    "        .attr(\"x2\", (d,i)=> tri_x[2])\n",
    "        .attr(\"y2\", (d,i)=> tri_y[2])\n",
    "        .style(\"stroke\", \"black\")\n",
    "        .style(\"stroke-width\", \"2px\")\n",
    "    g.append(\"line\")\n",
    "        .attr(\"x1\", (d,i)=> tri_x[2])\n",
    "        .attr(\"y1\", (d,i)=> tri_y[2])\n",
    "        .attr(\"x2\", (d,i)=> tri_x[0])\n",
    "        .attr(\"y2\", (d,i)=> tri_y[0])\n",
    "        .style(\"stroke\", \"black\")\n",
    "        .style(\"stroke-width\", \"2px\")    \n",
    "    \n",
    "    g.selectAll(\"text\")\n",
    "        .data(d=>d)\n",
    "        .join(\"text\")\n",
    "        .attr(\"x\", (d,i)=> tri_x[i])\n",
    "        .attr(\"y\", (d,i)=> tri_y[i])\n",
    "        .style(\"text-anchor\", \"middle\")\n",
    "        .style(\"alignment-baseline\",\"middle\")\n",
    "        .text(d=>d)\n",
    "\n",
    "</script>"
   ]
  },
  {
   "cell_type": "code",
   "execution_count": 48,
   "id": "3f490845-dc93-4f2a-b943-640e3a9601fb",
   "metadata": {
    "tags": [
     "hide-input"
    ]
   },
   "outputs": [
    {
     "data": {
      "text/html": [
       "<script src='https://d3js.org/d3.v6.min.js'></script>"
      ],
      "text/plain": [
       "<IPython.core.display.HTML object>"
      ]
     },
     "metadata": {},
     "output_type": "display_data"
    },
    {
     "data": {
      "text/html": [
       "<script src='https://d3js.org/d3.v6.min.js'></script>"
      ],
      "text/plain": [
       "<IPython.core.display.HTML object>"
      ]
     },
     "metadata": {},
     "output_type": "display_data"
    },
    {
     "data": {
      "text/html": [
       "<div id=\"triangle5\"></div>\n",
       "\n",
       "<script type=\"text/javascript\">   \n",
       "    var width = 300\n",
       "    var height = 300\n",
       "    var margin = 20\n",
       "    var fac = n => !(n > 1) ? 1 : fac(n - 1) * n;\n",
       "    var n = 6\n",
       "    var r = 3 \n",
       "    var soup = 'abcdefghijklmnopqrstuvwxyz'.split('');\n",
       "    console.log(soup)\n",
       "    var topics = d3.range(n).map(d=>soup[d])\n",
       "    var sets = []\n",
       "    for (let i = 0; i < topics.length - 1; i++) {\n",
       "        for (let j = i+1; j < topics.length - 1; j++) {\n",
       "            for (let k = j+1; k < topics.length; k++) {\n",
       "                var temp = []\n",
       "                temp.push(topics[i])\n",
       "                temp.push(topics[j])\n",
       "                temp.push(topics[k])\n",
       "                sets.push(temp)\n",
       "            }\n",
       "        }\n",
       "    }\n",
       "    console.log(sets)\n",
       "    var triangles = fac(n) / ( fac(r) * fac(n - r) )\n",
       "    console.log(triangles)\n",
       "    var tri_col = 10\n",
       "    var tri_row = Math.ceil(sets.length/tri_col)\n",
       "    var tri_size = 10\n",
       "    var x = d3.scaleLinear().range([margin , width - margin]).domain([0,tri_col-1])\n",
       "    var y = d3.scaleLinear().range([margin , height-margin]).domain([0,tri_row-1])\n",
       "    var tri_x = [(tri_size/2), tri_size, 0]\n",
       "    var tri_y = [0, tri_size, tri_size]   \n",
       "    var palette = d3.interpolateTurbo\n",
       "    var color = d3.scaleLinear().range([0,1]).domain([0,topics.length-1])\n",
       "    \n",
       "    \n",
       "    var svg = d3.select(\"div#triangle5\").append(\"svg\")\n",
       "        .attr(\"width\", width)\n",
       "        .attr(\"height\", height)\n",
       "        \n",
       "    var g = svg.selectAll(\"g\")\n",
       "        .data(sets)\n",
       "        .join(\"g\")\n",
       "        .attr(\"transform\", (d,i) => \"translate(\"+(x(i%tri_col))+\",\"+(y(Math.floor(i/tri_col)))+\")\")\n",
       "    g.selectAll(\"circle\")\n",
       "        .data(d=>d)\n",
       "        .join(\"circle\")\n",
       "        .attr(\"cx\", (d,i)=> tri_x[i])\n",
       "        .attr(\"cy\", (d,i)=> tri_y[i])\n",
       "        .attr(\"r\", 5)\n",
       "        .style(\"fill\", d=> palette(color(topics.indexOf(d))))\n",
       "        .style(\"stroke\", \"black\")\n",
       "        .style(\"stroke-width\", 1) // reminder, this means 3 pixels\n",
       "\n",
       "</script>\n"
      ],
      "text/plain": [
       "<IPython.core.display.HTML object>"
      ]
     },
     "metadata": {},
     "output_type": "display_data"
    }
   ],
   "source": [
    "%%html\n",
    "<div id=\"triangle5\"></div>\n",
    "\n",
    "<script type=\"text/javascript\">   \n",
    "    var width = 300\n",
    "    var height = 300\n",
    "    var margin = 20\n",
    "    var fac = n => !(n > 1) ? 1 : fac(n - 1) * n;\n",
    "    var n = 6\n",
    "    var r = 3 \n",
    "    var soup = 'abcdefghijklmnopqrstuvwxyz'.split('');\n",
    "    var topics = d3.range(n).map(d=>soup[d])\n",
    "    var sets = []\n",
    "    for (let i = 0; i < topics.length - 1; i++) {\n",
    "        for (let j = i+1; j < topics.length - 1; j++) {\n",
    "            for (let k = j+1; k < topics.length; k++) {\n",
    "                var temp = []\n",
    "                temp.push(topics[i])\n",
    "                temp.push(topics[j])\n",
    "                temp.push(topics[k])\n",
    "                sets.push(temp)\n",
    "            }\n",
    "        }\n",
    "    }\n",
    "\n",
    "    var triangles = fac(n) / ( fac(r) * fac(n - r) )\n",
    "    var tri_col = 10\n",
    "    var tri_row = Math.ceil(sets.length/tri_col)\n",
    "    var tri_size = 10\n",
    "    var x = d3.scaleLinear().range([margin , width - margin]).domain([0,tri_col-1])\n",
    "    var y = d3.scaleLinear().range([margin , height-margin]).domain([0,tri_row-1])\n",
    "    var tri_x = [(tri_size/2), tri_size, 0]\n",
    "    var tri_y = [0, tri_size, tri_size]   \n",
    "    var palette = d3.interpolateTurbo\n",
    "    var color = d3.scaleLinear().range([0,1]).domain([0,topics.length-1])\n",
    "    \n",
    "    \n",
    "    var svg = d3.select(\"div#triangle5\").append(\"svg\")\n",
    "        .attr(\"width\", width)\n",
    "        .attr(\"height\", height)\n",
    "        \n",
    "    var g = svg.selectAll(\"g\")\n",
    "        .data(sets)\n",
    "        .join(\"g\")\n",
    "        .attr(\"transform\", (d,i) => \"translate(\"+(x(i%tri_col))+\",\"+(y(Math.floor(i/tri_col)))+\")\")\n",
    "    g.selectAll(\"circle\")\n",
    "        .data(d=>d)\n",
    "        .join(\"circle\")\n",
    "        .attr(\"cx\", (d,i)=> tri_x[i])\n",
    "        .attr(\"cy\", (d,i)=> tri_y[i])\n",
    "        .attr(\"r\", 5)\n",
    "        .style(\"fill\", d=> palette(color(topics.indexOf(d))))\n",
    "        .style(\"stroke\", \"black\")\n",
    "        .style(\"stroke-width\", 1) // reminder, this means 3 pixels\n",
    "\n",
    "</script>"
   ]
  },
  {
   "cell_type": "code",
   "execution_count": 49,
   "id": "9b7bd86d-0a08-4693-91ee-2c596160cec3",
   "metadata": {
    "tags": [
     "hide-input"
    ]
   },
   "outputs": [
    {
     "data": {
      "text/html": [
       "<script src='https://d3js.org/d3.v6.min.js'></script>"
      ],
      "text/plain": [
       "<IPython.core.display.HTML object>"
      ]
     },
     "metadata": {},
     "output_type": "display_data"
    },
    {
     "data": {
      "text/html": [
       "<script src='https://d3js.org/d3.v6.min.js'></script>"
      ],
      "text/plain": [
       "<IPython.core.display.HTML object>"
      ]
     },
     "metadata": {},
     "output_type": "display_data"
    },
    {
     "data": {
      "text/html": [
       "<div id=\"triangle6\"></div>\n",
       "\n",
       "<script type=\"text/javascript\">   \n",
       "    var width = 300\n",
       "    var height = 300\n",
       "    var margin = 20\n",
       "    var fac = n => !(n > 1) ? 1 : fac(n - 1) * n;\n",
       "    var n = 7\n",
       "    var r = 3 \n",
       "    var soup = 'abcdefghijklmnopqrstuvwxyz'.split('');\n",
       "    console.log(soup)\n",
       "    var topics = d3.range(n).map(d=>soup[d])\n",
       "    var sets = []\n",
       "    for (let i = 0; i < topics.length - 1; i++) {\n",
       "        for (let j = i+1; j < topics.length - 1; j++) {\n",
       "            for (let k = j+1; k < topics.length; k++) {\n",
       "                var temp = []\n",
       "                temp.push(topics[i])\n",
       "                temp.push(topics[j])\n",
       "                temp.push(topics[k])\n",
       "                sets.push(temp)\n",
       "            }\n",
       "        }\n",
       "    }\n",
       "    console.log(sets)\n",
       "    var triangles = fac(n) / ( fac(r) * fac(n - r) )\n",
       "    console.log(triangles)\n",
       "    var tri_col = 10\n",
       "    var tri_row = Math.ceil(sets.length/tri_col)\n",
       "    var tri_size = 10\n",
       "    var x = d3.scaleLinear().range([margin , width - margin]).domain([0,tri_col-1])\n",
       "    var y = d3.scaleLinear().range([margin , height-margin]).domain([0,tri_row-1])\n",
       "    var tri_x = [(tri_size/2), tri_size, 0]\n",
       "    var tri_y = [0, tri_size, tri_size]   \n",
       "    var palette = d3.interpolateTurbo\n",
       "    var color = d3.scaleLinear().range([0,1]).domain([0,topics.length-1])\n",
       "    \n",
       "    \n",
       "    var svg = d3.select(\"div#triangle6\").append(\"svg\")\n",
       "        .attr(\"width\", width)\n",
       "        .attr(\"height\", height)\n",
       "        \n",
       "    var g = svg.selectAll(\"g\")\n",
       "        .data(sets)\n",
       "        .join(\"g\")\n",
       "        .attr(\"transform\", (d,i) => \"translate(\"+(x(i%tri_col))+\",\"+(y(Math.floor(i/tri_col)))+\")\")\n",
       "    g.selectAll(\"circle\")\n",
       "        .data(d=>d)\n",
       "        .join(\"circle\")\n",
       "        .attr(\"cx\", (d,i)=> tri_x[i])\n",
       "        .attr(\"cy\", (d,i)=> tri_y[i])\n",
       "        .attr(\"r\", 5)\n",
       "        .style(\"fill\", d=> palette(color(topics.indexOf(d))))\n",
       "        .style(\"stroke\", \"black\")\n",
       "        .style(\"stroke-width\", 1) // reminder, this means 3 pixels\n",
       "\n",
       "</script>\n"
      ],
      "text/plain": [
       "<IPython.core.display.HTML object>"
      ]
     },
     "metadata": {},
     "output_type": "display_data"
    }
   ],
   "source": [
    "%%html\n",
    "<div id=\"triangle6\"></div>\n",
    "\n",
    "<script type=\"text/javascript\">   \n",
    "    var width = 300\n",
    "    var height = 300\n",
    "    var margin = 20\n",
    "    var fac = n => !(n > 1) ? 1 : fac(n - 1) * n;\n",
    "    var n = 7\n",
    "    var r = 3 \n",
    "    var soup = 'abcdefghijklmnopqrstuvwxyz'.split('');\n",
    "    var topics = d3.range(n).map(d=>soup[d])\n",
    "    var sets = []\n",
    "    for (let i = 0; i < topics.length - 1; i++) {\n",
    "        for (let j = i+1; j < topics.length - 1; j++) {\n",
    "            for (let k = j+1; k < topics.length; k++) {\n",
    "                var temp = []\n",
    "                temp.push(topics[i])\n",
    "                temp.push(topics[j])\n",
    "                temp.push(topics[k])\n",
    "                sets.push(temp)\n",
    "            }\n",
    "        }\n",
    "    }\n",
    "    \n",
    "    var triangles = fac(n) / ( fac(r) * fac(n - r) )\n",
    "    var tri_col = 10\n",
    "    var tri_row = Math.ceil(sets.length/tri_col)\n",
    "    var tri_size = 10\n",
    "    var x = d3.scaleLinear().range([margin , width - margin]).domain([0,tri_col-1])\n",
    "    var y = d3.scaleLinear().range([margin , height-margin]).domain([0,tri_row-1])\n",
    "    var tri_x = [(tri_size/2), tri_size, 0]\n",
    "    var tri_y = [0, tri_size, tri_size]   \n",
    "    var palette = d3.interpolateTurbo\n",
    "    var color = d3.scaleLinear().range([0,1]).domain([0,topics.length-1])\n",
    "    \n",
    "    \n",
    "    var svg = d3.select(\"div#triangle6\").append(\"svg\")\n",
    "        .attr(\"width\", width)\n",
    "        .attr(\"height\", height)\n",
    "        \n",
    "    var g = svg.selectAll(\"g\")\n",
    "        .data(sets)\n",
    "        .join(\"g\")\n",
    "        .attr(\"transform\", (d,i) => \"translate(\"+(x(i%tri_col))+\",\"+(y(Math.floor(i/tri_col)))+\")\")\n",
    "    g.selectAll(\"circle\")\n",
    "        .data(d=>d)\n",
    "        .join(\"circle\")\n",
    "        .attr(\"cx\", (d,i)=> tri_x[i])\n",
    "        .attr(\"cy\", (d,i)=> tri_y[i])\n",
    "        .attr(\"r\", 5)\n",
    "        .style(\"fill\", d=> palette(color(topics.indexOf(d))))\n",
    "        .style(\"stroke\", \"black\")\n",
    "        .style(\"stroke-width\", 1) // reminder, this means 3 pixels\n",
    "\n",
    "</script>"
   ]
  },
  {
   "cell_type": "markdown",
   "id": "ab37c370-c099-4ed9-897d-acc407e3d75d",
   "metadata": {},
   "source": [
    "Topics = 8"
   ]
  },
  {
   "cell_type": "code",
   "execution_count": 52,
   "id": "558d5c8f-5e21-4202-9b48-428faa96e0d7",
   "metadata": {
    "tags": [
     "hide-input"
    ]
   },
   "outputs": [
    {
     "data": {
      "text/html": [
       "<script src='https://d3js.org/d3.v6.min.js'></script>"
      ],
      "text/plain": [
       "<IPython.core.display.HTML object>"
      ]
     },
     "metadata": {},
     "output_type": "display_data"
    },
    {
     "data": {
      "text/html": [
       "<script src='https://d3js.org/d3.v6.min.js'></script>"
      ],
      "text/plain": [
       "<IPython.core.display.HTML object>"
      ]
     },
     "metadata": {},
     "output_type": "display_data"
    },
    {
     "data": {
      "text/html": [
       "<div id=\"triangle7\"></div>\n",
       "\n",
       "<script type=\"text/javascript\">   \n",
       "    var width = 600\n",
       "    var height = 200\n",
       "    var margin = 20\n",
       "    var fac = n => !(n > 1) ? 1 : fac(n - 1) * n;\n",
       "    var n = 8\n",
       "    var r = 3 \n",
       "    var soup = 'abcdefghijklmnopqrstuvwxyz'.split('');\n",
       "    console.log(soup)\n",
       "    var topics = d3.range(n).map(d=>soup[d])\n",
       "    var sets = []\n",
       "    for (let i = 0; i < topics.length - 1; i++) {\n",
       "        for (let j = i+1; j < topics.length - 1; j++) {\n",
       "            for (let k = j+1; k < topics.length; k++) {\n",
       "                var temp = []\n",
       "                temp.push(topics[i])\n",
       "                temp.push(topics[j])\n",
       "                temp.push(topics[k])\n",
       "                sets.push(temp)\n",
       "            }\n",
       "        }\n",
       "    }\n",
       "    console.log(sets)\n",
       "    var triangles = fac(n) / ( fac(r) * fac(n - r) )\n",
       "    console.log(triangles)\n",
       "    var tri_col = 10\n",
       "    var tri_row = Math.ceil(sets.length/tri_col)\n",
       "    var tri_size = 10\n",
       "    var x = d3.scaleLinear().range([margin , width - margin]).domain([0,tri_col-1])\n",
       "    var y = d3.scaleLinear().range([margin , height-margin]).domain([0,tri_row-1])\n",
       "    var tri_x = [(tri_size/2), tri_size, 0]\n",
       "    var tri_y = [0, tri_size, tri_size]   \n",
       "    var palette = d3.interpolateTurbo\n",
       "    var color = d3.scaleLinear().range([0,1]).domain([0,topics.length-1])\n",
       "    \n",
       "    \n",
       "    var svg = d3.select(\"div#triangle7\").append(\"svg\")\n",
       "        .attr(\"width\", width)\n",
       "        .attr(\"height\", height)\n",
       "        \n",
       "    var g = svg.selectAll(\"g\")\n",
       "        .data(sets)\n",
       "        .join(\"g\")\n",
       "        .attr(\"transform\", (d,i) => \"translate(\"+(x(i%tri_col))+\",\"+(y(Math.floor(i/tri_col)))+\")\")\n",
       "    g.selectAll(\"circle\")\n",
       "        .data(d=>d)\n",
       "        .join(\"circle\")\n",
       "        .attr(\"cx\", (d,i)=> tri_x[i])\n",
       "        .attr(\"cy\", (d,i)=> tri_y[i])\n",
       "        .attr(\"r\", 5)\n",
       "        .style(\"fill\", d=> palette(color(topics.indexOf(d))))\n",
       "        .style(\"stroke\", \"black\")\n",
       "        .style(\"stroke-width\", 1) // reminder, this means 3 pixels\n",
       "\n",
       "</script>\n"
      ],
      "text/plain": [
       "<IPython.core.display.HTML object>"
      ]
     },
     "metadata": {},
     "output_type": "display_data"
    }
   ],
   "source": [
    "%%html\n",
    "<div id=\"triangle7\"></div>\n",
    "\n",
    "<script type=\"text/javascript\">   \n",
    "    var width = 600\n",
    "    var height = 200\n",
    "    var margin = 20\n",
    "    var fac = n => !(n > 1) ? 1 : fac(n - 1) * n;\n",
    "    var n = 8\n",
    "    var r = 3 \n",
    "    var soup = 'abcdefghijklmnopqrstuvwxyz'.split('');\n",
    "    var topics = d3.range(n).map(d=>soup[d])\n",
    "    var sets = []\n",
    "    for (let i = 0; i < topics.length - 1; i++) {\n",
    "        for (let j = i+1; j < topics.length - 1; j++) {\n",
    "            for (let k = j+1; k < topics.length; k++) {\n",
    "                var temp = []\n",
    "                temp.push(topics[i])\n",
    "                temp.push(topics[j])\n",
    "                temp.push(topics[k])\n",
    "                sets.push(temp)\n",
    "            }\n",
    "        }\n",
    "    }\n",
    "\n",
    "    var triangles = fac(n) / ( fac(r) * fac(n - r) )\n",
    "    var tri_col = 10\n",
    "    var tri_row = Math.ceil(sets.length/tri_col)\n",
    "    var tri_size = 10\n",
    "    var x = d3.scaleLinear().range([margin , width - margin]).domain([0,tri_col-1])\n",
    "    var y = d3.scaleLinear().range([margin , height-margin]).domain([0,tri_row-1])\n",
    "    var tri_x = [(tri_size/2), tri_size, 0]\n",
    "    var tri_y = [0, tri_size, tri_size]   \n",
    "    var palette = d3.interpolateTurbo\n",
    "    var color = d3.scaleLinear().range([0,1]).domain([0,topics.length-1])\n",
    "    \n",
    "    \n",
    "    var svg = d3.select(\"div#triangle7\").append(\"svg\")\n",
    "        .attr(\"width\", width)\n",
    "        .attr(\"height\", height)\n",
    "        \n",
    "    var g = svg.selectAll(\"g\")\n",
    "        .data(sets)\n",
    "        .join(\"g\")\n",
    "        .attr(\"transform\", (d,i) => \"translate(\"+(x(i%tri_col))+\",\"+(y(Math.floor(i/tri_col)))+\")\")\n",
    "    g.selectAll(\"circle\")\n",
    "        .data(d=>d)\n",
    "        .join(\"circle\")\n",
    "        .attr(\"cx\", (d,i)=> tri_x[i])\n",
    "        .attr(\"cy\", (d,i)=> tri_y[i])\n",
    "        .attr(\"r\", 5)\n",
    "        .style(\"fill\", d=> palette(color(topics.indexOf(d))))\n",
    "        .style(\"stroke\", \"black\")\n",
    "        .style(\"stroke-width\", 1) // reminder, this means 3 pixels\n",
    "\n",
    "</script>"
   ]
  },
  {
   "cell_type": "markdown",
   "id": "a4367f0a-5776-497a-98e7-3a476b89e243",
   "metadata": {},
   "source": [
    "You can see how the complexity increase with the number of topics. Using the slider, change the number of topics to see how much this space increase with the number of topics. "
   ]
  },
  {
   "cell_type": "code",
   "execution_count": 129,
   "id": "36534715-79a0-4694-837b-8c13b08feb20",
   "metadata": {
    "tags": [
     "hide-input"
    ]
   },
   "outputs": [
    {
     "data": {
      "text/html": [
       "<script src='https://d3js.org/d3.v6.min.js'></script>"
      ],
      "text/plain": [
       "<IPython.core.display.HTML object>"
      ]
     },
     "metadata": {},
     "output_type": "display_data"
    },
    {
     "data": {
      "text/html": [
       "<script src='https://d3js.org/d3.v6.min.js'></script>"
      ],
      "text/plain": [
       "<IPython.core.display.HTML object>"
      ]
     },
     "metadata": {},
     "output_type": "display_data"
    },
    {
     "data": {
      "text/html": [
       "<input type=\"range\" min=\"3\" max=\"15\" value=\"3\" name=\"topics\" oninput=\"graph(+this.value)\">\n",
       "<label for=\"topics\">Topics: </label><em id=\"topics\" style=\"font-style: normal;\">3</em>\n",
       "<div id=\"emojiN\"></div>\n",
       "\n",
       "<script type=\"text/javascript\">   \n",
       "function graph(n) {\n",
       "    document.getElementById('topics').innerHTML = n\n",
       "    var width = 600\n",
       "    var height = 2000\n",
       "    var margin = 30\n",
       "    var fac = n => !(n > 1) ? 1 : fac(n - 1) * n;\n",
       "    var r = 3 \n",
       "    var soup = '🐈,🐦,🐳,🐧,🐕,🐙,🐝,🐄,🐪,🐍,🐞,🐬,🐑,🐉,🐤,🐢,🐒,🐘,🐠,🐁'.split(',');\n",
       "    \n",
       "    var topics = d3.range(n).map(d=>soup[d])\n",
       "    var sets = []\n",
       "    for (let i = 0; i < topics.length - 1; i++) {\n",
       "        for (let j = i+1; j < topics.length - 1; j++) {\n",
       "            for (let k = j+1; k < topics.length; k++) {\n",
       "                var temp = []\n",
       "                temp.push(topics[i])\n",
       "                temp.push(topics[j])\n",
       "                temp.push(topics[k])\n",
       "                sets.push(temp)\n",
       "            }\n",
       "        }\n",
       "    }\n",
       "\n",
       "    var triangles = fac(n) / ( fac(r) * fac(n - r) )\n",
       "    var tri_col = 10\n",
       "    var tri_row = Math.ceil(sets.length/tri_col)\n",
       "    var tri_size = 20\n",
       "    var x = d3.scaleLinear().range([margin , width - margin]).domain([0,tri_col-1])\n",
       "    var y = d3.scaleBand().range([margin, height-margin]).domain(d3.range(tri_row))\n",
       "  \n",
       "    var tri_x = [(tri_size/2), tri_size, 0]\n",
       "    var tri_y = [0, tri_size, tri_size]   \n",
       "    var palette = d3.interpolateTurbo\n",
       "    var color = d3.scaleLinear().range([0,1]).domain([0,topics.length-1])\n",
       "    d3.select(\"div#emojiN\").select(\"svg\").remove()\n",
       "    var svg = d3.select(\"div#emojiN\").append(\"svg\")\n",
       "        .attr(\"width\", width)\n",
       "        .attr(\"height\", height)\n",
       "        \n",
       "    var g = svg.selectAll(\"g\")\n",
       "        .data(sets)\n",
       "        .join(\"g\")\n",
       "        .attr(\"transform\", (d,i) => \"translate(\"+(x(i%tri_col))+\",\"+(y(Math.floor(i/tri_col))+(y.bandwidth()/2))+\")\")\n",
       "    g.append(\"line\")\n",
       "        .attr(\"x1\", (d,i)=> tri_x[0])\n",
       "        .attr(\"y1\", (d,i)=> tri_y[0])\n",
       "        .attr(\"x2\", (d,i)=> tri_x[1])\n",
       "        .attr(\"y2\", (d,i)=> tri_y[1])\n",
       "        .style(\"stroke\", \"black\")\n",
       "        .style(\"stroke-width\", \"2px\")\n",
       "    g.append(\"line\")\n",
       "        .attr(\"x1\", (d,i)=> tri_x[1])\n",
       "        .attr(\"y1\", (d,i)=> tri_y[1])\n",
       "        .attr(\"x2\", (d,i)=> tri_x[2])\n",
       "        .attr(\"y2\", (d,i)=> tri_y[2])\n",
       "        .style(\"stroke\", \"black\")\n",
       "        .style(\"stroke-width\", \"2px\")\n",
       "    g.append(\"line\")\n",
       "        .attr(\"x1\", (d,i)=> tri_x[2])\n",
       "        .attr(\"y1\", (d,i)=> tri_y[2])\n",
       "        .attr(\"x2\", (d,i)=> tri_x[0])\n",
       "        .attr(\"y2\", (d,i)=> tri_y[0])\n",
       "        .style(\"stroke\", \"black\")\n",
       "        .style(\"stroke-width\", \"2px\")    \n",
       "    \n",
       "    g.selectAll(\"text\")\n",
       "        .data(d=>d)\n",
       "        .join(\"text\")\n",
       "        .attr(\"x\", (d,i)=> tri_x[i])\n",
       "        .attr(\"y\", (d,i)=> tri_y[i])\n",
       "        .style(\"text-anchor\", \"middle\")\n",
       "        .style(\"alignment-baseline\",\"middle\")\n",
       "        .text(d=>d)\n",
       "\n",
       "}\n",
       "graph(3)\n",
       "</script>\n"
      ],
      "text/plain": [
       "<IPython.core.display.HTML object>"
      ]
     },
     "metadata": {},
     "output_type": "display_data"
    }
   ],
   "source": [
    "%%html\n",
    "<input type=\"range\" min=\"3\" max=\"15\" value=\"3\" name=\"topics\" oninput=\"graph(+this.value)\">\n",
    "<label for=\"topics\">Topics: </label><em id=\"topics\" style=\"font-style: normal;\">3</em>\n",
    "<div id=\"emojiN\"></div>\n",
    "\n",
    "<script type=\"text/javascript\">   \n",
    "function graph(n) {\n",
    "    document.getElementById('topics').innerHTML = n\n",
    "    var width = 600\n",
    "    var height = 2000\n",
    "    var margin = 30\n",
    "    var fac = n => !(n > 1) ? 1 : fac(n - 1) * n;\n",
    "    var r = 3 \n",
    "    var soup = '🐈,🐦,🐳,🐧,🐕,🐙,🐝,🐄,🐪,🐍,🐞,🐬,🐑,🐉,🐤,🐢,🐒,🐘,🐠,🐁'.split(',');\n",
    "    \n",
    "    var topics = d3.range(n).map(d=>soup[d])\n",
    "    var sets = []\n",
    "    for (let i = 0; i < topics.length - 1; i++) {\n",
    "        for (let j = i+1; j < topics.length - 1; j++) {\n",
    "            for (let k = j+1; k < topics.length; k++) {\n",
    "                var temp = []\n",
    "                temp.push(topics[i])\n",
    "                temp.push(topics[j])\n",
    "                temp.push(topics[k])\n",
    "                sets.push(temp)\n",
    "            }\n",
    "        }\n",
    "    }\n",
    "\n",
    "    var triangles = fac(n) / ( fac(r) * fac(n - r) )\n",
    "    var tri_col = 10\n",
    "    var tri_row = Math.ceil(sets.length/tri_col)\n",
    "    var tri_size = 20\n",
    "    var x = d3.scaleLinear().range([margin , width - margin]).domain([0,tri_col-1])\n",
    "    var y = d3.scaleBand().range([margin, height-margin]).domain(d3.range(tri_row))\n",
    "  \n",
    "    var tri_x = [(tri_size/2), tri_size, 0]\n",
    "    var tri_y = [0, tri_size, tri_size]   \n",
    "    var palette = d3.interpolateTurbo\n",
    "    var color = d3.scaleLinear().range([0,1]).domain([0,topics.length-1])\n",
    "    d3.select(\"div#emojiN\").select(\"svg\").remove()\n",
    "    var svg = d3.select(\"div#emojiN\").append(\"svg\")\n",
    "        .attr(\"width\", width)\n",
    "        .attr(\"height\", height)\n",
    "        \n",
    "    var g = svg.selectAll(\"g\")\n",
    "        .data(sets)\n",
    "        .join(\"g\")\n",
    "        .attr(\"transform\", (d,i) => \"translate(\"+(x(i%tri_col))+\",\"+(y(Math.floor(i/tri_col))+(y.bandwidth()/2))+\")\")\n",
    "    g.append(\"line\")\n",
    "        .attr(\"x1\", (d,i)=> tri_x[0])\n",
    "        .attr(\"y1\", (d,i)=> tri_y[0])\n",
    "        .attr(\"x2\", (d,i)=> tri_x[1])\n",
    "        .attr(\"y2\", (d,i)=> tri_y[1])\n",
    "        .style(\"stroke\", \"black\")\n",
    "        .style(\"stroke-width\", \"2px\")\n",
    "    g.append(\"line\")\n",
    "        .attr(\"x1\", (d,i)=> tri_x[1])\n",
    "        .attr(\"y1\", (d,i)=> tri_y[1])\n",
    "        .attr(\"x2\", (d,i)=> tri_x[2])\n",
    "        .attr(\"y2\", (d,i)=> tri_y[2])\n",
    "        .style(\"stroke\", \"black\")\n",
    "        .style(\"stroke-width\", \"2px\")\n",
    "    g.append(\"line\")\n",
    "        .attr(\"x1\", (d,i)=> tri_x[2])\n",
    "        .attr(\"y1\", (d,i)=> tri_y[2])\n",
    "        .attr(\"x2\", (d,i)=> tri_x[0])\n",
    "        .attr(\"y2\", (d,i)=> tri_y[0])\n",
    "        .style(\"stroke\", \"black\")\n",
    "        .style(\"stroke-width\", \"2px\")    \n",
    "    \n",
    "    g.selectAll(\"text\")\n",
    "        .data(d=>d)\n",
    "        .join(\"text\")\n",
    "        .attr(\"x\", (d,i)=> tri_x[i])\n",
    "        .attr(\"y\", (d,i)=> tri_y[i])\n",
    "        .style(\"text-anchor\", \"middle\")\n",
    "        .style(\"alignment-baseline\",\"middle\")\n",
    "        .text(d=>d)\n",
    "\n",
    "}\n",
    "graph(3)\n",
    "</script>"
   ]
  },
  {
   "cell_type": "code",
   "execution_count": null,
   "id": "6d6c3e50-3dd8-4254-9cd4-2da3afb92bd1",
   "metadata": {},
   "outputs": [],
   "source": []
  }
 ],
 "metadata": {
  "kernelspec": {
   "display_name": "Python 3",
   "language": "python",
   "name": "python3"
  },
  "language_info": {
   "codemirror_mode": {
    "name": "ipython",
    "version": 3
   },
   "file_extension": ".py",
   "mimetype": "text/x-python",
   "name": "python",
   "nbconvert_exporter": "python",
   "pygments_lexer": "ipython3",
   "version": "3.8.5"
  }
 },
 "nbformat": 4,
 "nbformat_minor": 5
}
