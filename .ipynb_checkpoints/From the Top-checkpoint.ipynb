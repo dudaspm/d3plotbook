{
 "cells": [
  {
   "cell_type": "markdown",
   "id": "933f7747-7b77-4dda-a044-517209093b88",
   "metadata": {},
   "source": [
    "# From the Top!"
   ]
  },
  {
   "cell_type": "markdown",
   "id": "962c50e9-4026-4d17-91b3-ebc43361bf8c",
   "metadata": {},
   "source": [
    "## Introduction"
   ]
  },
  {
   "cell_type": "code",
   "execution_count": 1,
   "id": "8c2f479f-a009-46cf-bc9c-ce4e47456162",
   "metadata": {
    "raw_mimetype": "text/html",
    "tags": []
   },
   "outputs": [
    {
     "data": {
      "text/plain": [
       "4"
      ]
     },
     "execution_count": 1,
     "metadata": {},
     "output_type": "execute_result"
    }
   ],
   "source": [
    "2 + 2"
   ]
  },
  {
   "cell_type": "code",
   "execution_count": 1,
   "id": "856b23db-e621-43b9-9e7a-7554273c0952",
   "metadata": {},
   "outputs": [
    {
     "data": {
      "text/html": [
       "<div id=\"example1\"></div>\n",
       "\n",
       "<script type=\"module\">\n",
       "    import * as d3 from \"https://cdn.skypack.dev/d3@7\";  \n",
       "    var width = 300\n",
       "    var height = 100\n",
       "    \n",
       "    var svg = d3.select(\"div#example1\").append(\"svg\")\n",
       "        .attr(\"width\", width)\n",
       "        .attr(\"height\", height)\n",
       "\n",
       "    var circle = svg.append(\"circle\")\n",
       "        .attr(\"cx\", 150)\n",
       "        .attr(\"cy\", 50)\n",
       "        .attr(\"r\", 20)\n",
       "        .style(\"fill\", \"blue\")\n",
       "        .style(\"stroke\", \"black\")\n",
       "\n",
       "</script>\n"
      ],
      "text/plain": [
       "<IPython.core.display.HTML object>"
      ]
     },
     "metadata": {},
     "output_type": "display_data"
    }
   ],
   "source": [
    "%%html\n",
    "<div id=\"example1\"></div>\n",
    "\n",
    "<script type=\"module\">\n",
    "    import * as d3 from \"https://cdn.skypack.dev/d3@7\";  \n",
    "    var width = 300\n",
    "    var height = 100\n",
    "    \n",
    "    var svg = d3.select(\"div#example1\").append(\"svg\")\n",
    "        .attr(\"width\", width)\n",
    "        .attr(\"height\", height)\n",
    "\n",
    "    var circle = svg.append(\"circle\")\n",
    "        .attr(\"cx\", 150)\n",
    "        .attr(\"cy\", 50)\n",
    "        .attr(\"r\", 20)\n",
    "        .style(\"fill\", \"blue\")\n",
    "        .style(\"stroke\", \"black\")\n",
    "\n",
    "</script>"
   ]
  },
  {
   "cell_type": "code",
   "execution_count": null,
   "id": "19aedc5a-d04f-4c11-8981-1115e39b5d57",
   "metadata": {},
   "outputs": [],
   "source": []
  }
 ],
 "metadata": {
  "kernelspec": {
   "display_name": "Python 3",
   "language": "python",
   "name": "python3"
  },
  "language_info": {
   "codemirror_mode": {
    "name": "ipython",
    "version": 3
   },
   "file_extension": ".py",
   "mimetype": "text/x-python",
   "name": "python",
   "nbconvert_exporter": "python",
   "pygments_lexer": "ipython3",
   "version": "3.8.8"
  }
 },
 "nbformat": 4,
 "nbformat_minor": 5
}
