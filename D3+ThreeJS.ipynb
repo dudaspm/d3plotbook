{
 "cells": [
  {
   "cell_type": "markdown",
   "id": "54d918fb-c028-469c-af26-5c3c8e6f30d8",
   "metadata": {},
   "source": [
    "# D3.js + Three.js → Aero Adobe"
   ]
  },
  {
   "cell_type": "markdown",
   "id": "fd06e193-a368-4a2b-94b5-4429fdaec34b",
   "metadata": {},
   "source": [
    "We are looking at connecting D3.js + Three.js. A common question I would receive when leading discussions or courses would be \n",
    "\n",
    ">\"Can I create 3D graphs with D3.js?\" \n",
    "\n",
    "My response would be \n",
    "\n",
    ">\"D3 is only 2D, to do 3D you need to use Three, but you can use D3 in Three.\" \n",
    "\n",
    "Partly as a joke, but mostly because its true. So, this is what this notebook is trying to showcase, coupling d3.js and three.js. Remember, D3 stands for Data Driven Documents and it does an excellent job of creating a means to format data to be used in three.js. \n",
    "\n",
    "The output for this will be a *.gltf* file or a GL Transmission Format file, which is used in blender or Adobe Aero.\n",
    "\n",
    "Even though we will be using three.js we will be using the three.js [modules](https://developer.mozilla.org/en-US/docs/Web/JavaScript/Guide/Modules). So, as always..."
   ]
  },
  {
   "cell_type": "code",
   "execution_count": 189,
   "id": "b0ac5ed5-8c0b-4de7-bfdb-a1e3ebf21659",
   "metadata": {},
   "outputs": [
    {
     "data": {
      "text/html": [
       "<script src='https://d3js.org/d3.v6.min.js'></script>"
      ],
      "text/plain": [
       "<IPython.core.display.HTML object>"
      ]
     },
     "metadata": {},
     "output_type": "display_data"
    },
    {
     "data": {
      "text/html": [
       "<script src='https://d3js.org/d3.v6.min.js'></script>"
      ],
      "text/plain": [
       "<IPython.core.display.HTML object>"
      ]
     },
     "metadata": {},
     "output_type": "display_data"
    },
    {
     "data": {
      "text/html": [
       "<script src='https://d3js.org/d3.v6.min.js'></script>"
      ],
      "text/plain": [
       "<IPython.core.display.HTML object>"
      ]
     },
     "metadata": {},
     "output_type": "display_data"
    },
    {
     "data": {
      "text/html": [
       "<script src='https://d3js.org/d3.v6.min.js'></script>"
      ],
      "text/plain": [
       "<IPython.core.display.HTML object>"
      ]
     },
     "metadata": {},
     "output_type": "display_data"
    }
   ],
   "source": [
    "from IPython.display import  HTML\n",
    "\n",
    "def load_d3_in_cell_output():\n",
    "  display(HTML(\"<script src='https://d3js.org/d3.v6.min.js'></script>\"))\n",
    "get_ipython().events.register('pre_run_cell', load_d3_in_cell_output)"
   ]
  },
  {
   "cell_type": "markdown",
   "id": "b21d1c4a-a1c7-446e-9c4f-a2eb7c9fabe3",
   "metadata": {},
   "source": [
    "## Our Data \n",
    "\n",
    "For our project, we are going to create a 3D cube and with values from a 2D normal distribution. To create our data, we can use \n",
    "```javascript\n",
    "d3.randomNormal(mu, sigma)\n",
    "``` \n",
    "\n",
    "the *mu* value or the mean (μ) \n",
    "\n",
    "and\n",
    "\n",
    "the *sigma* is the standard deviation (σ)\n",
    "\n",
    "Let's create a 2D version of this only in d3.js. "
   ]
  },
  {
   "cell_type": "code",
   "execution_count": 190,
   "id": "32f00907-5d3c-4483-8d8c-59a40acd05d9",
   "metadata": {},
   "outputs": [
    {
     "data": {
      "text/html": [
       "<script src='https://d3js.org/d3.v6.min.js'></script>"
      ],
      "text/plain": [
       "<IPython.core.display.HTML object>"
      ]
     },
     "metadata": {},
     "output_type": "display_data"
    },
    {
     "data": {
      "text/html": [
       "<script src='https://d3js.org/d3.v6.min.js'></script>"
      ],
      "text/plain": [
       "<IPython.core.display.HTML object>"
      ]
     },
     "metadata": {},
     "output_type": "display_data"
    },
    {
     "data": {
      "text/html": [
       "<script src='https://d3js.org/d3.v6.min.js'></script>"
      ],
      "text/plain": [
       "<IPython.core.display.HTML object>"
      ]
     },
     "metadata": {},
     "output_type": "display_data"
    },
    {
     "data": {
      "text/html": [
       "<script src='https://d3js.org/d3.v6.min.js'></script>"
      ],
      "text/plain": [
       "<IPython.core.display.HTML object>"
      ]
     },
     "metadata": {},
     "output_type": "display_data"
    },
    {
     "data": {
      "text/html": [
       "<script src='https://d3js.org/d3.v6.min.js'></script>"
      ],
      "text/plain": [
       "<IPython.core.display.HTML object>"
      ]
     },
     "metadata": {},
     "output_type": "display_data"
    },
    {
     "data": {
      "text/html": [
       "<p id=\"preview1\"></p>\n",
       "<script>\n",
       "    var data = d3.range(10).map(d=> d3.randomNormal(.5, .1)(d))\n",
       "    data = data.map(d=> Math.round(d*10))\n",
       "    data = data.sort((a, b) => a - b)\n",
       "    document.getElementById(\"preview1\").innerHTML = data\n",
       "    \n",
       "    \n",
       "    \n",
       "</script>\n"
      ],
      "text/plain": [
       "<IPython.core.display.HTML object>"
      ]
     },
     "metadata": {},
     "output_type": "display_data"
    }
   ],
   "source": [
    "%%html\n",
    "<p id=\"preview1\"></p>\n",
    "<script>\n",
    "    var data = d3.range(10).map(d=> d3.randomNormal(.5, .1)(d))\n",
    "    data = data.map(d=> Math.round(d*10))\n",
    "    data = data.sort((a, b) => a - b)\n",
    "    document.getElementById(\"preview1\").innerHTML = data\n",
    "    \n",
    "    \n",
    "    \n",
    "</script>"
   ]
  },
  {
   "cell_type": "code",
   "execution_count": 191,
   "id": "6ca0626a-b99f-4a02-b66d-940271217288",
   "metadata": {},
   "outputs": [
    {
     "data": {
      "text/html": [
       "<script src='https://d3js.org/d3.v6.min.js'></script>"
      ],
      "text/plain": [
       "<IPython.core.display.HTML object>"
      ]
     },
     "metadata": {},
     "output_type": "display_data"
    },
    {
     "data": {
      "text/html": [
       "<script src='https://d3js.org/d3.v6.min.js'></script>"
      ],
      "text/plain": [
       "<IPython.core.display.HTML object>"
      ]
     },
     "metadata": {},
     "output_type": "display_data"
    },
    {
     "data": {
      "text/html": [
       "<script src='https://d3js.org/d3.v6.min.js'></script>"
      ],
      "text/plain": [
       "<IPython.core.display.HTML object>"
      ]
     },
     "metadata": {},
     "output_type": "display_data"
    },
    {
     "data": {
      "text/html": [
       "<script src='https://d3js.org/d3.v6.min.js'></script>"
      ],
      "text/plain": [
       "<IPython.core.display.HTML object>"
      ]
     },
     "metadata": {},
     "output_type": "display_data"
    },
    {
     "data": {
      "text/html": [
       "<script src='https://d3js.org/d3.v6.min.js'></script>"
      ],
      "text/plain": [
       "<IPython.core.display.HTML object>"
      ]
     },
     "metadata": {},
     "output_type": "display_data"
    },
    {
     "data": {
      "text/html": [
       "<p id=\"preview2\"></p>\n",
       "<script>\n",
       "    var data = d3.range(11).map(d=>0)\n",
       "    var points = d3.range(100).map(d=> Math.round(d3.randomNormal(.5, .1)(d)*10))\n",
       "    var rolledData = d3.rollup(points,v => v.length, d => d)\n",
       "    \n",
       "    for (let [key, value] of rolledData) {\n",
       "        data[key] = value\n",
       "    }\n",
       "    document.getElementById(\"preview2\").innerHTML = data \n",
       "</script>\n"
      ],
      "text/plain": [
       "<IPython.core.display.HTML object>"
      ]
     },
     "metadata": {},
     "output_type": "display_data"
    }
   ],
   "source": [
    "%%html\n",
    "<p id=\"preview2\"></p>\n",
    "<script>\n",
    "    var data = d3.range(11).map(d=>0)\n",
    "    var points = d3.range(100).map(d=> Math.round(d3.randomNormal(.5, .1)(d)*10))\n",
    "    var rolledData = d3.rollup(points,v => v.length, d => d)\n",
    "    \n",
    "    for (let [key, value] of rolledData) {\n",
    "        data[key] = value\n",
    "    }\n",
    "    document.getElementById(\"preview2\").innerHTML = data \n",
    "</script>"
   ]
  },
  {
   "cell_type": "code",
   "execution_count": 192,
   "id": "f2973ca7-1244-4400-a763-32054ec45998",
   "metadata": {
    "tags": [
     "hide-input"
    ]
   },
   "outputs": [
    {
     "data": {
      "text/html": [
       "<script src='https://d3js.org/d3.v6.min.js'></script>"
      ],
      "text/plain": [
       "<IPython.core.display.HTML object>"
      ]
     },
     "metadata": {},
     "output_type": "display_data"
    },
    {
     "data": {
      "text/html": [
       "<script src='https://d3js.org/d3.v6.min.js'></script>"
      ],
      "text/plain": [
       "<IPython.core.display.HTML object>"
      ]
     },
     "metadata": {},
     "output_type": "display_data"
    },
    {
     "data": {
      "text/html": [
       "<script src='https://d3js.org/d3.v6.min.js'></script>"
      ],
      "text/plain": [
       "<IPython.core.display.HTML object>"
      ]
     },
     "metadata": {},
     "output_type": "display_data"
    },
    {
     "data": {
      "text/html": [
       "<script src='https://d3js.org/d3.v6.min.js'></script>"
      ],
      "text/plain": [
       "<IPython.core.display.HTML object>"
      ]
     },
     "metadata": {},
     "output_type": "display_data"
    },
    {
     "data": {
      "text/html": [
       "<script src='https://d3js.org/d3.v6.min.js'></script>"
      ],
      "text/plain": [
       "<IPython.core.display.HTML object>"
      ]
     },
     "metadata": {},
     "output_type": "display_data"
    },
    {
     "data": {
      "text/html": [
       "<div id=\"oneD1\"></div>\n",
       "<script>\n",
       "    var squares = 10\n",
       "    var size = width/(squares-1)\n",
       "    var data = d3.range(squares).map(d=> d3.randomNormal(.5, .1)(d))\n",
       "    data = data.map(d=> Math.round(d*10))\n",
       "    data = data.sort((a, b) => a - b)\n",
       "    \n",
       "    var width = 400\n",
       "    var height = 400\n",
       "    var margin = 20 \n",
       "    var svg = d3.select(\"div#oneD1\").append(\"svg\")\n",
       "        .attr(\"width\", width)\n",
       "        .attr(\"height\", height)            \n",
       "\n",
       "    var x = d3.scaleLinear().range([0, width]).domain(d3.extent(data,(d,i) => i))\n",
       "    \n",
       "    var palette = d3.interpolateReds\n",
       "    var color = d3.scaleLinear().range([0,1]).domain([0,10])\n",
       "\n",
       "    var xAxis = d3.axisTop().scale(x)\n",
       "    svg.append(\"g\")\n",
       "        .attr(\"class\", \"axis\")\n",
       "        .attr(\"transform\", \"translate(0,\" + (height) + \")\")\n",
       "        .call(xAxis) \n",
       "\n",
       "    svg.append(\"text\")\n",
       "        .attr(\"x\", width/2)\n",
       "        .attr(\"y\", height-5)\n",
       "        .style(\"text-anchor\", \"middle\")\n",
       "        .text(\"Index\")\n",
       "\n",
       "    svg.selectAll(\"rect\").data(data)\n",
       "        .join(\"rect\")\n",
       "        .attr(\"x\", (d,i)=>x(i))\n",
       "        .attr(\"y\",(d,i)=>(height/2))\n",
       "        .attr(\"width\",size)\n",
       "        .attr(\"height\", size)\n",
       "        .style(\"stroke-width\", 2) \n",
       "        .style(\"stroke\",\"white\")\n",
       "        .style(\"fill\", d => palette(color(d)))\n",
       "        \n",
       "    svg.append(\"line\")\n",
       "        .attr(\"x1\", 0)\n",
       "        .attr(\"y1\", height/2)\n",
       "        .attr(\"x2\", width)\n",
       "        .attr(\"y2\", height/2)\n",
       "        .style(\"stroke-width\", 5) \n",
       "        .style(\"stroke\",\"black\")\n",
       "    \n",
       "</script>\n"
      ],
      "text/plain": [
       "<IPython.core.display.HTML object>"
      ]
     },
     "metadata": {},
     "output_type": "display_data"
    }
   ],
   "source": [
    "%%html\n",
    "<div id=\"oneD1\"></div>\n",
    "<script>\n",
    "    var squares = 10\n",
    "    var size = width/(squares-1)\n",
    "    var data = d3.range(squares).map(d=> d3.randomNormal(.5, .1)(d))\n",
    "    data = data.map(d=> Math.round(d*10))\n",
    "    data = data.sort((a, b) => a - b)\n",
    "    \n",
    "    var width = 400\n",
    "    var height = 400\n",
    "    var margin = 20 \n",
    "    var svg = d3.select(\"div#oneD1\").append(\"svg\")\n",
    "        .attr(\"width\", width)\n",
    "        .attr(\"height\", height)            \n",
    "\n",
    "    var x = d3.scaleLinear().range([0, width]).domain(d3.extent(data,(d,i) => i))\n",
    "    \n",
    "    var palette = d3.interpolateReds\n",
    "    var color = d3.scaleLinear().range([0,1]).domain([0,10])\n",
    "\n",
    "    var xAxis = d3.axisTop().scale(x)\n",
    "    svg.append(\"g\")\n",
    "        .attr(\"class\", \"axis\")\n",
    "        .attr(\"transform\", \"translate(0,\" + (height) + \")\")\n",
    "        .call(xAxis) \n",
    "\n",
    "    svg.append(\"text\")\n",
    "        .attr(\"x\", width/2)\n",
    "        .attr(\"y\", height-5)\n",
    "        .style(\"text-anchor\", \"middle\")\n",
    "        .text(\"Index\")\n",
    "\n",
    "    svg.selectAll(\"rect\").data(data)\n",
    "        .join(\"rect\")\n",
    "        .attr(\"x\", (d,i)=>x(i))\n",
    "        .attr(\"y\",(d,i)=>(height/2))\n",
    "        .attr(\"width\",size)\n",
    "        .attr(\"height\", size)\n",
    "        .style(\"stroke-width\", 2) \n",
    "        .style(\"stroke\",\"white\")\n",
    "        .style(\"fill\", d => palette(color(d)))\n",
    "        \n",
    "    svg.append(\"line\")\n",
    "        .attr(\"x1\", 0)\n",
    "        .attr(\"y1\", height/2)\n",
    "        .attr(\"x2\", width)\n",
    "        .attr(\"y2\", height/2)\n",
    "        .style(\"stroke-width\", 5) \n",
    "        .style(\"stroke\",\"black\")\n",
    "    \n",
    "</script>"
   ]
  },
  {
   "cell_type": "code",
   "execution_count": 193,
   "id": "f0f445e2-26dc-49ad-9315-d60b44a39460",
   "metadata": {
    "tags": [
     "hide-input"
    ]
   },
   "outputs": [
    {
     "data": {
      "text/html": [
       "<script src='https://d3js.org/d3.v6.min.js'></script>"
      ],
      "text/plain": [
       "<IPython.core.display.HTML object>"
      ]
     },
     "metadata": {},
     "output_type": "display_data"
    },
    {
     "data": {
      "text/html": [
       "<script src='https://d3js.org/d3.v6.min.js'></script>"
      ],
      "text/plain": [
       "<IPython.core.display.HTML object>"
      ]
     },
     "metadata": {},
     "output_type": "display_data"
    },
    {
     "data": {
      "text/html": [
       "<script src='https://d3js.org/d3.v6.min.js'></script>"
      ],
      "text/plain": [
       "<IPython.core.display.HTML object>"
      ]
     },
     "metadata": {},
     "output_type": "display_data"
    },
    {
     "data": {
      "text/html": [
       "<script src='https://d3js.org/d3.v6.min.js'></script>"
      ],
      "text/plain": [
       "<IPython.core.display.HTML object>"
      ]
     },
     "metadata": {},
     "output_type": "display_data"
    },
    {
     "data": {
      "text/html": [
       "<script src='https://d3js.org/d3.v6.min.js'></script>"
      ],
      "text/plain": [
       "<IPython.core.display.HTML object>"
      ]
     },
     "metadata": {},
     "output_type": "display_data"
    },
    {
     "data": {
      "text/html": [
       "<div id=\"oneD2\"></div>\n",
       "<script>\n",
       "    var squares = 10\n",
       "    var size = width/(squares-1)\n",
       "    var data = d3.range(squares).map(d=> d3.randomNormal(.5, .1)(d))\n",
       "    data = data.map(d=> Math.round(d*10))\n",
       "    data = data.sort((a, b) => a - b)\n",
       "    \n",
       "    var width = 400\n",
       "    var height = 400\n",
       "    var margin = 20 \n",
       "    var svg = d3.select(\"div#oneD2\").append(\"svg\")\n",
       "        .attr(\"width\", width)\n",
       "        .attr(\"height\", height)            \n",
       "\n",
       "    var x = d3.scaleLinear().range([0, width]).domain(d3.extent(data,(d,i) => i))\n",
       "    \n",
       "    var palette = d3.interpolateReds\n",
       "    var color = d3.scaleLinear().range([0,1]).domain([0,10])\n",
       "\n",
       "    var xAxis = d3.axisTop().scale(x)\n",
       "    svg.append(\"g\")\n",
       "        .attr(\"class\", \"axis\")\n",
       "        .attr(\"transform\", \"translate(0,\" + (height) + \")\")\n",
       "        .call(xAxis) \n",
       "\n",
       "    svg.append(\"text\")\n",
       "        .attr(\"x\", width/2)\n",
       "        .attr(\"y\", height-5)\n",
       "        .style(\"text-anchor\", \"middle\")\n",
       "        .text(\"Index\")\n",
       "\n",
       "    svg.selectAll(\"rect\").data(data)\n",
       "        .join(\"rect\")\n",
       "        .attr(\"x\", (d,i)=>x(i))\n",
       "        .attr(\"y\",(d,i)=>(height/2)-(size/2))\n",
       "        .attr(\"width\",size)\n",
       "        .attr(\"height\", size)\n",
       "        .style(\"stroke-width\", 2) \n",
       "        .style(\"stroke\",\"white\")\n",
       "        .style(\"fill\", d => palette(color(d)))\n",
       "        \n",
       "    svg.append(\"line\")\n",
       "        .attr(\"x1\", 0)\n",
       "        .attr(\"y1\", height/2)\n",
       "        .attr(\"x2\", width)\n",
       "        .attr(\"y2\", height/2)\n",
       "        .style(\"stroke-width\", 5) \n",
       "        .style(\"stroke\",\"black\")\n",
       "    \n",
       "</script>\n"
      ],
      "text/plain": [
       "<IPython.core.display.HTML object>"
      ]
     },
     "metadata": {},
     "output_type": "display_data"
    }
   ],
   "source": [
    "%%html\n",
    "<div id=\"oneD2\"></div>\n",
    "<script>\n",
    "    var squares = 10\n",
    "    var size = width/(squares-1)\n",
    "    var data = d3.range(squares).map(d=> d3.randomNormal(.5, .1)(d))\n",
    "    data = data.map(d=> Math.round(d*10))\n",
    "    data = data.sort((a, b) => a - b)\n",
    "    \n",
    "    var width = 400\n",
    "    var height = 400\n",
    "    var margin = 20 \n",
    "    var svg = d3.select(\"div#oneD2\").append(\"svg\")\n",
    "        .attr(\"width\", width)\n",
    "        .attr(\"height\", height)            \n",
    "\n",
    "    var x = d3.scaleLinear().range([0, width]).domain(d3.extent(data,(d,i) => i))\n",
    "    \n",
    "    var palette = d3.interpolateReds\n",
    "    var color = d3.scaleLinear().range([0,1]).domain([0,10])\n",
    "\n",
    "    var xAxis = d3.axisTop().scale(x)\n",
    "    svg.append(\"g\")\n",
    "        .attr(\"class\", \"axis\")\n",
    "        .attr(\"transform\", \"translate(0,\" + (height) + \")\")\n",
    "        .call(xAxis) \n",
    "\n",
    "    svg.append(\"text\")\n",
    "        .attr(\"x\", width/2)\n",
    "        .attr(\"y\", height-5)\n",
    "        .style(\"text-anchor\", \"middle\")\n",
    "        .text(\"Index\")\n",
    "\n",
    "    svg.selectAll(\"rect\").data(data)\n",
    "        .join(\"rect\")\n",
    "        .attr(\"x\", (d,i)=>x(i))\n",
    "        .attr(\"y\",(d,i)=>(height/2)-(size/2))\n",
    "        .attr(\"width\",size)\n",
    "        .attr(\"height\", size)\n",
    "        .style(\"stroke-width\", 2) \n",
    "        .style(\"stroke\",\"white\")\n",
    "        .style(\"fill\", d => palette(color(d)))\n",
    "        \n",
    "    svg.append(\"line\")\n",
    "        .attr(\"x1\", 0)\n",
    "        .attr(\"y1\", height/2)\n",
    "        .attr(\"x2\", width)\n",
    "        .attr(\"y2\", height/2)\n",
    "        .style(\"stroke-width\", 5) \n",
    "        .style(\"stroke\",\"black\")\n",
    "    \n",
    "</script>"
   ]
  },
  {
   "cell_type": "code",
   "execution_count": 194,
   "id": "647fb535-6ba9-42b1-b4be-8c37ae4e42d5",
   "metadata": {
    "tags": [
     "hide-input"
    ]
   },
   "outputs": [
    {
     "data": {
      "text/html": [
       "<script src='https://d3js.org/d3.v6.min.js'></script>"
      ],
      "text/plain": [
       "<IPython.core.display.HTML object>"
      ]
     },
     "metadata": {},
     "output_type": "display_data"
    },
    {
     "data": {
      "text/html": [
       "<script src='https://d3js.org/d3.v6.min.js'></script>"
      ],
      "text/plain": [
       "<IPython.core.display.HTML object>"
      ]
     },
     "metadata": {},
     "output_type": "display_data"
    },
    {
     "data": {
      "text/html": [
       "<script src='https://d3js.org/d3.v6.min.js'></script>"
      ],
      "text/plain": [
       "<IPython.core.display.HTML object>"
      ]
     },
     "metadata": {},
     "output_type": "display_data"
    },
    {
     "data": {
      "text/html": [
       "<script src='https://d3js.org/d3.v6.min.js'></script>"
      ],
      "text/plain": [
       "<IPython.core.display.HTML object>"
      ]
     },
     "metadata": {},
     "output_type": "display_data"
    },
    {
     "data": {
      "text/html": [
       "<script src='https://d3js.org/d3.v6.min.js'></script>"
      ],
      "text/plain": [
       "<IPython.core.display.HTML object>"
      ]
     },
     "metadata": {},
     "output_type": "display_data"
    },
    {
     "data": {
      "text/html": [
       "<div id=\"twoD1\"></div>\n",
       "<script>\n",
       "    var squares = 10\n",
       "    var size = width/(squares-1)\n",
       "    var data = d3.range(squares*squares).map(d=> d3.randomNormal(.5, .1)(d))\n",
       "    data = data.map(d=> Math.round(d*10))\n",
       "    data = data.sort((a, b) => a - b)\n",
       "    \n",
       "    var width = 400\n",
       "    var height = 400\n",
       "    var margin = 20 \n",
       "    var svg = d3.select(\"div#twoD1\").append(\"svg\")\n",
       "        .attr(\"width\", width)\n",
       "        .attr(\"height\", height)            \n",
       "\n",
       "    var x = d3.scaleLinear().range([0, width]).domain(d3.extent(data,(d,i) => i))\n",
       "    var y = d3.scaleLinear().range([0, height]).domain(d3.extent(data,(d,i) => i))\n",
       "    \n",
       "    var palette = d3.interpolateReds\n",
       "    var color = d3.scaleLinear().range([0,1]).domain([0,10])\n",
       "\n",
       "    var xAxis = d3.axisTop().scale(x)\n",
       "    svg.append(\"g\")\n",
       "        .attr(\"class\", \"axis\")\n",
       "        .attr(\"transform\", \"translate(0,\" + (height) + \")\")\n",
       "        .call(xAxis) \n",
       "    var yAxis = d3.axisRight().scale(y)\n",
       "    svg.append(\"g\")\n",
       "        .attr(\"class\", \"axis\")\n",
       "        .attr(\"transform\", \"translate(\" + 0 + \",0)\")\n",
       "        .call(yAxis)\n",
       "\n",
       "    svg.selectAll(\"rect\").data(data)\n",
       "        .join(\"rect\")\n",
       "        .attr(\"x\", (d,i)=>x(i))\n",
       "        .attr(\"y\",(d,i)=>(height/2)-(size/2))\n",
       "        .attr(\"width\",size)\n",
       "        .attr(\"height\", size)\n",
       "        .style(\"stroke-width\", 2) \n",
       "        .style(\"stroke\",\"white\")\n",
       "        .style(\"fill\", d => palette(color(d)))\n",
       "        \n",
       "    svg.append(\"line\")\n",
       "        .attr(\"x1\", 0)\n",
       "        .attr(\"y1\", height/2)\n",
       "        .attr(\"x2\", width)\n",
       "        .attr(\"y2\", height/2)\n",
       "        .style(\"stroke-width\", 5) \n",
       "        .style(\"stroke\",\"black\")\n",
       "    svg.append(\"line\")\n",
       "        .attr(\"x1\", width/2)\n",
       "        .attr(\"y1\", 0)\n",
       "        .attr(\"x2\", width/2)\n",
       "        .attr(\"y2\", height)\n",
       "        .style(\"stroke-width\", 5) \n",
       "        .style(\"stroke\",\"black\")\n",
       "</script>\n"
      ],
      "text/plain": [
       "<IPython.core.display.HTML object>"
      ]
     },
     "metadata": {},
     "output_type": "display_data"
    }
   ],
   "source": [
    "%%html\n",
    "<div id=\"twoD1\"></div>\n",
    "<script>\n",
    "    var squares = 10\n",
    "    var size = width/(squares-1)\n",
    "    var data = d3.range(squares*squares).map(d=> d3.randomNormal(.5, .1)(d))\n",
    "    data = data.map(d=> Math.round(d*10))\n",
    "    data = data.sort((a, b) => a - b)\n",
    "    \n",
    "    var width = 400\n",
    "    var height = 400\n",
    "    var margin = 20 \n",
    "    var svg = d3.select(\"div#twoD1\").append(\"svg\")\n",
    "        .attr(\"width\", width)\n",
    "        .attr(\"height\", height)            \n",
    "\n",
    "    var x = d3.scaleLinear().range([0, width]).domain(d3.extent(data,(d,i) => i))\n",
    "    var y = d3.scaleLinear().range([0, height]).domain(d3.extent(data,(d,i) => i))\n",
    "    \n",
    "    var palette = d3.interpolateReds\n",
    "    var color = d3.scaleLinear().range([0,1]).domain([0,10])\n",
    "\n",
    "    var xAxis = d3.axisTop().scale(x)\n",
    "    svg.append(\"g\")\n",
    "        .attr(\"class\", \"axis\")\n",
    "        .attr(\"transform\", \"translate(0,\" + (height) + \")\")\n",
    "        .call(xAxis) \n",
    "    var yAxis = d3.axisRight().scale(y)\n",
    "    svg.append(\"g\")\n",
    "        .attr(\"class\", \"axis\")\n",
    "        .attr(\"transform\", \"translate(\" + 0 + \",0)\")\n",
    "        .call(yAxis)\n",
    "\n",
    "    svg.selectAll(\"rect\").data(data)\n",
    "        .join(\"rect\")\n",
    "        .attr(\"x\", (d,i)=>x(i))\n",
    "        .attr(\"y\",(d,i)=>(height/2)-(size/2))\n",
    "        .attr(\"width\",size)\n",
    "        .attr(\"height\", size)\n",
    "        .style(\"stroke-width\", 2) \n",
    "        .style(\"stroke\",\"white\")\n",
    "        .style(\"fill\", d => palette(color(d)))\n",
    "        \n",
    "    svg.append(\"line\")\n",
    "        .attr(\"x1\", 0)\n",
    "        .attr(\"y1\", height/2)\n",
    "        .attr(\"x2\", width)\n",
    "        .attr(\"y2\", height/2)\n",
    "        .style(\"stroke-width\", 5) \n",
    "        .style(\"stroke\",\"black\")\n",
    "    svg.append(\"line\")\n",
    "        .attr(\"x1\", width/2)\n",
    "        .attr(\"y1\", 0)\n",
    "        .attr(\"x2\", width/2)\n",
    "        .attr(\"y2\", height)\n",
    "        .style(\"stroke-width\", 5) \n",
    "        .style(\"stroke\",\"black\")\n",
    "</script>"
   ]
  },
  {
   "cell_type": "code",
   "execution_count": 195,
   "id": "763490df-e7a8-499a-b3d4-c2d430cd1170",
   "metadata": {
    "tags": [
     "hide-input"
    ]
   },
   "outputs": [
    {
     "data": {
      "text/html": [
       "<script src='https://d3js.org/d3.v6.min.js'></script>"
      ],
      "text/plain": [
       "<IPython.core.display.HTML object>"
      ]
     },
     "metadata": {},
     "output_type": "display_data"
    },
    {
     "data": {
      "text/html": [
       "<script src='https://d3js.org/d3.v6.min.js'></script>"
      ],
      "text/plain": [
       "<IPython.core.display.HTML object>"
      ]
     },
     "metadata": {},
     "output_type": "display_data"
    },
    {
     "data": {
      "text/html": [
       "<script src='https://d3js.org/d3.v6.min.js'></script>"
      ],
      "text/plain": [
       "<IPython.core.display.HTML object>"
      ]
     },
     "metadata": {},
     "output_type": "display_data"
    },
    {
     "data": {
      "text/html": [
       "<script src='https://d3js.org/d3.v6.min.js'></script>"
      ],
      "text/plain": [
       "<IPython.core.display.HTML object>"
      ]
     },
     "metadata": {},
     "output_type": "display_data"
    },
    {
     "data": {
      "text/html": [
       "<script src='https://d3js.org/d3.v6.min.js'></script>"
      ],
      "text/plain": [
       "<IPython.core.display.HTML object>"
      ]
     },
     "metadata": {},
     "output_type": "display_data"
    },
    {
     "data": {
      "text/html": [
       "<div id=\"twoD2\"></div>\n",
       "<script>\n",
       "    var squares = 10\n",
       "    var size = width/(squares-1)\n",
       "    var data = d3.range(squares*squares).map(d=> d3.randomNormal(.5, .1)(d))\n",
       "    data = data.map(d=> Math.round(d*10))\n",
       "    data = data.sort((a, b) => a - b)\n",
       "    \n",
       "    var width = 400\n",
       "    var height = 400\n",
       "    var margin = 20 \n",
       "    var svg = d3.select(\"div#twoD2\").append(\"svg\")\n",
       "        .attr(\"width\", width)\n",
       "        .attr(\"height\", height)            \n",
       "\n",
       "    var x = d3.scaleLinear().range([0, width]).domain([0,squares])\n",
       "    var y = d3.scaleLinear().range([0, height]).domain([0,squares])\n",
       "    \n",
       "    var palette = d3.interpolateReds\n",
       "    var color = d3.scaleLinear().range([0,1]).domain([0,10])\n",
       "\n",
       "    var xAxis = d3.axisTop().scale(x)\n",
       "    svg.append(\"g\")\n",
       "        .attr(\"class\", \"axis\")\n",
       "        .attr(\"transform\", \"translate(0,\" + (height) + \")\")\n",
       "        .call(xAxis) \n",
       "    var yAxis = d3.axisRight().scale(y)\n",
       "    svg.append(\"g\")\n",
       "        .attr(\"class\", \"axis\")\n",
       "        .attr(\"transform\", \"translate(\" + 0 + \",0)\")\n",
       "        .call(yAxis)\n",
       "\n",
       "    svg.selectAll(\"rect\").data(data)\n",
       "        .join(\"rect\")\n",
       "        .attr(\"x\", (d,i)=>x(i))\n",
       "        .attr(\"y\",(d,i)=>(height/2)-(size/2))\n",
       "        .attr(\"width\",size)\n",
       "        .attr(\"height\", size)\n",
       "        .style(\"stroke-width\", 2) \n",
       "        .style(\"stroke\",\"white\")\n",
       "        .style(\"fill\", d => palette(color(d)))\n",
       "        \n",
       "    svg.append(\"line\")\n",
       "        .attr(\"x1\", 0)\n",
       "        .attr(\"y1\", height/2)\n",
       "        .attr(\"x2\", width)\n",
       "        .attr(\"y2\", height/2)\n",
       "        .style(\"stroke-width\", 5) \n",
       "        .style(\"stroke\",\"black\")\n",
       "    svg.append(\"line\")\n",
       "        .attr(\"x1\", width/2)\n",
       "        .attr(\"y1\", 0)\n",
       "        .attr(\"x2\", width/2)\n",
       "        .attr(\"y2\", height)\n",
       "        .style(\"stroke-width\", 5) \n",
       "        .style(\"stroke\",\"black\")\n",
       "</script>\n"
      ],
      "text/plain": [
       "<IPython.core.display.HTML object>"
      ]
     },
     "metadata": {},
     "output_type": "display_data"
    }
   ],
   "source": [
    "%%html\n",
    "<div id=\"twoD2\"></div>\n",
    "<script>\n",
    "    var squares = 10\n",
    "    var size = width/(squares-1)\n",
    "    var data = d3.range(squares*squares).map(d=> d3.randomNormal(.5, .1)(d))\n",
    "    data = data.map(d=> Math.round(d*10))\n",
    "    data = data.sort((a, b) => a - b)\n",
    "    \n",
    "    var width = 400\n",
    "    var height = 400\n",
    "    var margin = 20 \n",
    "    var svg = d3.select(\"div#twoD2\").append(\"svg\")\n",
    "        .attr(\"width\", width)\n",
    "        .attr(\"height\", height)            \n",
    "\n",
    "    var x = d3.scaleLinear().range([0, width]).domain([0,squares])\n",
    "    var y = d3.scaleLinear().range([0, height]).domain([0,squares])\n",
    "    \n",
    "    var palette = d3.interpolateReds\n",
    "    var color = d3.scaleLinear().range([0,1]).domain([0,10])\n",
    "\n",
    "    var xAxis = d3.axisTop().scale(x)\n",
    "    svg.append(\"g\")\n",
    "        .attr(\"class\", \"axis\")\n",
    "        .attr(\"transform\", \"translate(0,\" + (height) + \")\")\n",
    "        .call(xAxis) \n",
    "    var yAxis = d3.axisRight().scale(y)\n",
    "    svg.append(\"g\")\n",
    "        .attr(\"class\", \"axis\")\n",
    "        .attr(\"transform\", \"translate(\" + 0 + \",0)\")\n",
    "        .call(yAxis)\n",
    "\n",
    "    svg.selectAll(\"rect\").data(data)\n",
    "        .join(\"rect\")\n",
    "        .attr(\"x\", (d,i)=>x(i))\n",
    "        .attr(\"y\",(d,i)=>(height/2)-(size/2))\n",
    "        .attr(\"width\",size)\n",
    "        .attr(\"height\", size)\n",
    "        .style(\"stroke-width\", 2) \n",
    "        .style(\"stroke\",\"white\")\n",
    "        .style(\"fill\", d => palette(color(d)))\n",
    "        \n",
    "    svg.append(\"line\")\n",
    "        .attr(\"x1\", 0)\n",
    "        .attr(\"y1\", height/2)\n",
    "        .attr(\"x2\", width)\n",
    "        .attr(\"y2\", height/2)\n",
    "        .style(\"stroke-width\", 5) \n",
    "        .style(\"stroke\",\"black\")\n",
    "    svg.append(\"line\")\n",
    "        .attr(\"x1\", width/2)\n",
    "        .attr(\"y1\", 0)\n",
    "        .attr(\"x2\", width/2)\n",
    "        .attr(\"y2\", height)\n",
    "        .style(\"stroke-width\", 5) \n",
    "        .style(\"stroke\",\"black\")\n",
    "</script>"
   ]
  },
  {
   "cell_type": "code",
   "execution_count": 196,
   "id": "1cd3e1f1-2f71-49de-8284-d889319bca4c",
   "metadata": {
    "tags": [
     "hide-input"
    ]
   },
   "outputs": [
    {
     "data": {
      "text/html": [
       "<script src='https://d3js.org/d3.v6.min.js'></script>"
      ],
      "text/plain": [
       "<IPython.core.display.HTML object>"
      ]
     },
     "metadata": {},
     "output_type": "display_data"
    },
    {
     "data": {
      "text/html": [
       "<script src='https://d3js.org/d3.v6.min.js'></script>"
      ],
      "text/plain": [
       "<IPython.core.display.HTML object>"
      ]
     },
     "metadata": {},
     "output_type": "display_data"
    },
    {
     "data": {
      "text/html": [
       "<script src='https://d3js.org/d3.v6.min.js'></script>"
      ],
      "text/plain": [
       "<IPython.core.display.HTML object>"
      ]
     },
     "metadata": {},
     "output_type": "display_data"
    },
    {
     "data": {
      "text/html": [
       "<script src='https://d3js.org/d3.v6.min.js'></script>"
      ],
      "text/plain": [
       "<IPython.core.display.HTML object>"
      ]
     },
     "metadata": {},
     "output_type": "display_data"
    },
    {
     "data": {
      "text/html": [
       "<script src='https://d3js.org/d3.v6.min.js'></script>"
      ],
      "text/plain": [
       "<IPython.core.display.HTML object>"
      ]
     },
     "metadata": {},
     "output_type": "display_data"
    },
    {
     "data": {
      "text/html": [
       "<div id=\"twoD3\"></div>\n",
       "<script>\n",
       "    var squares = 10\n",
       "    var size = width/(squares-1)\n",
       "    var data = d3.range(squares*squares).map(d=> d3.randomNormal(.5, .1)(d))\n",
       "    data = data.map(d=> Math.round(d*10))\n",
       "    data = data.sort((a, b) => a - b)\n",
       "    \n",
       "    var width = 400\n",
       "    var height = 400\n",
       "    var margin = 20 \n",
       "    var svg = d3.select(\"div#twoD3\").append(\"svg\")\n",
       "        .attr(\"width\", width)\n",
       "        .attr(\"height\", height)            \n",
       "\n",
       "    var x = d3.scaleLinear().range([0, width]).domain([0,squares])\n",
       "    var y = d3.scaleLinear().range([0, height]).domain([0,squares])\n",
       "    \n",
       "    var palette = d3.interpolateReds\n",
       "    var color = d3.scaleLinear().range([0,1]).domain([0,10])\n",
       "\n",
       "    var xAxis = d3.axisTop().scale(x)\n",
       "    svg.append(\"g\")\n",
       "        .attr(\"class\", \"axis\")\n",
       "        .attr(\"transform\", \"translate(0,\" + (height) + \")\")\n",
       "        .call(xAxis) \n",
       "    var yAxis = d3.axisRight().scale(y)\n",
       "    svg.append(\"g\")\n",
       "        .attr(\"class\", \"axis\")\n",
       "        .attr(\"transform\", \"translate(\" + 0 + \",0)\")\n",
       "        .call(yAxis)\n",
       "\n",
       "    d3.range(0,squares).forEach(function(dx) {\n",
       "        d3.range(0,squares).forEach(function(dy) {\n",
       "            i = (dy*10) + dx\n",
       "            svg.append(\"rect\")\n",
       "                .attr(\"x\", x(dx) )\n",
       "                .attr(\"y\", y(dy) )\n",
       "                .attr(\"width\",size)\n",
       "                .attr(\"height\", size)\n",
       "                .style(\"stroke-width\", 2) \n",
       "                .style(\"stroke\",\"white\")\n",
       "                .style(\"fill\", palette(color(data[i])) )\n",
       "\n",
       "        })\n",
       "    })\n",
       "        \n",
       "    svg.append(\"line\")\n",
       "        .attr(\"x1\", 0)\n",
       "        .attr(\"y1\", height/2)\n",
       "        .attr(\"x2\", width)\n",
       "        .attr(\"y2\", height/2)\n",
       "        .style(\"stroke-width\", 5) \n",
       "        .style(\"stroke\",\"black\")\n",
       "        \n",
       "    svg.append(\"line\")\n",
       "        .attr(\"x1\", width/2)\n",
       "        .attr(\"y1\", 0)\n",
       "        .attr(\"x2\", width/2)\n",
       "        .attr(\"y2\", height)\n",
       "        .style(\"stroke-width\", 5) \n",
       "        .style(\"stroke\",\"black\")\n",
       "</script>\n"
      ],
      "text/plain": [
       "<IPython.core.display.HTML object>"
      ]
     },
     "metadata": {},
     "output_type": "display_data"
    }
   ],
   "source": [
    "%%html\n",
    "<div id=\"twoD3\"></div>\n",
    "<script>\n",
    "    var squares = 10\n",
    "    var size = width/(squares-1)\n",
    "    var data = d3.range(squares*squares).map(d=> d3.randomNormal(.5, .1)(d))\n",
    "    data = data.map(d=> Math.round(d*10))\n",
    "    data = data.sort((a, b) => a - b)\n",
    "    \n",
    "    var width = 400\n",
    "    var height = 400\n",
    "    var margin = 20 \n",
    "    var svg = d3.select(\"div#twoD3\").append(\"svg\")\n",
    "        .attr(\"width\", width)\n",
    "        .attr(\"height\", height)            \n",
    "\n",
    "    var x = d3.scaleLinear().range([0, width]).domain([0,squares])\n",
    "    var y = d3.scaleLinear().range([0, height]).domain([0,squares])\n",
    "    \n",
    "    var palette = d3.interpolateReds\n",
    "    var color = d3.scaleLinear().range([0,1]).domain([0,10])\n",
    "\n",
    "    var xAxis = d3.axisTop().scale(x)\n",
    "    svg.append(\"g\")\n",
    "        .attr(\"class\", \"axis\")\n",
    "        .attr(\"transform\", \"translate(0,\" + (height) + \")\")\n",
    "        .call(xAxis) \n",
    "    var yAxis = d3.axisRight().scale(y)\n",
    "    svg.append(\"g\")\n",
    "        .attr(\"class\", \"axis\")\n",
    "        .attr(\"transform\", \"translate(\" + 0 + \",0)\")\n",
    "        .call(yAxis)\n",
    "\n",
    "    d3.range(0,squares).forEach(function(dx) {\n",
    "        d3.range(0,squares).forEach(function(dy) {\n",
    "            i = (dy*10) + dx\n",
    "            svg.append(\"rect\")\n",
    "                .attr(\"x\", x(dx) )\n",
    "                .attr(\"y\", y(dy) )\n",
    "                .attr(\"width\",size)\n",
    "                .attr(\"height\", size)\n",
    "                .style(\"stroke-width\", 2) \n",
    "                .style(\"stroke\",\"white\")\n",
    "                .style(\"fill\", palette(color(data[i])) )\n",
    "\n",
    "        })\n",
    "    })\n",
    "        \n",
    "    svg.append(\"line\")\n",
    "        .attr(\"x1\", 0)\n",
    "        .attr(\"y1\", height/2)\n",
    "        .attr(\"x2\", width)\n",
    "        .attr(\"y2\", height/2)\n",
    "        .style(\"stroke-width\", 5) \n",
    "        .style(\"stroke\",\"black\")\n",
    "        \n",
    "    svg.append(\"line\")\n",
    "        .attr(\"x1\", width/2)\n",
    "        .attr(\"y1\", 0)\n",
    "        .attr(\"x2\", width/2)\n",
    "        .attr(\"y2\", height)\n",
    "        .style(\"stroke-width\", 5) \n",
    "        .style(\"stroke\",\"black\")\n",
    "</script>"
   ]
  },
  {
   "cell_type": "code",
   "execution_count": 197,
   "id": "2b304b50-d21e-492e-af4e-3b9c0dbf76d8",
   "metadata": {
    "tags": [
     "hide-input"
    ]
   },
   "outputs": [
    {
     "data": {
      "text/html": [
       "<script src='https://d3js.org/d3.v6.min.js'></script>"
      ],
      "text/plain": [
       "<IPython.core.display.HTML object>"
      ]
     },
     "metadata": {},
     "output_type": "display_data"
    },
    {
     "data": {
      "text/html": [
       "<script src='https://d3js.org/d3.v6.min.js'></script>"
      ],
      "text/plain": [
       "<IPython.core.display.HTML object>"
      ]
     },
     "metadata": {},
     "output_type": "display_data"
    },
    {
     "data": {
      "text/html": [
       "<script src='https://d3js.org/d3.v6.min.js'></script>"
      ],
      "text/plain": [
       "<IPython.core.display.HTML object>"
      ]
     },
     "metadata": {},
     "output_type": "display_data"
    },
    {
     "data": {
      "text/html": [
       "<script src='https://d3js.org/d3.v6.min.js'></script>"
      ],
      "text/plain": [
       "<IPython.core.display.HTML object>"
      ]
     },
     "metadata": {},
     "output_type": "display_data"
    },
    {
     "data": {
      "text/html": [
       "<script src='https://d3js.org/d3.v6.min.js'></script>"
      ],
      "text/plain": [
       "<IPython.core.display.HTML object>"
      ]
     },
     "metadata": {},
     "output_type": "display_data"
    },
    {
     "data": {
      "text/html": [
       "<input type=\"range\" id=\"sd\" name=\"sd\" min=\"0\" max=\"20\" oninput=\"updateSigma(this.value)\">\n",
       "<label for=\"sd\">Sigma σ - Standard Deviation</label>\n",
       "<p id=\"sd\">10</p>\n",
       "\n",
       "<input type=\"range\" id=\"mean\" name=\"mean\" min=\"20\" max=\"70\" oninput=\"updateMu(this.value)\">\n",
       "<label for=\"mean\">mu σ - Mean</label> \n",
       "<p id=\"mean\">50</p>\n",
       "\n",
       "<div id=\"twoD3Sums\"></div>\n",
       "<script>\n",
       "    var squares = 10\n",
       "    var size = width/(squares-1)\n",
       "    var sigma = 10\n",
       "    var mu = (squares*squares)/2\n",
       "    var points = d3.range(1000).map(d=> d3.randomNormal(mu, sigma)(d))\n",
       "    points = points.map(d=> Math.round(d))\n",
       "    var data = d3.range(squares*squares).map(d=>0)\n",
       "    var rolledData = d3.rollup(points,v => v.length, d => d)\n",
       "\n",
       "    for (let [key, value] of rolledData) {\n",
       "        data[key] = value\n",
       "    }\n",
       "    var width = 400\n",
       "    var height = 400\n",
       "    var margin = 20 \n",
       "    var svg = d3.select(\"div#twoD3Sums\").append(\"svg\")\n",
       "        .attr(\"width\", width)\n",
       "        .attr(\"height\", height)            \n",
       "\n",
       "    var x = d3.scaleLinear().range([0, width]).domain([0,squares])\n",
       "    var y = d3.scaleLinear().range([0, height]).domain([0,squares])\n",
       "    \n",
       "    var palette = d3.interpolateReds\n",
       "    var color = d3.scaleLinear().range([0,1]).domain([0,10])\n",
       "\n",
       "    var xAxis = d3.axisTop().scale(x)\n",
       "    svg.append(\"g\")\n",
       "        .attr(\"class\", \"axis\")\n",
       "        .attr(\"transform\", \"translate(0,\" + (height) + \")\")\n",
       "        .call(xAxis) \n",
       "    var yAxis = d3.axisRight().scale(y)\n",
       "    svg.append(\"g\")\n",
       "        .attr(\"class\", \"axis\")\n",
       "        .attr(\"transform\", \"translate(\" + 0 + \",0)\")\n",
       "        .call(yAxis)\n",
       "\n",
       "    d3.range(0,squares).forEach(function(dy) {\n",
       "        d3.range(0,squares).forEach(function(dx) {\n",
       "            i = (dy*10) + dx\n",
       "            svg.append(\"rect\")\n",
       "                .attr(\"x\", x(dx) )\n",
       "                .attr(\"y\", y(dy) )\n",
       "                .attr(\"width\",size)\n",
       "                .attr(\"height\", size)\n",
       "                .style(\"stroke-width\", 2) \n",
       "                .style(\"stroke\",\"white\")\n",
       "                .style(\"fill\", palette(color(data[i])) )\n",
       "\n",
       "        })\n",
       "    })\n",
       "        \n",
       "    svg.append(\"line\")\n",
       "        .attr(\"x1\", 0)\n",
       "        .attr(\"y1\", height/2)\n",
       "        .attr(\"x2\", width)\n",
       "        .attr(\"y2\", height/2)\n",
       "        .style(\"stroke-width\", 5) \n",
       "        .style(\"stroke\",\"black\")\n",
       "        \n",
       "    svg.append(\"line\")\n",
       "        .attr(\"x1\", width/2)\n",
       "        .attr(\"y1\", 0)\n",
       "        .attr(\"x2\", width/2)\n",
       "        .attr(\"y2\", height)\n",
       "        .style(\"stroke-width\", 5) \n",
       "        .style(\"stroke\",\"black\")\n",
       "        \n",
       "\n",
       "    function updateSigma(s){\n",
       "        sigma = +s\n",
       "        d3.select(\"p#sd\").text(sigma)\n",
       "        updateGraph()\n",
       "    }\n",
       "    \n",
       "    function updateMu(m){\n",
       "        mu = +m\n",
       "        d3.select(\"p#mean\").text(mu)\n",
       "        updateGraph()\n",
       "    }\n",
       "    \n",
       "    function updateGraph() {\n",
       "        console.log(sigma,mu)\n",
       "        points = d3.range(1000).map(d=> d3.randomNormal(mu, sigma)(d))\n",
       "        points = points.map(d=> Math.round(d))\n",
       "        data = d3.range(squares*squares).map(d=>0)\n",
       "        rolledData = d3.rollup(points,v => v.length, d => d)\n",
       "\n",
       "        for (let [key, value] of rolledData) {\n",
       "            data[key] = value\n",
       "        }\n",
       "            svg.selectAll(\"rect\").data(data)\n",
       "                .style(\"fill\", (d,i)=>palette(color(data[i])) )\n",
       "    }\n",
       "</script>\n"
      ],
      "text/plain": [
       "<IPython.core.display.HTML object>"
      ]
     },
     "metadata": {},
     "output_type": "display_data"
    }
   ],
   "source": [
    "%%html\n",
    "<input type=\"range\" id=\"sd\" name=\"sd\" min=\"0\" max=\"20\" oninput=\"updateSigma(this.value)\">\n",
    "<label for=\"sd\">Sigma σ - Standard Deviation</label>\n",
    "<p id=\"sd\">10</p>\n",
    "\n",
    "<input type=\"range\" id=\"mean\" name=\"mean\" min=\"20\" max=\"70\" oninput=\"updateMu(this.value)\">\n",
    "<label for=\"mean\">mu σ - Mean</label> \n",
    "<p id=\"mean\">50</p>\n",
    "\n",
    "<div id=\"twoD3Sums\"></div>\n",
    "<script>\n",
    "    var squares = 10\n",
    "    var size = width/(squares-1)\n",
    "    var sigma = 10\n",
    "    var mu = (squares*squares)/2\n",
    "    var points = d3.range(1000).map(d=> d3.randomNormal(mu, sigma)(d))\n",
    "    points = points.map(d=> Math.round(d))\n",
    "    var data = d3.range(squares*squares).map(d=>0)\n",
    "    var rolledData = d3.rollup(points,v => v.length, d => d)\n",
    "\n",
    "    for (let [key, value] of rolledData) {\n",
    "        data[key] = value\n",
    "    }\n",
    "    var width = 400\n",
    "    var height = 400\n",
    "    var margin = 20 \n",
    "    var svg = d3.select(\"div#twoD3Sums\").append(\"svg\")\n",
    "        .attr(\"width\", width)\n",
    "        .attr(\"height\", height)            \n",
    "\n",
    "    var x = d3.scaleLinear().range([0, width]).domain([0,squares])\n",
    "    var y = d3.scaleLinear().range([0, height]).domain([0,squares])\n",
    "    \n",
    "    var palette = d3.interpolateReds\n",
    "    var color = d3.scaleLinear().range([0,1]).domain([0,10])\n",
    "\n",
    "    var xAxis = d3.axisTop().scale(x)\n",
    "    svg.append(\"g\")\n",
    "        .attr(\"class\", \"axis\")\n",
    "        .attr(\"transform\", \"translate(0,\" + (height) + \")\")\n",
    "        .call(xAxis) \n",
    "    var yAxis = d3.axisRight().scale(y)\n",
    "    svg.append(\"g\")\n",
    "        .attr(\"class\", \"axis\")\n",
    "        .attr(\"transform\", \"translate(\" + 0 + \",0)\")\n",
    "        .call(yAxis)\n",
    "\n",
    "    d3.range(0,squares).forEach(function(dy) {\n",
    "        d3.range(0,squares).forEach(function(dx) {\n",
    "            i = (dy*10) + dx\n",
    "            svg.append(\"rect\")\n",
    "                .attr(\"x\", x(dx) )\n",
    "                .attr(\"y\", y(dy) )\n",
    "                .attr(\"width\",size)\n",
    "                .attr(\"height\", size)\n",
    "                .style(\"stroke-width\", 2) \n",
    "                .style(\"stroke\",\"white\")\n",
    "                .style(\"fill\", palette(color(data[i])) )\n",
    "\n",
    "        })\n",
    "    })\n",
    "        \n",
    "    svg.append(\"line\")\n",
    "        .attr(\"x1\", 0)\n",
    "        .attr(\"y1\", height/2)\n",
    "        .attr(\"x2\", width)\n",
    "        .attr(\"y2\", height/2)\n",
    "        .style(\"stroke-width\", 5) \n",
    "        .style(\"stroke\",\"black\")\n",
    "        \n",
    "    svg.append(\"line\")\n",
    "        .attr(\"x1\", width/2)\n",
    "        .attr(\"y1\", 0)\n",
    "        .attr(\"x2\", width/2)\n",
    "        .attr(\"y2\", height)\n",
    "        .style(\"stroke-width\", 5) \n",
    "        .style(\"stroke\",\"black\")\n",
    "        \n",
    "\n",
    "    function updateSigma(s){\n",
    "        sigma = +s\n",
    "        d3.select(\"p#sd\").text(sigma)\n",
    "        updateGraph()\n",
    "    }\n",
    "    \n",
    "    function updateMu(m){\n",
    "        mu = +m\n",
    "        d3.select(\"p#mean\").text(mu)\n",
    "        updateGraph()\n",
    "    }\n",
    "    \n",
    "    function updateGraph() {\n",
    "        console.log(sigma,mu)\n",
    "        points = d3.range(1000).map(d=> d3.randomNormal(mu, sigma)(d))\n",
    "        points = points.map(d=> Math.round(d))\n",
    "        data = d3.range(squares*squares).map(d=>0)\n",
    "        rolledData = d3.rollup(points,v => v.length, d => d)\n",
    "\n",
    "        for (let [key, value] of rolledData) {\n",
    "            data[key] = value\n",
    "        }\n",
    "            svg.selectAll(\"rect\").data(data)\n",
    "                .style(\"fill\", (d,i)=>palette(color(data[i])) )\n",
    "    }\n",
    "</script>"
   ]
  },
  {
   "cell_type": "code",
   "execution_count": 198,
   "id": "9a88e386-399a-4560-864f-822d6a9f1e49",
   "metadata": {
    "tags": [
     "hide-input"
    ]
   },
   "outputs": [
    {
     "data": {
      "text/html": [
       "<script src='https://d3js.org/d3.v6.min.js'></script>"
      ],
      "text/plain": [
       "<IPython.core.display.HTML object>"
      ]
     },
     "metadata": {},
     "output_type": "display_data"
    },
    {
     "data": {
      "text/html": [
       "<script src='https://d3js.org/d3.v6.min.js'></script>"
      ],
      "text/plain": [
       "<IPython.core.display.HTML object>"
      ]
     },
     "metadata": {},
     "output_type": "display_data"
    },
    {
     "data": {
      "text/html": [
       "<script src='https://d3js.org/d3.v6.min.js'></script>"
      ],
      "text/plain": [
       "<IPython.core.display.HTML object>"
      ]
     },
     "metadata": {},
     "output_type": "display_data"
    },
    {
     "data": {
      "text/html": [
       "<script src='https://d3js.org/d3.v6.min.js'></script>"
      ],
      "text/plain": [
       "<IPython.core.display.HTML object>"
      ]
     },
     "metadata": {},
     "output_type": "display_data"
    },
    {
     "data": {
      "text/html": [
       "<script src='https://d3js.org/d3.v6.min.js'></script>"
      ],
      "text/plain": [
       "<IPython.core.display.HTML object>"
      ]
     },
     "metadata": {},
     "output_type": "display_data"
    },
    {
     "data": {
      "text/html": [
       "<div id=\"three1\"></div>\n",
       "<script type=\"module\">\n",
       "    import * as THREE from 'https://threejs.org/build/three.module.js';\n",
       "    import { OrbitControls } from 'https://threejs.org/examples/jsm/controls/OrbitControls.js';\n",
       "\n",
       "    var squares = 10\n",
       "    var sigma = 100\n",
       "    var mu = (squares*squares*squares)/2\n",
       "    var points = d3.range(10000).map(d=> d3.randomNormal(mu, sigma)(d))\n",
       "    points = points.map(d=> Math.round(d))\n",
       "    var data = d3.range(squares*squares*squares).map(d=>0)\n",
       "    var rolledData = d3.rollup(points,v => v.length, d => d)\n",
       "    for (let [key, value] of rolledData) {\n",
       "        data[key] = value\n",
       "    }\n",
       "    \n",
       "    var height = 400\n",
       "    var width = 400\n",
       "\n",
       "    var palette = d3.interpolateReds\n",
       "    var color = d3.scaleLinear().domain(d3.extent(data)).range([0,1])\n",
       "\n",
       "    let renderer = new THREE.WebGLRenderer({antialias: true});\n",
       "    renderer.setSize(width, height);\n",
       "    renderer.setPixelRatio(devicePixelRatio);\n",
       "    var scene = new THREE.Scene();\n",
       "    var camera = new THREE.PerspectiveCamera(\n",
       "        45, // Field of view\n",
       "        height / width, // Aspect ratio\n",
       "        0.1, // Near\n",
       "        3000 // Far\n",
       "    );\n",
       "\n",
       "    var controls = new OrbitControls(camera, renderer.domElement)\n",
       "\n",
       "    controls.addEventListener(\"change\", () => renderer.render(scene, camera))\n",
       "    camera.position.x = 0;\n",
       "    camera.position.y = 0;\n",
       "    camera.position.z = 1000;\n",
       "    var cubes = new THREE.Object3D();\n",
       "    scene.add( cubes );\n",
       "    var x = d3.scaleLinear().range([-width/2,width/2]).domain([0,squares-1])\n",
       "    var y = d3.scaleLinear().range([-width/2,width/2]).domain([0,squares-1])\n",
       "    var z = d3.scaleLinear().range([-width/2,width/2]).domain([0,squares-1])\n",
       "    var counter = 0;\n",
       "    console.log(data)\n",
       "\n",
       "    d3.range(0,squares).forEach(function(dx) {\n",
       "        d3.range(0,squares).forEach(function(dy) {\n",
       "            d3.range(0,squares).forEach(function(dz) {\n",
       "                //console.log(data[counter])\n",
       "                if (data[counter]>10) {\n",
       "                    var size = width/(squares-1)\n",
       "                    var geometry = new THREE.BoxGeometry(size,size,size);\n",
       "                    var material = new THREE.MeshBasicMaterial({color: palette(color(data[counter])), transparent : true, opacity:color(data[counter])})\n",
       "                    var cube = new THREE.Mesh(geometry, material);\n",
       "                    cube.position.x = x(dx);\n",
       "                    cube.position.y = y(dy);\n",
       "                    cube.position.z = z(dz);\n",
       "                    cubes.add(cube);\n",
       "\n",
       "                }\n",
       "            counter++;\n",
       "            })\n",
       "        })\n",
       "    })\n",
       "    document.getElementById(\"three1\").appendChild( renderer.domElement )\n",
       "    var render = function () {\n",
       "        requestAnimationFrame( render );\n",
       "\n",
       "\n",
       "\n",
       "        // Render the scene\n",
       "    renderer.render(scene, camera);\n",
       "    };\n",
       "\n",
       "render();\n",
       "\n",
       "</script>\n"
      ],
      "text/plain": [
       "<IPython.core.display.HTML object>"
      ]
     },
     "metadata": {},
     "output_type": "display_data"
    }
   ],
   "source": [
    "%%html\n",
    "<div id=\"three1\"></div>\n",
    "<script type=\"module\">\n",
    "    import * as THREE from 'https://threejs.org/build/three.module.js';\n",
    "    import { OrbitControls } from 'https://threejs.org/examples/jsm/controls/OrbitControls.js';\n",
    "\n",
    "    var squares = 10\n",
    "    var sigma = 100\n",
    "    var mu = (squares*squares*squares)/2\n",
    "    var points = d3.range(10000).map(d=> d3.randomNormal(mu, sigma)(d))\n",
    "    points = points.map(d=> Math.round(d))\n",
    "    var data = d3.range(squares*squares*squares).map(d=>0)\n",
    "    var rolledData = d3.rollup(points,v => v.length, d => d)\n",
    "    for (let [key, value] of rolledData) {\n",
    "        data[key] = value\n",
    "    }\n",
    "    \n",
    "    var height = 400\n",
    "    var width = 400\n",
    "\n",
    "    var palette = d3.interpolateReds\n",
    "    var color = d3.scaleLinear().domain(d3.extent(data)).range([0,1])\n",
    "\n",
    "    let renderer = new THREE.WebGLRenderer({antialias: true});\n",
    "    renderer.setSize(width, height);\n",
    "    renderer.setPixelRatio(devicePixelRatio);\n",
    "    var scene = new THREE.Scene();\n",
    "    var camera = new THREE.PerspectiveCamera(\n",
    "        45, // Field of view\n",
    "        height / width, // Aspect ratio\n",
    "        0.1, // Near\n",
    "        3000 // Far\n",
    "    );\n",
    "\n",
    "    var controls = new OrbitControls(camera, renderer.domElement)\n",
    "\n",
    "    controls.addEventListener(\"change\", () => renderer.render(scene, camera))\n",
    "    camera.position.x = 0;\n",
    "    camera.position.y = 0;\n",
    "    camera.position.z = 1000;\n",
    "    var cubes = new THREE.Object3D();\n",
    "    scene.add( cubes );\n",
    "    var x = d3.scaleLinear().range([-width/2,width/2]).domain([0,squares-1])\n",
    "    var y = d3.scaleLinear().range([-width/2,width/2]).domain([0,squares-1])\n",
    "    var z = d3.scaleLinear().range([-width/2,width/2]).domain([0,squares-1])\n",
    "    var counter = 0;\n",
    "    console.log(data)\n",
    "\n",
    "    d3.range(0,squares).forEach(function(dx) {\n",
    "        d3.range(0,squares).forEach(function(dy) {\n",
    "            d3.range(0,squares).forEach(function(dz) {\n",
    "                //console.log(data[counter])\n",
    "                if (data[counter]>10) {\n",
    "                    var size = width/(squares-1)\n",
    "                    var geometry = new THREE.BoxGeometry(size,size,size);\n",
    "                    var material = new THREE.MeshBasicMaterial({color: palette(color(data[counter])), transparent : true, opacity:color(data[counter])})\n",
    "                    var cube = new THREE.Mesh(geometry, material);\n",
    "                    cube.position.x = x(dx);\n",
    "                    cube.position.y = y(dy);\n",
    "                    cube.position.z = z(dz);\n",
    "                    cubes.add(cube);\n",
    "\n",
    "                }\n",
    "            counter++;\n",
    "            })\n",
    "        })\n",
    "    })\n",
    "    document.getElementById(\"three1\").appendChild( renderer.domElement )\n",
    "    var render = function () {\n",
    "        requestAnimationFrame( render );\n",
    "\n",
    "\n",
    "\n",
    "        // Render the scene\n",
    "    renderer.render(scene, camera);\n",
    "    };\n",
    "\n",
    "render();\n",
    "\n",
    "</script>"
   ]
  },
  {
   "cell_type": "code",
   "execution_count": 206,
   "id": "1f56b437-c6cc-47b3-ae32-5e906bbe97cd",
   "metadata": {
    "tags": [
     "hide-input"
    ]
   },
   "outputs": [
    {
     "data": {
      "text/html": [
       "<script src='https://d3js.org/d3.v6.min.js'></script>"
      ],
      "text/plain": [
       "<IPython.core.display.HTML object>"
      ]
     },
     "metadata": {},
     "output_type": "display_data"
    },
    {
     "data": {
      "text/html": [
       "<script src='https://d3js.org/d3.v6.min.js'></script>"
      ],
      "text/plain": [
       "<IPython.core.display.HTML object>"
      ]
     },
     "metadata": {},
     "output_type": "display_data"
    },
    {
     "data": {
      "text/html": [
       "<script src='https://d3js.org/d3.v6.min.js'></script>"
      ],
      "text/plain": [
       "<IPython.core.display.HTML object>"
      ]
     },
     "metadata": {},
     "output_type": "display_data"
    },
    {
     "data": {
      "text/html": [
       "<script src='https://d3js.org/d3.v6.min.js'></script>"
      ],
      "text/plain": [
       "<IPython.core.display.HTML object>"
      ]
     },
     "metadata": {},
     "output_type": "display_data"
    },
    {
     "data": {
      "text/html": [
       "<script src='https://d3js.org/d3.v6.min.js'></script>"
      ],
      "text/plain": [
       "<IPython.core.display.HTML object>"
      ]
     },
     "metadata": {},
     "output_type": "display_data"
    },
    {
     "data": {
      "text/html": [
       "<input type=\"button\" id=\"exportButton\" value=\"Export GLTF\">\n",
       "<br>\n",
       "<input type=\"range\" id=\"sd2\" name=\"sd2\" min=\"20\" max=\"200\" value=\"50\">\n",
       "<label for=\"sd2\">Sigma σ - Standard Deviation</label>\n",
       "<p id=\"sd2\">50</p>\n",
       "\n",
       "<input type=\"range\" id=\"mean2\" name=\"mean2\" min=\"200\" max=\"700\" value=\"500\">\n",
       "<label for=\"mean2\">mu σ - Mean</label> \n",
       "<p id=\"mean2\">500</p>\n",
       "<div id=\"threeDOutput\"></div>\n",
       "<script type=\"module\">\n",
       "    \n",
       "    import * as THREE from 'https://threejs.org/build/three.module.js';\n",
       "    import { OrbitControls } from 'https://threejs.org/examples/jsm/controls/OrbitControls.js';\n",
       "    import { GLTFExporter } from 'https://threejs.org/examples/jsm/exporters/GLTFExporter.js';\n",
       "    var cubes = new THREE.Object3D();\n",
       "    var sigma = 50\n",
       "    var mu = (squares*squares*squares)/2\n",
       "    function createGraph() {\n",
       "        var squares = 10\n",
       "\n",
       "        var points = d3.range(1000).map(d=> d3.randomNormal(mu, sigma)(d))\n",
       "        points = points.map(d=> Math.round(d))\n",
       "        var data = d3.range(squares*squares*squares).map(d=>0)\n",
       "        var rolledData = d3.rollup(points,v => v.length, d => d)\n",
       "        for (let [key, value] of rolledData) {\n",
       "            data[key] = value\n",
       "        }\n",
       "\n",
       "        var height = 400\n",
       "        var width = 400\n",
       "\n",
       "        var palette = d3.interpolateReds\n",
       "        var color = d3.scaleLinear().domain(d3.extent(data)).range([0,1])\n",
       "\n",
       "        let renderer = new THREE.WebGLRenderer({antialias: true});\n",
       "        renderer.setSize(width, height);\n",
       "        renderer.setPixelRatio(devicePixelRatio);\n",
       "        var scene = new THREE.Scene();\n",
       "        var camera = new THREE.PerspectiveCamera(\n",
       "            45, // Field of view\n",
       "            height / width, // Aspect ratio\n",
       "            0.1, // Near\n",
       "            3000 // Far\n",
       "        );\n",
       "\n",
       "        var controls = new OrbitControls(camera, renderer.domElement)\n",
       "\n",
       "        controls.addEventListener(\"change\", () => renderer.render(scene, camera))\n",
       "        camera.position.x = 0;\n",
       "        camera.position.y = 0;\n",
       "        camera.position.z = 1000;\n",
       "        cubes = new THREE.Object3D();\n",
       "        scene.add( cubes );\n",
       "        var x = d3.scaleLinear().range([-width/2,width/2]).domain([0,squares-1])\n",
       "        var y = d3.scaleLinear().range([-width/2,width/2]).domain([0,squares-1])\n",
       "        var z = d3.scaleLinear().range([-width/2,width/2]).domain([0,squares-1])\n",
       "        var counter = 0;\n",
       "        console.log(data)\n",
       "\n",
       "        d3.range(0,squares).forEach(function(dx) {\n",
       "            d3.range(0,squares).forEach(function(dy) {\n",
       "                d3.range(0,squares).forEach(function(dz) {\n",
       "\n",
       "                    if (data[counter]>=1) {\n",
       "                        var size = width/(squares-1)\n",
       "                        var geometry = new THREE.BoxGeometry(size,size,size);\n",
       "                        var material = new THREE.MeshBasicMaterial({color: palette(color(data[counter])), transparent : true, opacity:color(data[counter])})\n",
       "                        var cube = new THREE.Mesh(geometry, material);\n",
       "                        cube.position.x = x(dx);\n",
       "                        cube.position.y = y(dy);\n",
       "                        cube.position.z = z(dz);\n",
       "                        cubes.add(cube);\n",
       "\n",
       "                    }\n",
       "                counter++;\n",
       "                })\n",
       "            })\n",
       "        })\n",
       "        document.getElementById(\"threeDOutput\").appendChild( renderer.domElement )\n",
       "        \n",
       "        var render = function () {\n",
       "            requestAnimationFrame( render );\n",
       "            renderer.render(scene, camera);\n",
       "        };\n",
       "        \n",
       "        render();\n",
       "    }\n",
       "    function exportGLTF( input ) {\n",
       "        const gltfExporter = new GLTFExporter();\n",
       "        gltfExporter.parse( input, function ( result ) {\n",
       "            if ( result instanceof ArrayBuffer ) {\n",
       "                saveArrayBuffer( result, 'scene.glb' );\n",
       "            } \n",
       "            else {\n",
       "                const output = JSON.stringify( result, null, 2 );\n",
       "                saveString( output, 'scene.gltf' );\n",
       "\n",
       "            }\n",
       "        })\n",
       "    }\n",
       "    function saveArrayBuffer( buffer, filename ) {\n",
       "        save( new Blob( [ buffer ], { type: 'application/octet-stream' } ), filename );\n",
       "    }\n",
       "    const link = document.createElement( 'a' );\n",
       "    link.style.display = 'none';\n",
       "    document.body.appendChild( link );\n",
       "    function save( blob, filename ) {\n",
       "        link.href = URL.createObjectURL( blob );\n",
       "        link.download = filename;\n",
       "        link.click();\n",
       "\n",
       "    }\n",
       "    function saveString( text, filename ) {\n",
       "        save( new Blob( [ text ], { type: 'text/plain' } ), filename )\n",
       "    }\n",
       "    \n",
       "    createGraph();\n",
       "\n",
       "    document.querySelector('input#exportButton').addEventListener('click', function(){exportGLTF(cubes)})\n",
       "    document.querySelector('input#mean2').addEventListener('change', function(){updateMu2(this.value)})\n",
       "    document.querySelector('input#sd2').addEventListener('change', function(){updateSigma2(this.value)})\n",
       "    function updateSigma2(s){\n",
       "        sigma = +s\n",
       "        d3.select(\"p#sd2\").text(sigma)\n",
       "        d3.select(\"#threeDOutput\").select(\"*\").remove()\n",
       "        createGraph()\n",
       "    }\n",
       "    \n",
       "    function updateMu2(m){\n",
       "        mu = +m\n",
       "        d3.select(\"p#mean2\").text(mu)\n",
       "        d3.select(\"#threeDOutput\").select(\"*\").remove()\n",
       "        createGraph()\n",
       "    }\n",
       "    \n",
       "</script>\n"
      ],
      "text/plain": [
       "<IPython.core.display.HTML object>"
      ]
     },
     "metadata": {},
     "output_type": "display_data"
    }
   ],
   "source": [
    "%%html\n",
    "<input type=\"button\" id=\"exportButton\" value=\"Export GLTF\">\n",
    "<br>\n",
    "<input type=\"range\" id=\"sd2\" name=\"sd2\" min=\"20\" max=\"200\" value=\"50\">\n",
    "<label for=\"sd2\">Sigma σ - Standard Deviation</label>\n",
    "<p id=\"sd2\">50</p>\n",
    "\n",
    "<input type=\"range\" id=\"mean2\" name=\"mean2\" min=\"200\" max=\"700\" value=\"500\">\n",
    "<label for=\"mean2\">mu σ - Mean</label> \n",
    "<p id=\"mean2\">500</p>\n",
    "<div id=\"threeDOutput\"></div>\n",
    "<script type=\"module\">\n",
    "    \n",
    "    import * as THREE from 'https://threejs.org/build/three.module.js';\n",
    "    import { OrbitControls } from 'https://threejs.org/examples/jsm/controls/OrbitControls.js';\n",
    "    import { GLTFExporter } from 'https://threejs.org/examples/jsm/exporters/GLTFExporter.js';\n",
    "    var cubes = new THREE.Object3D();\n",
    "    var sigma = 50\n",
    "    var mu = (squares*squares*squares)/2\n",
    "    function createGraph() {\n",
    "        var squares = 10\n",
    "\n",
    "        var points = d3.range(1000).map(d=> d3.randomNormal(mu, sigma)(d))\n",
    "        points = points.map(d=> Math.round(d))\n",
    "        var data = d3.range(squares*squares*squares).map(d=>0)\n",
    "        var rolledData = d3.rollup(points,v => v.length, d => d)\n",
    "        for (let [key, value] of rolledData) {\n",
    "            data[key] = value\n",
    "        }\n",
    "\n",
    "        var height = 400\n",
    "        var width = 400\n",
    "\n",
    "        var palette = d3.interpolateReds\n",
    "        var color = d3.scaleLinear().domain(d3.extent(data)).range([0,1])\n",
    "\n",
    "        let renderer = new THREE.WebGLRenderer({antialias: true});\n",
    "        renderer.setSize(width, height);\n",
    "        renderer.setPixelRatio(devicePixelRatio);\n",
    "        var scene = new THREE.Scene();\n",
    "        var camera = new THREE.PerspectiveCamera(\n",
    "            45, // Field of view\n",
    "            height / width, // Aspect ratio\n",
    "            0.1, // Near\n",
    "            3000 // Far\n",
    "        );\n",
    "\n",
    "        var controls = new OrbitControls(camera, renderer.domElement)\n",
    "\n",
    "        controls.addEventListener(\"change\", () => renderer.render(scene, camera))\n",
    "        camera.position.x = 0;\n",
    "        camera.position.y = 0;\n",
    "        camera.position.z = 1000;\n",
    "        cubes = new THREE.Object3D();\n",
    "        scene.add( cubes );\n",
    "        var x = d3.scaleLinear().range([-width/2,width/2]).domain([0,squares-1])\n",
    "        var y = d3.scaleLinear().range([-width/2,width/2]).domain([0,squares-1])\n",
    "        var z = d3.scaleLinear().range([-width/2,width/2]).domain([0,squares-1])\n",
    "        var counter = 0;\n",
    "        console.log(data)\n",
    "\n",
    "        d3.range(0,squares).forEach(function(dx) {\n",
    "            d3.range(0,squares).forEach(function(dy) {\n",
    "                d3.range(0,squares).forEach(function(dz) {\n",
    "\n",
    "                    if (data[counter]>=1) {\n",
    "                        var size = width/(squares-1)\n",
    "                        var geometry = new THREE.BoxGeometry(size,size,size);\n",
    "                        var material = new THREE.MeshBasicMaterial({color: palette(color(data[counter])), transparent : true, opacity:color(data[counter])})\n",
    "                        var cube = new THREE.Mesh(geometry, material);\n",
    "                        cube.position.x = x(dx);\n",
    "                        cube.position.y = y(dy);\n",
    "                        cube.position.z = z(dz);\n",
    "                        cubes.add(cube);\n",
    "\n",
    "                    }\n",
    "                counter++;\n",
    "                })\n",
    "            })\n",
    "        })\n",
    "        document.getElementById(\"threeDOutput\").appendChild( renderer.domElement )\n",
    "        \n",
    "        var render = function () {\n",
    "            requestAnimationFrame( render );\n",
    "            renderer.render(scene, camera);\n",
    "        };\n",
    "        \n",
    "        render();\n",
    "    }\n",
    "    function exportGLTF( input ) {\n",
    "        const gltfExporter = new GLTFExporter();\n",
    "        gltfExporter.parse( input, function ( result ) {\n",
    "            if ( result instanceof ArrayBuffer ) {\n",
    "                saveArrayBuffer( result, 'scene.glb' );\n",
    "            } \n",
    "            else {\n",
    "                const output = JSON.stringify( result, null, 2 );\n",
    "                saveString( output, 'scene.gltf' );\n",
    "\n",
    "            }\n",
    "        })\n",
    "    }\n",
    "    function saveArrayBuffer( buffer, filename ) {\n",
    "        save( new Blob( [ buffer ], { type: 'application/octet-stream' } ), filename );\n",
    "    }\n",
    "    const link = document.createElement( 'a' );\n",
    "    link.style.display = 'none';\n",
    "    document.body.appendChild( link );\n",
    "    function save( blob, filename ) {\n",
    "        link.href = URL.createObjectURL( blob );\n",
    "        link.download = filename;\n",
    "        link.click();\n",
    "\n",
    "    }\n",
    "    function saveString( text, filename ) {\n",
    "        save( new Blob( [ text ], { type: 'text/plain' } ), filename )\n",
    "    }\n",
    "    \n",
    "    createGraph();\n",
    "\n",
    "    document.querySelector('input#exportButton').addEventListener('click', function(){exportGLTF(cubes)})\n",
    "    document.querySelector('input#mean2').addEventListener('change', function(){updateMu2(this.value)})\n",
    "    document.querySelector('input#sd2').addEventListener('change', function(){updateSigma2(this.value)})\n",
    "    function updateSigma2(s){\n",
    "        sigma = +s\n",
    "        d3.select(\"p#sd2\").text(sigma)\n",
    "        d3.select(\"#threeDOutput\").select(\"*\").remove()\n",
    "        createGraph()\n",
    "    }\n",
    "    \n",
    "    function updateMu2(m){\n",
    "        mu = +m\n",
    "        d3.select(\"p#mean2\").text(mu)\n",
    "        d3.select(\"#threeDOutput\").select(\"*\").remove()\n",
    "        createGraph()\n",
    "    }\n",
    "    \n",
    "</script>"
   ]
  },
  {
   "cell_type": "code",
   "execution_count": null,
   "id": "06348e81-a811-4f1d-977c-195a63db16f2",
   "metadata": {},
   "outputs": [],
   "source": []
  }
 ],
 "metadata": {
  "kernelspec": {
   "display_name": "Python 3",
   "language": "python",
   "name": "python3"
  },
  "language_info": {
   "codemirror_mode": {
    "name": "ipython",
    "version": 3
   },
   "file_extension": ".py",
   "mimetype": "text/x-python",
   "name": "python",
   "nbconvert_exporter": "python",
   "pygments_lexer": "ipython3",
   "version": "3.8.5"
  }
 },
 "nbformat": 4,
 "nbformat_minor": 5
}
