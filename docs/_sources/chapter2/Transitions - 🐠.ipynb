{
 "cells": [
  {
   "cell_type": "markdown",
   "metadata": {},
   "source": [
    "# Transitions - 🐠"
   ]
  },
  {
   "cell_type": "code",
   "execution_count": 1,
   "metadata": {},
   "outputs": [
    {
     "data": {
      "application/javascript": [
       "\n",
       "    require.config({\n",
       "      paths: {\n",
       "        d3: \"https://d3js.org/d3.v6.min\"\n",
       "      }\n",
       "    })"
      ],
      "text/plain": [
       "<IPython.core.display.Javascript object>"
      ]
     },
     "metadata": {},
     "output_type": "display_data"
    }
   ],
   "source": [
    "from IPython.display import HTML, Javascript, display\n",
    "\n",
    "def configure_d3():\n",
    "    display(Javascript(\"\"\"\n",
    "    require.config({\n",
    "      paths: {\n",
    "        d3: \"https://d3js.org/d3.v6.min\"\n",
    "      }\n",
    "    })\"\"\"))\n",
    "\n",
    "\n",
    "configure_d3()"
   ]
  },
  {
   "cell_type": "markdown",
   "metadata": {},
   "source": [
    "### Starting Graph"
   ]
  },
  {
   "cell_type": "code",
   "execution_count": 2,
   "metadata": {},
   "outputs": [
    {
     "data": {
      "text/html": [
       "<div id=\"gohere1\"></div>\n",
       "\n",
       "<script type=\"text/javascript\">   \n",
       "require(['d3'], function (d3) {\n",
       "    const width = 300\n",
       "    const height = 100\n",
       "    margin = 40 \n",
       "    const dataset = [3, 5, 5, 6, 15, 18]\n",
       "    \n",
       "    const svg = d3.select(\"div#gohere1\").append(\"svg\")\n",
       "        .attr(\"width\", width)\n",
       "        .attr(\"height\", height)\n",
       "    \n",
       "    const x = d3.scaleLinear().range([margin,width-margin]).domain(d3.extent(dataset,(d,i)=> i))\n",
       "    \n",
       "    svg.selectAll(\"circle\")\n",
       "    .data(dataset)\n",
       "    .join(\"circle\")\n",
       "    .attr(\"cx\", (d,i)=> x(i))\n",
       "    .attr(\"cy\", height/2)\n",
       "    .attr(\"r\", (d,i)=> d)\n",
       "});\n",
       "</script>\n"
      ],
      "text/plain": [
       "<IPython.core.display.HTML object>"
      ]
     },
     "metadata": {},
     "output_type": "display_data"
    }
   ],
   "source": [
    "%%html\n",
    "<div id=\"gohere1\"></div>\n",
    "\n",
    "<script type=\"text/javascript\">   \n",
    "require(['d3'], function (d3) {\n",
    "    const width = 300\n",
    "    const height = 100\n",
    "    margin = 40 \n",
    "    const dataset = [3, 5, 5, 6, 15, 18]\n",
    "    \n",
    "    const svg = d3.select(\"div#gohere1\").append(\"svg\")\n",
    "        .attr(\"width\", width)\n",
    "        .attr(\"height\", height)\n",
    "    \n",
    "    const x = d3.scaleLinear().range([margin,width-margin]).domain(d3.extent(dataset,(d,i)=> i))\n",
    "    \n",
    "    svg.selectAll(\"circle\")\n",
    "    .data(dataset)\n",
    "    .join(\"circle\")\n",
    "    .attr(\"cx\", (d,i)=> x(i))\n",
    "    .attr(\"cy\", height/2)\n",
    "    .attr(\"r\", (d,i)=> d)\n",
    "});\n",
    "</script>"
   ]
  },
  {
   "cell_type": "markdown",
   "metadata": {},
   "source": [
    "### Transition"
   ]
  },
  {
   "cell_type": "code",
   "execution_count": 3,
   "metadata": {},
   "outputs": [
    {
     "data": {
      "text/html": [
       "<div id=\"gohere2\"></div>\n",
       "\n",
       "<script type=\"text/javascript\">   \n",
       "require(['d3'], function (d3) {\n",
       "    const width = 300\n",
       "    const height = 100\n",
       "    margin = 40 \n",
       "    const dataset = [3, 5, 5, 6, 15, 18]\n",
       "    \n",
       "    const svg = d3.select(\"div#gohere2\").append(\"svg\")\n",
       "        .attr(\"width\", width)\n",
       "        .attr(\"height\", height)\n",
       "    \n",
       "    const x = d3.scaleLinear().range([margin,width-margin]).domain(d3.extent(dataset,(d,i)=> i))\n",
       "    \n",
       "    svg.selectAll(\"circle\")\n",
       "    .data(dataset)\n",
       "    .join(\"circle\")\n",
       "    .attr(\"cx\", (d,i)=> x(i))\n",
       "    .attr(\"cy\", height/2)\n",
       "    .attr(\"r\", 0)\n",
       "    .transition()\n",
       "    .attr(\"r\", (d,i)=> d)\n",
       "});\n",
       "</script>\n"
      ],
      "text/plain": [
       "<IPython.core.display.HTML object>"
      ]
     },
     "metadata": {},
     "output_type": "display_data"
    }
   ],
   "source": [
    "%%html\n",
    "<div id=\"gohere2\"></div>\n",
    "\n",
    "<script type=\"text/javascript\">   \n",
    "require(['d3'], function (d3) {\n",
    "    const width = 300\n",
    "    const height = 100\n",
    "    margin = 40 \n",
    "    const dataset = [3, 5, 5, 6, 15, 18]\n",
    "    \n",
    "    const svg = d3.select(\"div#gohere2\").append(\"svg\")\n",
    "        .attr(\"width\", width)\n",
    "        .attr(\"height\", height)\n",
    "    \n",
    "    const x = d3.scaleLinear().range([margin,width-margin]).domain(d3.extent(dataset,(d,i)=> i))\n",
    "    \n",
    "    svg.selectAll(\"circle\")\n",
    "    .data(dataset)\n",
    "    .join(\"circle\")\n",
    "    .attr(\"cx\", (d,i)=> x(i))\n",
    "    .attr(\"cy\", height/2)\n",
    "    .attr(\"r\", 0)\n",
    "    .transition()\n",
    "    .attr(\"r\", (d,i)=> d)\n",
    "});\n",
    "</script>"
   ]
  },
  {
   "cell_type": "markdown",
   "metadata": {},
   "source": [
    "### Duration\n",
    "\n",
    "Amount of time the transition takes in ms (1000 ms = 1 second)"
   ]
  },
  {
   "cell_type": "code",
   "execution_count": 4,
   "metadata": {},
   "outputs": [
    {
     "data": {
      "text/html": [
       "<div id=\"gohere3\"></div>\n",
       "\n",
       "<script type=\"text/javascript\">   \n",
       "require(['d3'], function (d3) {\n",
       "    const width = 300\n",
       "    const height = 100\n",
       "    margin = 40 \n",
       "    const dataset = [3, 5, 5, 6, 15, 18]\n",
       "    \n",
       "    const svg = d3.select(\"div#gohere3\").append(\"svg\")\n",
       "        .attr(\"width\", width)\n",
       "        .attr(\"height\", height)\n",
       "    \n",
       "    const x = d3.scaleLinear().range([margin,width-margin]).domain(d3.extent(dataset,(d,i)=> i))\n",
       "    \n",
       "    svg.selectAll(\"circle\")\n",
       "    .data(dataset)\n",
       "    .join(\"circle\")\n",
       "    .attr(\"cx\", (d,i)=> x(i))\n",
       "    .attr(\"cy\", height/2)\n",
       "    .attr(\"r\", 0)\n",
       "    .transition()\n",
       "    .duration(10000)\n",
       "    .attr(\"r\", (d,i)=> d)\n",
       "});\n",
       "</script>\n"
      ],
      "text/plain": [
       "<IPython.core.display.HTML object>"
      ]
     },
     "metadata": {},
     "output_type": "display_data"
    }
   ],
   "source": [
    "%%html\n",
    "<div id=\"gohere3\"></div>\n",
    "\n",
    "<script type=\"text/javascript\">   \n",
    "require(['d3'], function (d3) {\n",
    "    const width = 300\n",
    "    const height = 100\n",
    "    margin = 40 \n",
    "    const dataset = [3, 5, 5, 6, 15, 18]\n",
    "    \n",
    "    const svg = d3.select(\"div#gohere3\").append(\"svg\")\n",
    "        .attr(\"width\", width)\n",
    "        .attr(\"height\", height)\n",
    "    \n",
    "    const x = d3.scaleLinear().range([margin,width-margin]).domain(d3.extent(dataset,(d,i)=> i))\n",
    "    \n",
    "    svg.selectAll(\"circle\")\n",
    "    .data(dataset)\n",
    "    .join(\"circle\")\n",
    "    .attr(\"cx\", (d,i)=> x(i))\n",
    "    .attr(\"cy\", height/2)\n",
    "    .attr(\"r\", 0)\n",
    "    .transition()\n",
    "    .duration(10000)\n",
    "    .attr(\"r\", (d,i)=> d)\n",
    "});\n",
    "</script>"
   ]
  },
  {
   "cell_type": "markdown",
   "metadata": {},
   "source": [
    "### Delay\n",
    "\n",
    "Setting a specific delay on each element based on an amount of time. "
   ]
  },
  {
   "cell_type": "code",
   "execution_count": 5,
   "metadata": {},
   "outputs": [
    {
     "data": {
      "text/html": [
       "<div id=\"gohere4\"></div>\n",
       "\n",
       "<script type=\"text/javascript\">   \n",
       "require(['d3'], function (d3) {\n",
       "    const width = 300\n",
       "    const height = 100\n",
       "    margin = 40 \n",
       "    const dataset = [3, 5, 5, 6, 15, 18]\n",
       "    \n",
       "    const svg = d3.select(\"div#gohere4\").append(\"svg\")\n",
       "        .attr(\"width\", width)\n",
       "        .attr(\"height\", height)\n",
       "    \n",
       "    const x = d3.scaleLinear().range([margin,width-margin]).domain(d3.extent(dataset,(d,i)=> i))\n",
       "    \n",
       "    svg.selectAll(\"circle\")\n",
       "    .data(dataset)\n",
       "    .join(\"circle\")\n",
       "    .attr(\"cx\", (d,i)=> x(i))\n",
       "    .attr(\"cy\", height/2)\n",
       "    .attr(\"r\", 0)\n",
       "    .transition()\n",
       "    .duration(1000)\n",
       "    .delay((d,i)=> i*100)\n",
       "    .attr(\"r\", (d,i)=> d)\n",
       "});\n",
       "</script>\n"
      ],
      "text/plain": [
       "<IPython.core.display.HTML object>"
      ]
     },
     "metadata": {},
     "output_type": "display_data"
    }
   ],
   "source": [
    "%%html\n",
    "<div id=\"gohere4\"></div>\n",
    "\n",
    "<script type=\"text/javascript\">   \n",
    "require(['d3'], function (d3) {\n",
    "    const width = 300\n",
    "    const height = 100\n",
    "    margin = 40 \n",
    "    const dataset = [3, 5, 5, 6, 15, 18]\n",
    "    \n",
    "    const svg = d3.select(\"div#gohere4\").append(\"svg\")\n",
    "        .attr(\"width\", width)\n",
    "        .attr(\"height\", height)\n",
    "    \n",
    "    const x = d3.scaleLinear().range([margin,width-margin]).domain(d3.extent(dataset,(d,i)=> i))\n",
    "    \n",
    "    svg.selectAll(\"circle\")\n",
    "    .data(dataset)\n",
    "    .join(\"circle\")\n",
    "    .attr(\"cx\", (d,i)=> x(i))\n",
    "    .attr(\"cy\", height/2)\n",
    "    .attr(\"r\", 0)\n",
    "    .transition()\n",
    "    .duration(1000)\n",
    "    .delay((d,i)=> i*100)\n",
    "    .attr(\"r\", (d,i)=> d)\n",
    "});\n",
    "</script>"
   ]
  },
  {
   "cell_type": "markdown",
   "metadata": {},
   "source": [
    "### Easing\n",
    "\n",
    "The pattern the transition use. \n",
    "https://observablehq.com/@d3/easing-animations"
   ]
  },
  {
   "cell_type": "code",
   "execution_count": 6,
   "metadata": {},
   "outputs": [
    {
     "data": {
      "text/html": [
       "<div id=\"gohere5\"></div>\n",
       "\n",
       "<script type=\"text/javascript\">   \n",
       "require(['d3'], function (d3) {\n",
       "    const width = 300\n",
       "    const height = 100\n",
       "    margin = 40 \n",
       "    const dataset = [3, 5, 5, 6, 15, 18]\n",
       "    \n",
       "    const svg = d3.select(\"div#gohere5\").append(\"svg\")\n",
       "        .attr(\"width\", width)\n",
       "        .attr(\"height\", height)\n",
       "    \n",
       "    const x = d3.scaleLinear().range([margin,width-margin]).domain(d3.extent(dataset,(d,i)=> i))\n",
       "    \n",
       "    svg.selectAll(\"circle\")\n",
       "        .data(dataset)\n",
       "        .join(\"circle\")\n",
       "        .attr(\"cx\", (d,i)=> x(i))\n",
       "        .attr(\"cy\", height/2)\n",
       "        .attr(\"r\", 2)\n",
       "        .transition()\n",
       "        .duration(1000)\n",
       "        .attr(\"cy\", height/3)\n",
       "        .transition()\n",
       "        .duration(1000) \n",
       "        .attr(\"r\", (d,i)=> d)\n",
       "});\n",
       "</script>\n"
      ],
      "text/plain": [
       "<IPython.core.display.HTML object>"
      ]
     },
     "metadata": {},
     "output_type": "display_data"
    }
   ],
   "source": [
    "%%html\n",
    "<div id=\"gohere5\"></div>\n",
    "\n",
    "<script type=\"text/javascript\">   \n",
    "require(['d3'], function (d3) {\n",
    "    const width = 300\n",
    "    const height = 100\n",
    "    margin = 40 \n",
    "    const dataset = [3, 5, 5, 6, 15, 18]\n",
    "    \n",
    "    const svg = d3.select(\"div#gohere5\").append(\"svg\")\n",
    "        .attr(\"width\", width)\n",
    "        .attr(\"height\", height)\n",
    "    \n",
    "    const x = d3.scaleLinear().range([margin,width-margin]).domain(d3.extent(dataset,(d,i)=> i))\n",
    "    \n",
    "    svg.selectAll(\"circle\")\n",
    "        .data(dataset)\n",
    "        .join(\"circle\")\n",
    "        .attr(\"cx\", (d,i)=> x(i))\n",
    "        .attr(\"cy\", height/2)\n",
    "        .attr(\"r\", 2)\n",
    "        .transition()\n",
    "        .duration(1000)\n",
    "        .attr(\"cy\", height/3)\n",
    "        .transition()\n",
    "        .duration(1000) \n",
    "        .attr(\"r\", (d,i)=> d)\n",
    "});\n",
    "</script>"
   ]
  },
  {
   "cell_type": "markdown",
   "metadata": {},
   "source": [
    "Using inputs for transitions. \n",
    "\n",
    "There are a number of different types of [inputs](https://www.w3schools.com/html/html_form_input_types.asp), but we will be covering the following:\n",
    "\n",
    "\n",
    "\n",
    "*   Buttons\n",
    "*   Radio buttons\n",
    "*   Checkboxes\n",
    "*   Range\n"
   ]
  },
  {
   "cell_type": "markdown",
   "metadata": {},
   "source": [
    "### Buttons"
   ]
  },
  {
   "cell_type": "code",
   "execution_count": 7,
   "metadata": {},
   "outputs": [
    {
     "data": {
      "text/html": [
       "<input type=\"button\" id=\"button1\" onclick=\"console.log('Hello, Everyone!')\" value=\"Click the button\">\n"
      ],
      "text/plain": [
       "<IPython.core.display.HTML object>"
      ]
     },
     "metadata": {},
     "output_type": "display_data"
    }
   ],
   "source": [
    "%%html\n",
    "<input type=\"button\" id=\"button1\" onclick=\"console.log('Hello, Everyone!')\" value=\"Click the button\">"
   ]
  },
  {
   "cell_type": "markdown",
   "metadata": {},
   "source": [
    "### Radio buttons"
   ]
  },
  {
   "cell_type": "code",
   "execution_count": 15,
   "metadata": {},
   "outputs": [
    {
     "data": {
      "text/html": [
       "<input type=\"radio\" id=\"vanilla\" name=\"iceCream\" value=\"vanilla\">\n",
       "<label for=\"vanilla\">Vanilla</label><br>\n",
       "<input type=\"radio\" id=\"chocolate\" name=\"iceCream\" value=\"chocolate\">\n",
       "<label for=\"chocolate\">Chocolate</label><br>\n",
       "<input type=\"radio\" id=\"other\" name=\"iceCream\" value=\"other\" checked>\n",
       "<label for=\"other\">Other</label>\n"
      ],
      "text/plain": [
       "<IPython.core.display.HTML object>"
      ]
     },
     "metadata": {},
     "output_type": "display_data"
    }
   ],
   "source": [
    "%%html   \n",
    "<input type=\"radio\" id=\"vanilla\" name=\"iceCream\" value=\"vanilla\">\n",
    "<label for=\"vanilla\">Vanilla</label><br>\n",
    "<input type=\"radio\" id=\"chocolate\" name=\"iceCream\" value=\"chocolate\">\n",
    "<label for=\"chocolate\">Chocolate</label><br>\n",
    "<input type=\"radio\" id=\"other\" name=\"iceCream\" value=\"other\" checked>\n",
    "<label for=\"other\">Other</label>"
   ]
  },
  {
   "cell_type": "code",
   "execution_count": 9,
   "metadata": {},
   "outputs": [
    {
     "data": {
      "text/html": [
       "<input type=\"radio\" id=\"vanilla\" name=\"iceCream\" value=\"vanilla\" checked>\n",
       "<label for=\"vanilla\">Vanilla</label><br>\n",
       "<input type=\"radio\" id=\"chocolate\" name=\"iceCream\" value=\"chocolate\">\n",
       "<label for=\"chocolate\">Chocolate</label><br>\n",
       "<input type=\"radio\" id=\"other\" name=\"iceCream\" value=\"other\">\n",
       "<label for=\"other\">Other</label>\n"
      ],
      "text/plain": [
       "<IPython.core.display.HTML object>"
      ]
     },
     "metadata": {},
     "output_type": "display_data"
    }
   ],
   "source": [
    "%%html   \n",
    "<input type=\"radio\" id=\"vanilla\" name=\"iceCream\" value=\"vanilla\" checked>\n",
    "<label for=\"vanilla\">Vanilla</label><br>\n",
    "<input type=\"radio\" id=\"chocolate\" name=\"iceCream\" value=\"chocolate\">\n",
    "<label for=\"chocolate\">Chocolate</label><br>\n",
    "<input type=\"radio\" id=\"other\" name=\"iceCream\" value=\"other\">\n",
    "<label for=\"other\">Other</label>"
   ]
  },
  {
   "cell_type": "markdown",
   "metadata": {},
   "source": [
    "### Checkbox\n"
   ]
  },
  {
   "cell_type": "code",
   "execution_count": 10,
   "metadata": {},
   "outputs": [
    {
     "data": {
      "text/html": [
       "<input type=\"checkbox\" id=\"toppings1\" name=\"toppings1\" value=\"sprinkles\" checked>\n",
       "<label for=\"toppings1\">Sprinkles</label><br>\n",
       "<input type=\"checkbox\" id=\"toppings2\" name=\"toppings2\" value=\"whippedCream\" checked>\n",
       "<label for=\"toppings2\">Whipped Cream</label><br>\n",
       "<input type=\"checkbox\" id=\"toppings3\" name=\"toppings3\" value=\"cherry\" checked>\n",
       "<label for=\"toppings3\">Cherry</label>\n"
      ],
      "text/plain": [
       "<IPython.core.display.HTML object>"
      ]
     },
     "metadata": {},
     "output_type": "display_data"
    }
   ],
   "source": [
    "%%html\n",
    "<input type=\"checkbox\" id=\"toppings1\" name=\"toppings1\" value=\"sprinkles\" checked>\n",
    "<label for=\"toppings1\">Sprinkles</label><br>\n",
    "<input type=\"checkbox\" id=\"toppings2\" name=\"toppings2\" value=\"whippedCream\" checked>\n",
    "<label for=\"toppings2\">Whipped Cream</label><br>\n",
    "<input type=\"checkbox\" id=\"toppings3\" name=\"toppings3\" value=\"cherry\" checked>\n",
    "<label for=\"toppings3\">Cherry</label>"
   ]
  },
  {
   "cell_type": "markdown",
   "metadata": {},
   "source": [
    "### Sliders"
   ]
  },
  {
   "cell_type": "code",
   "execution_count": 11,
   "metadata": {},
   "outputs": [
    {
     "data": {
      "text/html": [
       "<input type=\"range\" id=\"orders\" name=\"orders\" min=\"0\" max=\"10\" value=\"5\" step=\"5\" style=\"width:200px\">\n",
       "<label for=\"orders\">Number of Orders</label>\n"
      ],
      "text/plain": [
       "<IPython.core.display.HTML object>"
      ]
     },
     "metadata": {},
     "output_type": "display_data"
    }
   ],
   "source": [
    "%%html\n",
    "<input type=\"range\" id=\"orders\" name=\"orders\" min=\"0\" max=\"10\" value=\"5\" step=\"5\" style=\"width:200px\">\n",
    "<label for=\"orders\">Number of Orders</label>"
   ]
  },
  {
   "cell_type": "markdown",
   "metadata": {},
   "source": [
    "### Adding a button"
   ]
  },
  {
   "cell_type": "code",
   "execution_count": 12,
   "metadata": {},
   "outputs": [
    {
     "data": {
      "text/html": [
       "<div id=\"gohere6\"></div>\n",
       "<input type=\"button\" id=\"button2\" value=\"Run the Transition!\">\n",
       "<script type=\"text/javascript\">   \n",
       "require(['d3'], function (d3) {\n",
       "    const width = 300\n",
       "    const height = 100\n",
       "    margin = 40 \n",
       "    const dataset = [3, 5, 5, 6, 15, 18]\n",
       "    \n",
       "    const svg = d3.select(\"div#gohere6\").append(\"svg\")\n",
       "        .attr(\"width\", width)\n",
       "        .attr(\"height\", height)\n",
       "    \n",
       "    const x = d3.scaleLinear().range([margin,width-margin]).domain(d3.extent(dataset,(d,i)=> i))\n",
       "    \n",
       "    svg.selectAll(\"circle\")\n",
       "        .data(dataset)\n",
       "        .join(\"circle\")\n",
       "        .attr(\"cx\", (d,i)=> x(i))\n",
       "        .attr(\"cy\", height/2)\n",
       "        .attr(\"r\", 1)\n",
       "    \n",
       "    // d3.select can select any element on our page\n",
       "    d3.select(\"input#button2\")\n",
       "        .on(\"click\",function() {\n",
       "            console.log(\"button pushed!\")\n",
       "        })\n",
       "\n",
       "\n",
       "});\n",
       "</script>\n"
      ],
      "text/plain": [
       "<IPython.core.display.HTML object>"
      ]
     },
     "metadata": {},
     "output_type": "display_data"
    }
   ],
   "source": [
    "%%html\n",
    "<div id=\"gohere6\"></div>\n",
    "<input type=\"button\" id=\"button2\" value=\"Run the Transition!\">\n",
    "<script type=\"text/javascript\">   \n",
    "require(['d3'], function (d3) {\n",
    "    const width = 300\n",
    "    const height = 100\n",
    "    margin = 40 \n",
    "    const dataset = [3, 5, 5, 6, 15, 18]\n",
    "    \n",
    "    const svg = d3.select(\"div#gohere6\").append(\"svg\")\n",
    "        .attr(\"width\", width)\n",
    "        .attr(\"height\", height)\n",
    "    \n",
    "    const x = d3.scaleLinear().range([margin,width-margin]).domain(d3.extent(dataset,(d,i)=> i))\n",
    "    \n",
    "    svg.selectAll(\"circle\")\n",
    "        .data(dataset)\n",
    "        .join(\"circle\")\n",
    "        .attr(\"cx\", (d,i)=> x(i))\n",
    "        .attr(\"cy\", height/2)\n",
    "        .attr(\"r\", 1)\n",
    "    \n",
    "    // d3.select can select any element on our page\n",
    "    d3.select(\"input#button2\")\n",
    "        .on(\"click\",function() {\n",
    "            console.log(\"button pushed!\")\n",
    "        })\n",
    "\n",
    "\n",
    "});\n",
    "</script>"
   ]
  },
  {
   "cell_type": "code",
   "execution_count": 13,
   "metadata": {},
   "outputs": [
    {
     "data": {
      "text/html": [
       "<div id=\"gohere7\"></div>\n",
       "<input type=\"button\" id=\"button3\" value=\"Run the Transition!\">\n",
       "<script type=\"text/javascript\">   \n",
       "require(['d3'], function (d3) {\n",
       "    const width = 300\n",
       "    const height = 100\n",
       "    margin = 40 \n",
       "    const dataset = [3, 5, 5, 6, 15, 18]\n",
       "    \n",
       "    const svg = d3.select(\"div#gohere7\").append(\"svg\")\n",
       "        .attr(\"width\", width)\n",
       "        .attr(\"height\", height)\n",
       "    \n",
       "    const x = d3.scaleLinear().range([margin,width-margin]).domain(d3.extent(dataset,(d,i)=> i))\n",
       "    \n",
       "    svg.selectAll(\"circle\")\n",
       "        .data(dataset)\n",
       "        .join(\"circle\")\n",
       "        .attr(\"cx\", (d,i)=> x(i))\n",
       "        .attr(\"cy\", height/2)\n",
       "        .attr(\"r\", 1)\n",
       "    \n",
       "    // d3.select can select any element on our page\n",
       "    d3.select(\"input#button3\")\n",
       "        .on(\"click\",function() {\n",
       "            // svg.select selects things in the given graph\n",
       "            svg.selectAll(\"circle\")\n",
       "                .transition()\n",
       "                .duration(1000)\n",
       "                .delay((d,i)=> i*100)\n",
       "                .attr(\"r\", (d,i)=> d)\n",
       "        })\n",
       "\n",
       "});\n",
       "</script>\n"
      ],
      "text/plain": [
       "<IPython.core.display.HTML object>"
      ]
     },
     "metadata": {},
     "output_type": "display_data"
    }
   ],
   "source": [
    "%%html\n",
    "<div id=\"gohere7\"></div>\n",
    "<input type=\"button\" id=\"button3\" value=\"Run the Transition!\">\n",
    "<script type=\"text/javascript\">   \n",
    "require(['d3'], function (d3) {\n",
    "    const width = 300\n",
    "    const height = 100\n",
    "    margin = 40 \n",
    "    const dataset = [3, 5, 5, 6, 15, 18]\n",
    "    \n",
    "    const svg = d3.select(\"div#gohere7\").append(\"svg\")\n",
    "        .attr(\"width\", width)\n",
    "        .attr(\"height\", height)\n",
    "    \n",
    "    const x = d3.scaleLinear().range([margin,width-margin]).domain(d3.extent(dataset,(d,i)=> i))\n",
    "    \n",
    "    svg.selectAll(\"circle\")\n",
    "        .data(dataset)\n",
    "        .join(\"circle\")\n",
    "        .attr(\"cx\", (d,i)=> x(i))\n",
    "        .attr(\"cy\", height/2)\n",
    "        .attr(\"r\", 1)\n",
    "    \n",
    "    // d3.select can select any element on our page\n",
    "    d3.select(\"input#button3\")\n",
    "        .on(\"click\",function() {\n",
    "            // svg.select selects things in the given graph\n",
    "            svg.selectAll(\"circle\")\n",
    "                .transition()\n",
    "                .duration(1000)\n",
    "                .delay((d,i)=> i*100)\n",
    "                .attr(\"r\", (d,i)=> d)\n",
    "        })\n",
    "\n",
    "});\n",
    "</script>"
   ]
  },
  {
   "cell_type": "code",
   "execution_count": 14,
   "metadata": {},
   "outputs": [
    {
     "data": {
      "text/html": [
       "<div id=\"gohere8\"></div>\n",
       "<input type=\"button\" id=\"button4\" value=\"Run the Transition!\">\n",
       "<script type=\"text/javascript\">   \n",
       "require(['d3'], function (d3) {\n",
       "    const width = 300\n",
       "    const height = 100\n",
       "    margin = 40 \n",
       "    const dataset = [3, 5, 5, 6, 15, 18]\n",
       "    \n",
       "    const svg = d3.select(\"div#gohere8\").append(\"svg\")\n",
       "        .attr(\"width\", width)\n",
       "        .attr(\"height\", height)\n",
       "    \n",
       "    const x = d3.scaleLinear().range([margin,width-margin]).domain(d3.extent(dataset,(d,i)=> i))\n",
       "    \n",
       "    svg.selectAll(\"circle\")\n",
       "        .data(dataset)\n",
       "        .join(\"circle\")\n",
       "        .attr(\"cx\", (d,i)=> x(i))\n",
       "        .attr(\"cy\", height/2)\n",
       "        .attr(\"r\", 1)\n",
       "    \n",
       "    var selected = 1;\n",
       "    \n",
       "    // d3.select can select any element on our page\n",
       "    d3.select(\"input#button4\")\n",
       "        .on(\"click\",function() {\n",
       "            // svg.select selects things in the given graph\n",
       "            if (selected) {\n",
       "                svg.selectAll(\"circle\")\n",
       "                    .transition()\n",
       "                    .duration(1000)\n",
       "                    .delay((d,i)=> i*100)\n",
       "                    .attr(\"r\", (d,i)=> d)  \n",
       "                selected = 0;\n",
       "            }\n",
       "            else {\n",
       "                svg.selectAll(\"circle\")\n",
       "                    .transition()\n",
       "                    .duration(1000)\n",
       "                    .delay((d,i)=> i*100)\n",
       "                    .attr(\"r\", (d,i)=> 1)  \n",
       "                selected = 1;\n",
       "            }\n",
       "\n",
       "        })\n",
       "\n",
       "});\n",
       "</script>\n"
      ],
      "text/plain": [
       "<IPython.core.display.HTML object>"
      ]
     },
     "metadata": {},
     "output_type": "display_data"
    }
   ],
   "source": [
    "%%html\n",
    "<div id=\"gohere8\"></div>\n",
    "<input type=\"button\" id=\"button4\" value=\"Run the Transition!\">\n",
    "<script type=\"text/javascript\">   \n",
    "require(['d3'], function (d3) {\n",
    "    const width = 300\n",
    "    const height = 100\n",
    "    margin = 40 \n",
    "    const dataset = [3, 5, 5, 6, 15, 18]\n",
    "    \n",
    "    const svg = d3.select(\"div#gohere8\").append(\"svg\")\n",
    "        .attr(\"width\", width)\n",
    "        .attr(\"height\", height)\n",
    "    \n",
    "    const x = d3.scaleLinear().range([margin,width-margin]).domain(d3.extent(dataset,(d,i)=> i))\n",
    "    \n",
    "    svg.selectAll(\"circle\")\n",
    "        .data(dataset)\n",
    "        .join(\"circle\")\n",
    "        .attr(\"cx\", (d,i)=> x(i))\n",
    "        .attr(\"cy\", height/2)\n",
    "        .attr(\"r\", 1)\n",
    "    \n",
    "    var selected = 1;\n",
    "    \n",
    "    // d3.select can select any element on our page\n",
    "    d3.select(\"input#button4\")\n",
    "        .on(\"click\",function() {\n",
    "            // svg.select selects things in the given graph\n",
    "            if (selected) {\n",
    "                svg.selectAll(\"circle\")\n",
    "                    .transition()\n",
    "                    .duration(1000)\n",
    "                    .delay((d,i)=> i*100)\n",
    "                    .attr(\"r\", (d,i)=> d)  \n",
    "                selected = 0;\n",
    "            }\n",
    "            else {\n",
    "                svg.selectAll(\"circle\")\n",
    "                    .transition()\n",
    "                    .duration(1000)\n",
    "                    .delay((d,i)=> i*100)\n",
    "                    .attr(\"r\", (d,i)=> 1)  \n",
    "                selected = 1;\n",
    "            }\n",
    "\n",
    "        })\n",
    "\n",
    "});\n",
    "</script>"
   ]
  },
  {
   "cell_type": "code",
   "execution_count": null,
   "metadata": {},
   "outputs": [],
   "source": []
  }
 ],
 "metadata": {
  "kernelspec": {
   "display_name": "Python 3",
   "language": "python",
   "name": "python3"
  },
  "language_info": {
   "codemirror_mode": {
    "name": "ipython",
    "version": 3
   },
   "file_extension": ".py",
   "mimetype": "text/x-python",
   "name": "python",
   "nbconvert_exporter": "python",
   "pygments_lexer": "ipython3",
   "version": "3.8.8"
  }
 },
 "nbformat": 4,
 "nbformat_minor": 4
}
