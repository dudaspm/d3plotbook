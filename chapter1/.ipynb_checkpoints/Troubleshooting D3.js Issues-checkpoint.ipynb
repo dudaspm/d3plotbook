{
 "cells": [
  {
   "cell_type": "markdown",
   "id": "da7254ec-93f5-4b36-b9f7-80b17ae2d23b",
   "metadata": {},
   "source": [
    "# Troubleshooting D3.js Issues"
   ]
  },
  {
   "cell_type": "markdown",
   "id": "65c87039-4dd9-4426-aad9-98cc624cb367",
   "metadata": {},
   "source": [
    "## Preface\n",
    "\n",
    "I have run into 1000s of issues during my development time with D3.js. This page will be a growing document to express the more common problems and basics of debugging. "
   ]
  },
  {
   "cell_type": "markdown",
   "id": "467309a2-c833-4e8a-9a65-4f9b0b3d0cf7",
   "metadata": {},
   "source": [
    "## Debugging\n",
    "\n",
    "I will provide a perspective from Chrome, but these ideas will carry through other browsers as well. "
   ]
  },
  {
   "cell_type": "markdown",
   "id": "01735f88-be32-448a-8216-f9239aeeffd5",
   "metadata": {},
   "source": [
    "### What is a debugger? \n",
    "\n",
    "There are much better places to learn more about debuggers, but at a high-level you use them to debug your code. Too be honest, it is mostly used to see errors or warning (usually, errors). Especially, when you are expecting to see something and that something does not show up. "
   ]
  },
  {
   "cell_type": "markdown",
   "id": "69bf7460-f278-449b-b0af-d7ed6b781a4a",
   "metadata": {
    "tags": []
   },
   "source": [
    "#### Accessing the Debugger (Developer Tools)\n",
    "\n",
    "When you have Chrome (or another browser open) and you create your code and...! Nothing happens. Your first stop should be, to find the Developer Tools. \n",
    "\n",
    "```{image} https://raw.githubusercontent.com/dudaspm/ProjectiOn/master/D3Tutorial/Images/debugger1.png\n",
    ":alt: Finding the Developer Tools\n",
    ":class: debugging\n",
    ":width: 500px\n",
    ":align: center\n",
    "```\n",
    "<br>"
   ]
  },
  {
   "cell_type": "markdown",
   "id": "7301c94a-8efb-4262-9407-ecea1f9cb8c0",
   "metadata": {},
   "source": [
    "```{note}\n",
    "You can also use the short-cut:\n",
    "* Chrome:\n",
    "    * Shift + ⌘ + I (on macOS) or Ctrl + Shift + I (on Windows/Linux)\n",
    "* Firefox:\n",
    "    * Shift + ⌘ + I (on macOS) or Shift + CTRL + I (on Windows/Linux)\n",
    "\n",
    "```"
   ]
  },
  {
   "cell_type": "markdown",
   "id": "980f1e94-5f57-48e6-b08b-1759887188d6",
   "metadata": {},
   "source": [
    "#### What is this Screen?\n",
    "\n",
    "```{image} https://raw.githubusercontent.com/dudaspm/ProjectiOn/master/D3Tutorial/Images/debugger2.png\n",
    ":alt: Finding the Developer Tools\n",
    ":class: debugging\n",
    ":width: 800px\n",
    ":align: center\n",
    "```\n",
    "<br>"
   ]
  },
  {
   "cell_type": "markdown",
   "id": "e78a7aeb-97b5-43d0-9b54-eb8d7b864a2e",
   "metadata": {},
   "source": [
    "There is a lot to unpack in this screen, but for our conversation, we will focus on the Console. I would highly recommended learning more about what is available in the Developer Tools, but this is bit too much for our conversation today. Please, see [Chrome Developer Tools](https://developer.chrome.com/docs/devtools/javascript/) for more information. "
   ]
  },
  {
   "cell_type": "markdown",
   "id": "3314d253-409b-4ac0-a654-f087696e9651",
   "metadata": {},
   "source": [
    "For now, we will stick with only the debugger, located in the Console (highlighted below).\n",
    "\n",
    "```{image} https://raw.githubusercontent.com/dudaspm/ProjectiOn/master/D3Tutorial/Images/debugger3.png\n",
    ":alt: Finding the Developer Tools (Console highlighted)\n",
    ":class: debugging\n",
    ":width: 800px\n",
    ":align: center\n",
    "```\n",
    "<br>"
   ]
  },
  {
   "cell_type": "markdown",
   "id": "cad6ce7d-e6ec-4e7f-85ad-8b53fee1d325",
   "metadata": {},
   "source": [
    "In the console, we will see errors that pop-up when running code. Let's see an example.\n",
    "\n",
    "#### Example Error and Developer Tool "
   ]
  },
  {
   "cell_type": "code",
   "execution_count": 6,
   "id": "c91d0e04-a68f-4bcc-92c8-d4ac599a7274",
   "metadata": {},
   "outputs": [
    {
     "data": {
      "text/html": [
       "<script type=\"module\">\n",
       "    \n",
       "    someVariable + 2 \n",
       "    \n",
       "</script>\n"
      ],
      "text/plain": [
       "<IPython.core.display.HTML object>"
      ]
     },
     "metadata": {},
     "output_type": "display_data"
    }
   ],
   "source": [
    "%%html\n",
    "<script type=\"module\">\n",
    "    \n",
    "    someVariable + 2 \n",
    "    \n",
    "</script>"
   ]
  },
  {
   "cell_type": "markdown",
   "id": "a3b52a60-98e7-443e-820d-22234fa032d1",
   "metadata": {},
   "source": [
    "&#8593; Code will not run &#8593;"
   ]
  },
  {
   "cell_type": "markdown",
   "id": "88195ad9-ae04-43e1-a7bb-0b4fa1094cde",
   "metadata": {},
   "source": [
    "Let's take a look at the Console.\n",
    "\n",
    "```{image} https://raw.githubusercontent.com/dudaspm/ProjectiOn/master/D3Tutorial/Images/debugger4.png\n",
    ":alt: Finding the Developer Tools (Console highlighted)\n",
    ":class: debugging\n",
    ":width: 800px\n",
    ":align: center\n",
    "```\n",
    "<br>\n",
    "\n",
    "The error will specify two important things:\n",
    "* What the error is (good for Google Searching)\n",
    "    * In this case, \"Uncaught ReferenceError: someVariable is not defined\"\n",
    "* Where the error occured\n",
    "    * In this case, line 3. \n",
    "    \n",
    "Now, you may ask yourself, isn't \n",
    "\n",
    "```javascript\n",
    "someVariable + 2 \n",
    "``` \n",
    "\n",
    "on line 3? You would be correct, but our first line is telling Jupyter to run html code. So, start counting after\n",
    "```python\n",
    "%%html\n",
    "```"
   ]
  }
 ],
 "metadata": {
  "kernelspec": {
   "display_name": "Python 3 (ipykernel)",
   "language": "python",
   "name": "python3"
  },
  "language_info": {
   "codemirror_mode": {
    "name": "ipython",
    "version": 3
   },
   "file_extension": ".py",
   "mimetype": "text/x-python",
   "name": "python",
   "nbconvert_exporter": "python",
   "pygments_lexer": "ipython3",
   "version": "3.7.6"
  }
 },
 "nbformat": 4,
 "nbformat_minor": 5
}
