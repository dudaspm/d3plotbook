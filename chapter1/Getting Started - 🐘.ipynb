{
 "cells": [
  {
   "cell_type": "markdown",
   "metadata": {},
   "source": [
    "# Getting Started  - 🐘"
   ]
  },
  {
   "cell_type": "markdown",
   "metadata": {},
   "source": [
    "## From the Top!"
   ]
  },
  {
   "cell_type": "markdown",
   "metadata": {},
   "source": [
    "### Why am I here?"
   ]
  },
  {
   "cell_type": "markdown",
   "metadata": {},
   "source": [
    "You are here to learn about D3.js, which is a data visualization library, and how to use D3.js in Jupyter. The skills learned in here can easily be translated outside of Jupyter, but this is the simplist way to get started with D3.js."
   ]
  },
  {
   "cell_type": "markdown",
   "metadata": {},
   "source": [
    "If you are interested in how to do this for observablehq.com, here is a link to that discussion: https://observablehq.com/@dudaspm/learning-d3-part-1?collection=@dudaspm/d3-in-observablehq"
   ]
  },
  {
   "cell_type": "markdown",
   "metadata": {},
   "source": [
    "### Who should be here?"
   ]
  },
  {
   "cell_type": "markdown",
   "metadata": {},
   "source": [
    "This is meant to be an introduction to D3 (and a little bit of introduction to Jupyter). I am focused on helping people who have little to no programming experence. I may use a technical term here and there, but my goal is to create analogies whenever I can and include some technical terms to make searching for more details accessible."
   ]
  },
  {
   "cell_type": "markdown",
   "metadata": {},
   "source": [
    "### Who am I?"
   ]
  },
  {
   "cell_type": "markdown",
   "metadata": {},
   "source": [
    "I am teacher and D3 user for about 10 years, back when we used to call it [Protovis](http://vis.stanford.edu/papers/protovis). Even before that I was using SVG, XSLT, XPath, and XML to make interactive graphs (note, don't worry about looking these up, this type of development is REALLY old and outdated). \n",
    "\n",
    "I am very passionate about helping people increase their visual literacy, or simply, using data to tell better visual stories."
   ]
  },
  {
   "cell_type": "markdown",
   "metadata": {},
   "source": [
    "## Let's start"
   ]
  },
  {
   "cell_type": "markdown",
   "metadata": {},
   "source": [
    "### Our easel"
   ]
  },
  {
   "cell_type": "markdown",
   "metadata": {},
   "source": [
    "```{image} https://upload.wikimedia.org/wikipedia/commons/a/ae/Tripod_easel.jpg\n",
    ":alt: an easel\n",
    ":class: start\n",
    ":width: 200px\n",
    ":align: center\n",
    "```\n",
    "<br>"
   ]
  },
  {
   "cell_type": "markdown",
   "metadata": {},
   "source": [
    "<cite>File:Tripod easel.jpg. (2019, January 24). Wikimedia Commons, the free media repository. Retrieved 14:27, June 1, 2020 from https://commons.wikimedia.org/w/index.php?title=File:Tripod_easel.jpg&oldid=336282573.</cite>"
   ]
  },
  {
   "cell_type": "markdown",
   "metadata": {},
   "source": [
    "When you want to create artwork, you need something to draw on. For this anology, I will be calling this the easel."
   ]
  },
  {
   "cell_type": "markdown",
   "metadata": {},
   "source": [
    "### Our paint"
   ]
  },
  {
   "cell_type": "markdown",
   "metadata": {},
   "source": [
    "```{image} https://upload.wikimedia.org/wikipedia/commons/0/04/Oil_painting_palette.jpg\n",
    ":alt: Oil painting palette\n",
    ":class: start\n",
    ":width: 200px\n",
    ":align: center\n",
    "```\n",
    "<br>"
   ]
  },
  {
   "cell_type": "markdown",
   "metadata": {},
   "source": [
    "<cite>File:Oil painting palette.jpg. (2017, September 27). Wikimedia Commons, the free media repository. Retrieved 14:57, January 7, 2022 from https://commons.wikimedia.org/w/index.php?title=File:Oil_painting_palette.jpg&oldid=260097528.<cite>"
   ]
  },
  {
   "cell_type": "markdown",
   "metadata": {},
   "source": [
    "Now before you get our easel ready, we need to pick a type of paint or art medium (water colors, markers, finger paints). Well in this analogy we are choosing D3 as our art medium. So, let's start by declaring, in our notebook, that we will be using D3."
   ]
  },
  {
   "cell_type": "markdown",
   "metadata": {},
   "source": [
    "I DECLARE I WANT TO USE D3!"
   ]
  },
  {
   "cell_type": "markdown",
   "metadata": {},
   "source": [
    "No, no...close... but we need to do this in a way that tells the notebook you want to use the D3.js. "
   ]
  },
  {
   "cell_type": "markdown",
   "metadata": {},
   "source": [
    "### (Required First Step) Enabling D3 in Jupyter Lab/Google Colab"
   ]
  },
  {
   "cell_type": "markdown",
   "metadata": {},
   "source": [
    "All code will be kept modular or basically independent of each other. There will be a few examples that will go against this idea, but those will be explained later. For the most part, we need to start a new (code) cell (+), leave it as code and have the basic structure:\n",
    "\n",
    "```python\n",
    "%%html\n",
    "<script type=\"module\">\n",
    "    import * as d3 from \"https://cdn.skypack.dev/d3@7\";  \n",
    "\n",
    "</script>\n",
    "```\n",
    "The \n",
    "```python \n",
    "%%html \n",
    "```\n",
    "tells Jupyter Lab that code in this cell will be HTML\n",
    "\n",
    "\n",
    "The example below should output a blue circle. If so, everything is working properly!"
   ]
  },
  {
   "cell_type": "markdown",
   "metadata": {},
   "source": [
    "\n"
   ]
  },
  {
   "cell_type": "markdown",
   "metadata": {},
   "source": [
    "### Both Colab and Jupyter Lab will be able to run the following example"
   ]
  },
  {
   "cell_type": "code",
   "execution_count": 8,
   "metadata": {},
   "outputs": [
    {
     "data": {
      "text/html": [
       "<div id=\"example1\"></div>\n",
       "\n",
       "<script type=\"module\">\n",
       "    import * as d3 from \"https://cdn.skypack.dev/d3@7\";  \n",
       "    var width = 300\n",
       "    var height = 100\n",
       "    \n",
       "    var svg = d3.select(\"div#example1\").append(\"svg\")\n",
       "        .attr(\"width\", width)\n",
       "        .attr(\"height\", height)\n",
       "\n",
       "    var circle = svg.append(\"circle\")\n",
       "        .attr(\"cx\", 150)\n",
       "        .attr(\"cy\", 50)\n",
       "        .attr(\"r\", 20)\n",
       "        .style(\"fill\", \"blue\")\n",
       "        .style(\"stroke\", \"black\")\n",
       "\n",
       "</script>\n"
      ],
      "text/plain": [
       "<IPython.core.display.HTML object>"
      ]
     },
     "metadata": {},
     "output_type": "display_data"
    }
   ],
   "source": [
    "%%html\n",
    "<div id=\"example1\"></div>\n",
    "\n",
    "<script type=\"module\">\n",
    "    import * as d3 from \"https://cdn.skypack.dev/d3@7\";  \n",
    "    var width = 300\n",
    "    var height = 100\n",
    "    \n",
    "    var svg = d3.select(\"div#example1\").append(\"svg\")\n",
    "        .attr(\"width\", width)\n",
    "        .attr(\"height\", height)\n",
    "\n",
    "    var circle = svg.append(\"circle\")\n",
    "        .attr(\"cx\", 150)\n",
    "        .attr(\"cy\", 50)\n",
    "        .attr(\"r\", 20)\n",
    "        .style(\"fill\", \"blue\")\n",
    "        .style(\"stroke\", \"black\")\n",
    "\n",
    "</script>"
   ]
  },
  {
   "cell_type": "markdown",
   "metadata": {},
   "source": [
    "### Our canvas"
   ]
  },
  {
   "cell_type": "markdown",
   "metadata": {},
   "source": [
    "\n",
    "\n",
    "<cite>File:Splined Canvas.jpg. (2015, October 11). Wikimedia Commons, the free media repository. Retrieved 14:38, June 1, 2020 from https://commons.wikimedia.org/w/index.php?title=File:Splined_Canvas.jpg&oldid=175318221.</cite>"
   ]
  },
  {
   "cell_type": "markdown",
   "metadata": {},
   "source": [
    "The next analogy we need to consider is the canvas for our art work. I need to be a bit careful here, if you have a bit of visualization background, especially online. You may have heard of a programming langauge called Canvas. This is not that Canvas. For the sake of simplicity, I will be using the lower case \"canvas\" to reference the supporting medium for our D3.js art."
   ]
  },
  {
   "cell_type": "markdown",
   "metadata": {},
   "source": [
    "Let's start talking about what is needed to create the canvas. We basically need to know two things: \n",
    "\n",
    "* Height of the canvas\n",
    "* Width of the canvas\n",
    "\n",
    "In the image below, I am assuming the width of canvas will be 600 (600 pixels) and height will be 400 (400 pixels)."
   ]
  },
  {
   "cell_type": "markdown",
   "metadata": {},
   "source": [
    "```{image} https://raw.githubusercontent.com/dudaspm/ProjectiOn/master/D3Tutorial/Images/intro_2.PNG\n",
    ":alt: a palette\n",
    ":class: array\n",
    ":width: 300px\n",
    ":align: center\n",
    "```\n",
    "<br>"
   ]
  },
  {
   "cell_type": "code",
   "execution_count": 9,
   "metadata": {},
   "outputs": [
    {
     "data": {
      "text/html": [
       "<div id=\"example2\"></div>\n",
       "\n",
       "<script type=\"module\">\n",
       "    import * as d3 from \"https://cdn.skypack.dev/d3@7\";   \n",
       "    var width = 600\n",
       "    var height = 400\n",
       "    \n",
       "    var svg = d3.select(\"div#example2\").append(\"svg\")\n",
       "        .attr(\"width\", width)\n",
       "        .attr(\"height\", height)\n",
       "\n",
       "</script>\n"
      ],
      "text/plain": [
       "<IPython.core.display.HTML object>"
      ]
     },
     "metadata": {},
     "output_type": "display_data"
    }
   ],
   "source": [
    "%%html\n",
    "<div id=\"example2\"></div>\n",
    "\n",
    "<script type=\"module\">\n",
    "    import * as d3 from \"https://cdn.skypack.dev/d3@7\";   \n",
    "    var width = 600\n",
    "    var height = 400\n",
    "    \n",
    "    var svg = d3.select(\"div#example2\").append(\"svg\")\n",
    "        .attr(\"width\", width)\n",
    "        .attr(\"height\", height)\n",
    "\n",
    "</script>"
   ]
  },
  {
   "cell_type": "markdown",
   "metadata": {},
   "source": [
    "Let's walk through this...\n",
    "\n",
    "Variable types, as the name suggests, are the types of variables you can have in Javascript. For now, we will use one type: var or var(iable). This means the variable will available throughout our code. \n",
    "\n",
    "Variables we will need:\n",
    "* Well the first two are pretty straight forward, we need our canvas to have a width and height. So...\n",
    "  * var width = 600\n",
    "    * or in human words... our variable called \"width\" will be 600.\n",
    "  * var height = 400 \n",
    "    * or in human words... our variable called \"height\" will be 400.\n",
    "* and this one is bit more difficult, but we need to our canvas to be these values\n",
    "  * var svg = d3.select(\"div#example2\").append(\"svg\").attr(\"width\", width).attr(\"height\", height)\n",
    "    * we're going to talk more about d3.select and d3.selectAll later, but for now you can assume that we are selecting the given cell (our easel) that we are in and adding our canvas of width (600) and height (400) to it`"
   ]
  },
  {
   "cell_type": "markdown",
   "metadata": {},
   "source": [
    "TA DA! You did! You made your first \"canvas\" in the art of D3.js!"
   ]
  },
  {
   "cell_type": "markdown",
   "metadata": {},
   "source": [
    "### Our shapes"
   ]
  },
  {
   "cell_type": "markdown",
   "metadata": {},
   "source": [
    "There are number of shapes we can add to our canvas, but for now we will focus on one of those shapes. Here is a listed of the available [shape types](https://developer.mozilla.org/en-US/docs/Web/SVG/Tutorial/Basic_Shapes)."
   ]
  },
  {
   "cell_type": "markdown",
   "metadata": {},
   "source": [
    "Our first shape we will add is a circle. A circle requires 3 things: its x position (cx), its y position (cy), and a radius (r). Here is an example mock-up for a circle at position (160, 280) and radius 80."
   ]
  },
  {
   "cell_type": "markdown",
   "metadata": {},
   "source": [
    "```{image} https://raw.githubusercontent.com/dudaspm/ProjectiOn/master/D3Tutorial/Images/circle_1.PNG\n",
    ":alt: a palette\n",
    ":class: array\n",
    ":width: 300px\n",
    ":align: center\n",
    "``` \n",
    "<br>"
   ]
  },
  {
   "cell_type": "markdown",
   "metadata": {},
   "source": [
    "To do this, we take our canvas and *append*, well, a circle. Considering a circle needs a cx, cy, and r, we will add those as attr(ibutes). Which gets us..."
   ]
  },
  {
   "cell_type": "code",
   "execution_count": 10,
   "metadata": {},
   "outputs": [
    {
     "data": {
      "text/html": [
       "<div id=\"example3\"></div>\n",
       "\n",
       "<script type=\"module\">\n",
       "    import * as d3 from \"https://cdn.skypack.dev/d3@7\";  \n",
       "    var width = 600\n",
       "    var height = 400\n",
       "    \n",
       "    var svg = d3.select(\"div#example3\").append(\"svg\")\n",
       "        .attr(\"width\", width)\n",
       "        .attr(\"height\", height)\n",
       "    \n",
       "    svg.append(\"circle\")\n",
       "        .attr(\"cx\", 160)\n",
       "        .attr(\"cy\", 280)\n",
       "        .attr(\"r\", 80)\n",
       "</script>\n"
      ],
      "text/plain": [
       "<IPython.core.display.HTML object>"
      ]
     },
     "metadata": {},
     "output_type": "display_data"
    }
   ],
   "source": [
    "%%html\n",
    "<div id=\"example3\"></div>\n",
    "\n",
    "<script type=\"module\">\n",
    "    import * as d3 from \"https://cdn.skypack.dev/d3@7\";  \n",
    "    var width = 600\n",
    "    var height = 400\n",
    "    \n",
    "    var svg = d3.select(\"div#example3\").append(\"svg\")\n",
    "        .attr(\"width\", width)\n",
    "        .attr(\"height\", height)\n",
    "    \n",
    "    svg.append(\"circle\")\n",
    "        .attr(\"cx\", 160)\n",
    "        .attr(\"cy\", 280)\n",
    "        .attr(\"r\", 80)\n",
    "</script>"
   ]
  },
  {
   "cell_type": "markdown",
   "metadata": {},
   "source": [
    "I want to point out something that may look confusing. Some may notice that circle appears to be lower than expected. That is because in HTML (the structure of webpages), the 0,0 point is in the top left (figure 2 below) and not the bottom left (figure 1 below). Just something to be mindful of moving forward."
   ]
  },
  {
   "cell_type": "markdown",
   "metadata": {},
   "source": [
    "```{list-table}\n",
    ":header-rows: 0\n",
    "\n",
    "* - <img src='https://raw.githubusercontent.com/dudaspm/ProjectiOn/master/D3Tutorial/Images/corner_1.PNG' alt=\"0,0 bottom right\" width=\"200\" />\n",
    "  - <img src='https://raw.githubusercontent.com/dudaspm/ProjectiOn/master/D3Tutorial/Images/corner_2.PNG' alt=\"0,0 top left\" width=\"200\" />\n",
    "* - Figure 1 - </br>How most assume an X,Y coordinate would look.\n",
    "  - Figure 2 - </br>How it is done in HTML and thus, D3.js\n",
    "```"
   ]
  },
  {
   "cell_type": "markdown",
   "metadata": {},
   "source": [
    "To create the actual graph from above, we need to take advantage of the height variable to do so. "
   ]
  },
  {
   "cell_type": "code",
   "execution_count": 11,
   "metadata": {},
   "outputs": [
    {
     "data": {
      "text/html": [
       "<div id=\"example4\"></div>\n",
       "\n",
       "<script type=\"module\">\n",
       "    import * as d3 from \"https://cdn.skypack.dev/d3@7\";  \n",
       "    var width = 600\n",
       "    var height = 400\n",
       "    \n",
       "    var svg = d3.select(\"div#example4\").append(\"svg\")\n",
       "        .attr(\"width\", width)\n",
       "        .attr(\"height\", height)\n",
       "    \n",
       "    svg.append(\"circle\")\n",
       "        .attr(\"cx\", 160)\n",
       "        .attr(\"cy\", height - 280)\n",
       "        .attr(\"r\", 80)\n",
       "\n",
       "</script>\n"
      ],
      "text/plain": [
       "<IPython.core.display.HTML object>"
      ]
     },
     "metadata": {},
     "output_type": "display_data"
    }
   ],
   "source": [
    "%%html\n",
    "<div id=\"example4\"></div>\n",
    "\n",
    "<script type=\"module\">\n",
    "    import * as d3 from \"https://cdn.skypack.dev/d3@7\";  \n",
    "    var width = 600\n",
    "    var height = 400\n",
    "    \n",
    "    var svg = d3.select(\"div#example4\").append(\"svg\")\n",
    "        .attr(\"width\", width)\n",
    "        .attr(\"height\", height)\n",
    "    \n",
    "    svg.append(\"circle\")\n",
    "        .attr(\"cx\", 160)\n",
    "        .attr(\"cy\", height - 280)\n",
    "        .attr(\"r\", 80)\n",
    "\n",
    "</script>"
   ]
  },
  {
   "cell_type": "markdown",
   "metadata": {},
   "source": [
    "There we go!"
   ]
  },
  {
   "cell_type": "markdown",
   "metadata": {},
   "source": [
    "## Your Turn"
   ]
  },
  {
   "cell_type": "markdown",
   "metadata": {},
   "source": [
    "Your turn: Create a new easel and canvas. On the canvas, add 3 circles to your canvas at different places and of different sizes."
   ]
  },
  {
   "cell_type": "code",
   "execution_count": 12,
   "metadata": {},
   "outputs": [
    {
     "data": {
      "text/html": [
       "<div id=\"example5\"></div>\n",
       "\n",
       "<script type=\"module\">\n",
       "    import * as d3 from \"https://cdn.skypack.dev/d3@7\";   \n",
       "    var width = 600\n",
       "    var height = 400\n",
       "    \n",
       "    var svg = d3.select(\"div#example5\").append(\"svg\")\n",
       "        .attr(\"width\", width)\n",
       "        .attr(\"height\", height)\n",
       "    \n",
       "    // YOUR CODE HERE //\n",
       "\n",
       "</script>\n"
      ],
      "text/plain": [
       "<IPython.core.display.HTML object>"
      ]
     },
     "metadata": {},
     "output_type": "display_data"
    }
   ],
   "source": [
    "%%html\n",
    "<div id=\"example5\"></div>\n",
    "\n",
    "<script type=\"module\">\n",
    "    import * as d3 from \"https://cdn.skypack.dev/d3@7\";  \n",
    "    \n",
    "    var width = 600\n",
    "    var height = 400\n",
    "    \n",
    "    var svg = d3.select(\"div#example5\").append(\"svg\")\n",
    "        .attr(\"width\", width)\n",
    "        .attr(\"height\", height)\n",
    "    \n",
    "    // YOUR CODE HERE //\n",
    "\n",
    "</script>"
   ]
  },
  {
   "cell_type": "markdown",
   "metadata": {},
   "source": [
    "Your turn: Create a new easel and canvas. On the canvas, add a rectangle to your canvas at different places and of different sizes.\n",
    "\n",
    "To help, here is an SVG Rectangle\n",
    "```html\n",
    "<svg width=\"600\" height=\"400\">\n",
    "  <rect x=\"10\" y=\"10\" width=\"30\" height=\"30\" />\n",
    "</svg>\n",
    "```"
   ]
  },
  {
   "cell_type": "code",
   "execution_count": 13,
   "metadata": {},
   "outputs": [
    {
     "data": {
      "text/html": [
       "<div id=\"example6\"></div>\n",
       "\n",
       "<script type=\"module\">\n",
       "    import * as d3 from \"https://cdn.skypack.dev/d3@7\";   \n",
       "    var width = 600\n",
       "    var height = 400\n",
       "    \n",
       "    var svg = d3.select(\"div#example6\").append(\"svg\")\n",
       "        .attr(\"width\", width)\n",
       "        .attr(\"height\", height)\n",
       "    \n",
       "    // YOUR CODE HERE //\n",
       "\n",
       "</script>\n"
      ],
      "text/plain": [
       "<IPython.core.display.HTML object>"
      ]
     },
     "metadata": {},
     "output_type": "display_data"
    }
   ],
   "source": [
    "%%html\n",
    "<div id=\"example6\"></div>\n",
    "\n",
    "<script type=\"module\">\n",
    "    import * as d3 from \"https://cdn.skypack.dev/d3@7\";   \n",
    "    var width = 600\n",
    "    var height = 400\n",
    "    \n",
    "    var svg = d3.select(\"div#example6\").append(\"svg\")\n",
    "        .attr(\"width\", width)\n",
    "        .attr(\"height\", height)\n",
    "    \n",
    "    // YOUR CODE HERE //\n",
    "\n",
    "</script>"
   ]
  }
 ],
 "metadata": {
  "kernelspec": {
   "display_name": "Python 3",
   "language": "python",
   "name": "python3"
  },
  "language_info": {
   "codemirror_mode": {
    "name": "ipython",
    "version": 3
   },
   "file_extension": ".py",
   "mimetype": "text/x-python",
   "name": "python",
   "nbconvert_exporter": "python",
   "pygments_lexer": "ipython3",
   "version": "3.8.8"
  },
  "toc-showcode": false,
  "toc-showmarkdowntxt": true,
  "toc-showtags": true
 },
 "nbformat": 4,
 "nbformat_minor": 4
}
